{
 "cells": [
  {
   "cell_type": "markdown",
   "metadata": {
    "id": "7GRENunzTHjU"
   },
   "source": [
    "# Pandas"
   ]
  },
  {
   "cell_type": "markdown",
   "metadata": {
    "id": "spzQxgBfTMW-"
   },
   "source": [
    "### Missing data\n",
    "\n",
    "We will go through the methods on how to handle the missing data in pandas dataframe"
   ]
  },
  {
   "cell_type": "code",
   "execution_count": null,
   "metadata": {
    "id": "0ahAALODTFbk"
   },
   "outputs": [],
   "source": [
    "# Import pandas and numpy\n"
   ]
  },
  {
   "cell_type": "code",
   "execution_count": null,
   "metadata": {
    "id": "BQb1q2JlTX6x"
   },
   "outputs": [],
   "source": [
    "# Create pandas data frame with NaN values\n",
    "df = pd.DataFrame({'A':[1,2,np.nan],\n",
    "                  'B':[5,np.nan,np.nan],\n",
    "                  'C':[1,2,3]})"
   ]
  },
  {
   "cell_type": "code",
   "execution_count": null,
   "metadata": {
    "colab": {
     "base_uri": "https://localhost:8080/",
     "height": 142
    },
    "executionInfo": {
     "elapsed": 1200,
     "status": "ok",
     "timestamp": 1611462336225,
     "user": {
      "displayName": "Niraj Pahari",
      "photoUrl": "https://lh3.googleusercontent.com/a-/AOh14GgMhuGXLREiRVNAuekjP4QMHW33ne-Htx4lQfSX1w=s64",
      "userId": "09277333043831904871"
     },
     "user_tz": -420
    },
    "id": "Ne8EfIh0TgNh",
    "outputId": "2363eb61-08e9-43ad-cd3e-f12c96e47aad"
   },
   "outputs": [],
   "source": [
    "# Display the df\n"
   ]
  },
  {
   "cell_type": "markdown",
   "metadata": {
    "id": "wZ34RSTaTtpb"
   },
   "source": [
    "Drop the columns or rows with null value\n",
    "- axis = 0 for row\n",
    "- axis = 1 for column"
   ]
  },
  {
   "cell_type": "code",
   "execution_count": null,
   "metadata": {
    "colab": {
     "base_uri": "https://localhost:8080/",
     "height": 80
    },
    "executionInfo": {
     "elapsed": 1191,
     "status": "ok",
     "timestamp": 1611462336227,
     "user": {
      "displayName": "Niraj Pahari",
      "photoUrl": "https://lh3.googleusercontent.com/a-/AOh14GgMhuGXLREiRVNAuekjP4QMHW33ne-Htx4lQfSX1w=s64",
      "userId": "09277333043831904871"
     },
     "user_tz": -420
    },
    "id": "PvlGA7ipTitD",
    "outputId": "6bb260c0-ea70-4815-b54e-2224e119f65d"
   },
   "outputs": [],
   "source": [
    "# Drop rows with null values\n"
   ]
  },
  {
   "cell_type": "code",
   "execution_count": null,
   "metadata": {
    "colab": {
     "base_uri": "https://localhost:8080/",
     "height": 80
    },
    "executionInfo": {
     "elapsed": 1920,
     "status": "ok",
     "timestamp": 1611462336966,
     "user": {
      "displayName": "Niraj Pahari",
      "photoUrl": "https://lh3.googleusercontent.com/a-/AOh14GgMhuGXLREiRVNAuekjP4QMHW33ne-Htx4lQfSX1w=s64",
      "userId": "09277333043831904871"
     },
     "user_tz": -420
    },
    "id": "28BQhzShT1_n",
    "outputId": "6cde9a65-6306-4bec-9aed-db164e5797eb"
   },
   "outputs": [],
   "source": []
  },
  {
   "cell_type": "code",
   "execution_count": null,
   "metadata": {
    "colab": {
     "base_uri": "https://localhost:8080/",
     "height": 142
    },
    "executionInfo": {
     "elapsed": 1909,
     "status": "ok",
     "timestamp": 1611462336967,
     "user": {
      "displayName": "Niraj Pahari",
      "photoUrl": "https://lh3.googleusercontent.com/a-/AOh14GgMhuGXLREiRVNAuekjP4QMHW33ne-Htx4lQfSX1w=s64",
      "userId": "09277333043831904871"
     },
     "user_tz": -420
    },
    "id": "njMDSyOIT4dN",
    "outputId": "41bdcd04-f3e2-4175-efe4-c089b67037b5"
   },
   "outputs": [],
   "source": [
    "# Drop column with null values\n"
   ]
  },
  {
   "cell_type": "markdown",
   "metadata": {
    "id": "k34xfriFV0yo"
   },
   "source": [
    "Filling values to the null values"
   ]
  },
  {
   "cell_type": "code",
   "execution_count": null,
   "metadata": {
    "colab": {
     "base_uri": "https://localhost:8080/",
     "height": 142
    },
    "executionInfo": {
     "elapsed": 1899,
     "status": "ok",
     "timestamp": 1611462336968,
     "user": {
      "displayName": "Niraj Pahari",
      "photoUrl": "https://lh3.googleusercontent.com/a-/AOh14GgMhuGXLREiRVNAuekjP4QMHW33ne-Htx4lQfSX1w=s64",
      "userId": "09277333043831904871"
     },
     "user_tz": -420
    },
    "id": "stAu-MYKUYnb",
    "outputId": "e212c0bd-67ef-425c-928f-f64214c350b4"
   },
   "outputs": [],
   "source": [
    "# Fill null values with a constant value\n"
   ]
  },
  {
   "cell_type": "code",
   "execution_count": null,
   "metadata": {
    "colab": {
     "base_uri": "https://localhost:8080/",
     "height": 142
    },
    "executionInfo": {
     "elapsed": 1889,
     "status": "ok",
     "timestamp": 1611462336969,
     "user": {
      "displayName": "Niraj Pahari",
      "photoUrl": "https://lh3.googleusercontent.com/a-/AOh14GgMhuGXLREiRVNAuekjP4QMHW33ne-Htx4lQfSX1w=s64",
      "userId": "09277333043831904871"
     },
     "user_tz": -420
    },
    "id": "CaldP4SlWJ5m",
    "outputId": "38c22375-5cba-4104-c126-6cacaa191e98"
   },
   "outputs": [],
   "source": [
    "# Fill the null values with mean\n"
   ]
  },
  {
   "cell_type": "code",
   "execution_count": null,
   "metadata": {
    "colab": {
     "base_uri": "https://localhost:8080/"
    },
    "executionInfo": {
     "elapsed": 1880,
     "status": "ok",
     "timestamp": 1611462336970,
     "user": {
      "displayName": "Niraj Pahari",
      "photoUrl": "https://lh3.googleusercontent.com/a-/AOh14GgMhuGXLREiRVNAuekjP4QMHW33ne-Htx4lQfSX1w=s64",
      "userId": "09277333043831904871"
     },
     "user_tz": -420
    },
    "id": "zSOmaQf2WTkR",
    "outputId": "9f3bba87-1df0-4940-f70e-97af7cfbfc36"
   },
   "outputs": [],
   "source": [
    "# Select first column and fill null values with the mean of the column\n"
   ]
  },
  {
   "cell_type": "markdown",
   "metadata": {
    "id": "utnf_hFQXDJs"
   },
   "source": [
    "# Groupby\n",
    "\n",
    "The groupby method are used to group the rows of data together and call aggregate functions"
   ]
  },
  {
   "cell_type": "code",
   "execution_count": null,
   "metadata": {
    "id": "DtFN8r2wW4ha"
   },
   "outputs": [],
   "source": [
    "# Create a Dictionary to convert into dataframe\n",
    "data = {'Department': ['Finance', 'Admin', 'HR', 'Development', 'HR', 'Finance'],\n",
    "        'Person': ['Jack', 'John', 'Amy', 'Jane', 'Sam', 'Harry'],\n",
    "        'Salary': [20000, 40000, 25000, 50000, 34000, 70000]}"
   ]
  },
  {
   "cell_type": "code",
   "execution_count": null,
   "metadata": {
    "id": "KWeHSAiAmvUA"
   },
   "outputs": [],
   "source": [
    "# Load the dictionary as dataframe\n"
   ]
  },
  {
   "cell_type": "code",
   "execution_count": null,
   "metadata": {
    "colab": {
     "base_uri": "https://localhost:8080/",
     "height": 235
    },
    "executionInfo": {
     "elapsed": 1859,
     "status": "ok",
     "timestamp": 1611462336973,
     "user": {
      "displayName": "Niraj Pahari",
      "photoUrl": "https://lh3.googleusercontent.com/a-/AOh14GgMhuGXLREiRVNAuekjP4QMHW33ne-Htx4lQfSX1w=s64",
      "userId": "09277333043831904871"
     },
     "user_tz": -420
    },
    "id": "yhZfyzgJm0tm",
    "outputId": "71eea634-3909-4929-c1dc-42beb566e93b"
   },
   "outputs": [],
   "source": [
    "# Display the dataframe\n"
   ]
  },
  {
   "cell_type": "markdown",
   "metadata": {
    "id": "VbV6krUGm5ge"
   },
   "source": [
    "\n",
    "Now you can use the .groupby() method to group rows together based off of a column name. Here lets group the data based on the department This will create a DataFrameGroupBy object:\n",
    "\n"
   ]
  },
  {
   "cell_type": "code",
   "execution_count": null,
   "metadata": {
    "colab": {
     "base_uri": "https://localhost:8080/"
    },
    "executionInfo": {
     "elapsed": 1850,
     "status": "ok",
     "timestamp": 1611462336973,
     "user": {
      "displayName": "Niraj Pahari",
      "photoUrl": "https://lh3.googleusercontent.com/a-/AOh14GgMhuGXLREiRVNAuekjP4QMHW33ne-Htx4lQfSX1w=s64",
      "userId": "09277333043831904871"
     },
     "user_tz": -420
    },
    "id": "lD314O67m1eY",
    "outputId": "c0106a60-d650-4a95-c486-d79627342797"
   },
   "outputs": [],
   "source": [
    "# Use groupby to group the data by Department\n"
   ]
  },
  {
   "cell_type": "code",
   "execution_count": null,
   "metadata": {
    "id": "_3JiRa1gnb0D"
   },
   "outputs": [],
   "source": [
    "# save the previous groupby object to a varible by_dept\n"
   ]
  },
  {
   "cell_type": "markdown",
   "metadata": {
    "id": "Jh-cn1WTnlkA"
   },
   "source": [
    "Now we can call the aggregate methods on this groupby object."
   ]
  },
  {
   "cell_type": "code",
   "execution_count": null,
   "metadata": {
    "colab": {
     "base_uri": "https://localhost:8080/",
     "height": 204
    },
    "executionInfo": {
     "elapsed": 1835,
     "status": "ok",
     "timestamp": 1611462336975,
     "user": {
      "displayName": "Niraj Pahari",
      "photoUrl": "https://lh3.googleusercontent.com/a-/AOh14GgMhuGXLREiRVNAuekjP4QMHW33ne-Htx4lQfSX1w=s64",
      "userId": "09277333043831904871"
     },
     "user_tz": -420
    },
    "id": "y8ZxTiYnnhdB",
    "outputId": "4f31af47-dcc3-4101-e3a5-26b8025214e5"
   },
   "outputs": [],
   "source": [
    "# Get the mean of all columns grouped by department\n"
   ]
  },
  {
   "cell_type": "code",
   "execution_count": null,
   "metadata": {
    "colab": {
     "base_uri": "https://localhost:8080/",
     "height": 204
    },
    "executionInfo": {
     "elapsed": 1827,
     "status": "ok",
     "timestamp": 1611462336977,
     "user": {
      "displayName": "Niraj Pahari",
      "photoUrl": "https://lh3.googleusercontent.com/a-/AOh14GgMhuGXLREiRVNAuekjP4QMHW33ne-Htx4lQfSX1w=s64",
      "userId": "09277333043831904871"
     },
     "user_tz": -420
    },
    "id": "BuCYEWaTnizD",
    "outputId": "69024d45-85da-4d5b-d55f-046e9dd8d265"
   },
   "outputs": [],
   "source": [
    "# Get the minimum of all columns grouped by department\n"
   ]
  },
  {
   "cell_type": "code",
   "execution_count": null,
   "metadata": {
    "colab": {
     "base_uri": "https://localhost:8080/",
     "height": 204
    },
    "executionInfo": {
     "elapsed": 1817,
     "status": "ok",
     "timestamp": 1611462336978,
     "user": {
      "displayName": "Niraj Pahari",
      "photoUrl": "https://lh3.googleusercontent.com/a-/AOh14GgMhuGXLREiRVNAuekjP4QMHW33ne-Htx4lQfSX1w=s64",
      "userId": "09277333043831904871"
     },
     "user_tz": -420
    },
    "id": "jN6wcus0n2AM",
    "outputId": "873b33b3-a0ad-430c-f323-680422060a07"
   },
   "outputs": [],
   "source": [
    "# Get the maximum of all columns grouped by department\n"
   ]
  },
  {
   "cell_type": "code",
   "execution_count": null,
   "metadata": {
    "colab": {
     "base_uri": "https://localhost:8080/",
     "height": 204
    },
    "executionInfo": {
     "elapsed": 1808,
     "status": "ok",
     "timestamp": 1611462336979,
     "user": {
      "displayName": "Niraj Pahari",
      "photoUrl": "https://lh3.googleusercontent.com/a-/AOh14GgMhuGXLREiRVNAuekjP4QMHW33ne-Htx4lQfSX1w=s64",
      "userId": "09277333043831904871"
     },
     "user_tz": -420
    },
    "id": "cUhr2CtLn56f",
    "outputId": "d6021ca6-ec04-4472-aefd-312e6c8f49b4"
   },
   "outputs": [],
   "source": [
    "# Get the count of all columns grouped by department\n"
   ]
  },
  {
   "cell_type": "code",
   "execution_count": null,
   "metadata": {
    "colab": {
     "base_uri": "https://localhost:8080/",
     "height": 235
    },
    "executionInfo": {
     "elapsed": 1790,
     "status": "ok",
     "timestamp": 1611462336981,
     "user": {
      "displayName": "Niraj Pahari",
      "photoUrl": "https://lh3.googleusercontent.com/a-/AOh14GgMhuGXLREiRVNAuekjP4QMHW33ne-Htx4lQfSX1w=s64",
      "userId": "09277333043831904871"
     },
     "user_tz": -420
    },
    "id": "GFtmaKpYn_X_",
    "outputId": "84483aeb-c17f-4a7f-f538-92c95f16adf9"
   },
   "outputs": [],
   "source": [
    "# Get the description of by_dept object\n"
   ]
  },
  {
   "cell_type": "code",
   "execution_count": null,
   "metadata": {
    "colab": {
     "base_uri": "https://localhost:8080/"
    },
    "executionInfo": {
     "elapsed": 1779,
     "status": "ok",
     "timestamp": 1611462336982,
     "user": {
      "displayName": "Niraj Pahari",
      "photoUrl": "https://lh3.googleusercontent.com/a-/AOh14GgMhuGXLREiRVNAuekjP4QMHW33ne-Htx4lQfSX1w=s64",
      "userId": "09277333043831904871"
     },
     "user_tz": -420
    },
    "id": "YanPohtVoBQ7",
    "outputId": "054da294-5d84-4ba3-a777-db67b1c4f00c"
   },
   "outputs": [],
   "source": [
    "# Get only the count of salary from the previous description\n"
   ]
  },
  {
   "cell_type": "markdown",
   "metadata": {
    "id": "EFHGq4g_pCjM"
   },
   "source": [
    "If we want to see the description of only certain department than we have to use the following command"
   ]
  },
  {
   "cell_type": "code",
   "execution_count": null,
   "metadata": {
    "colab": {
     "base_uri": "https://localhost:8080/"
    },
    "executionInfo": {
     "elapsed": 862,
     "status": "ok",
     "timestamp": 1611462376703,
     "user": {
      "displayName": "Niraj Pahari",
      "photoUrl": "https://lh3.googleusercontent.com/a-/AOh14GgMhuGXLREiRVNAuekjP4QMHW33ne-Htx4lQfSX1w=s64",
      "userId": "09277333043831904871"
     },
     "user_tz": -420
    },
    "id": "LDAmxI6VoIbb",
    "outputId": "97344189-82d2-489d-8618-3aecce6c33e9"
   },
   "outputs": [],
   "source": [
    "# Check the description of HR department only\n"
   ]
  },
  {
   "cell_type": "code",
   "execution_count": null,
   "metadata": {
    "id": "pGgTkwVSpHkq"
   },
   "outputs": [],
   "source": []
  }
 ],
 "metadata": {
  "colab": {
   "authorship_tag": "ABX9TyN8X3JIQXiVFdmXWCD1QykA",
   "name": "RoboticsLab3-Pandas2.ipynb",
   "provenance": []
  },
  "kernelspec": {
   "display_name": "Python 3",
   "language": "python",
   "name": "python3"
  },
  "language_info": {
   "codemirror_mode": {
    "name": "ipython",
    "version": 3
   },
   "file_extension": ".py",
   "mimetype": "text/x-python",
   "name": "python",
   "nbconvert_exporter": "python",
   "pygments_lexer": "ipython3",
   "version": "3.7.4"
  }
 },
 "nbformat": 4,
 "nbformat_minor": 1
}
