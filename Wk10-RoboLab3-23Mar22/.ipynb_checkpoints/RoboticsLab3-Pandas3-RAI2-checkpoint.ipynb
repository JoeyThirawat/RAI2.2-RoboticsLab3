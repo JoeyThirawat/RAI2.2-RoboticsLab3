{
 "cells": [
  {
   "cell_type": "markdown",
   "metadata": {
    "id": "LwHYAc4oqS7D"
   },
   "source": [
    "# Pandas\n",
    "\n",
    "## Operations"
   ]
  },
  {
   "cell_type": "code",
   "execution_count": null,
   "metadata": {
    "executionInfo": {
     "elapsed": 1166,
     "status": "ok",
     "timestamp": 1611463659844,
     "user": {
      "displayName": "Niraj Pahari",
      "photoUrl": "https://lh3.googleusercontent.com/a-/AOh14GgMhuGXLREiRVNAuekjP4QMHW33ne-Htx4lQfSX1w=s64",
      "userId": "09277333043831904871"
     },
     "user_tz": -420
    },
    "id": "DVbRhq6-qGEa"
   },
   "outputs": [],
   "source": [
    "# Import pandas"
   ]
  },
  {
   "cell_type": "code",
   "execution_count": null,
   "metadata": {
    "executionInfo": {
     "elapsed": 1946,
     "status": "ok",
     "timestamp": 1611463660636,
     "user": {
      "displayName": "Niraj Pahari",
      "photoUrl": "https://lh3.googleusercontent.com/a-/AOh14GgMhuGXLREiRVNAuekjP4QMHW33ne-Htx4lQfSX1w=s64",
      "userId": "09277333043831904871"
     },
     "user_tz": -420
    },
    "id": "a2-m5ETMqZGl"
   },
   "outputs": [],
   "source": [
    "# Create a Dictionary to convert into dataframe\n",
    "data = {'Department': ['Finance', 'Admin', 'HR', 'Development', 'HR', 'Finance'],\n",
    "        'Person': ['Jack', 'John', 'Amy', 'Jane', 'Sam', 'Harry'],\n",
    "        'Salary': [20000, 40000, 20000, 50000, 34000, 70000]}"
   ]
  },
  {
   "cell_type": "code",
   "execution_count": null,
   "metadata": {
    "executionInfo": {
     "elapsed": 1939,
     "status": "ok",
     "timestamp": 1611463660637,
     "user": {
      "displayName": "Niraj Pahari",
      "photoUrl": "https://lh3.googleusercontent.com/a-/AOh14GgMhuGXLREiRVNAuekjP4QMHW33ne-Htx4lQfSX1w=s64",
      "userId": "09277333043831904871"
     },
     "user_tz": -420
    },
    "id": "55mv8038qi5j"
   },
   "outputs": [],
   "source": [
    "# Create the dataframe from the above dictionary\n"
   ]
  },
  {
   "cell_type": "code",
   "execution_count": null,
   "metadata": {
    "colab": {
     "base_uri": "https://localhost:8080/",
     "height": 235
    },
    "executionInfo": {
     "elapsed": 1933,
     "status": "ok",
     "timestamp": 1611463660639,
     "user": {
      "displayName": "Niraj Pahari",
      "photoUrl": "https://lh3.googleusercontent.com/a-/AOh14GgMhuGXLREiRVNAuekjP4QMHW33ne-Htx4lQfSX1w=s64",
      "userId": "09277333043831904871"
     },
     "user_tz": -420
    },
    "id": "94rYpQHeqkhW",
    "outputId": "25a1af02-7ed3-469b-e9dd-dc1c6e1e3c08"
   },
   "outputs": [],
   "source": [
    "# Display the df\n"
   ]
  },
  {
   "cell_type": "code",
   "execution_count": null,
   "metadata": {
    "colab": {
     "base_uri": "https://localhost:8080/",
     "height": 204
    },
    "executionInfo": {
     "elapsed": 1924,
     "status": "ok",
     "timestamp": 1611463660640,
     "user": {
      "displayName": "Niraj Pahari",
      "photoUrl": "https://lh3.googleusercontent.com/a-/AOh14GgMhuGXLREiRVNAuekjP4QMHW33ne-Htx4lQfSX1w=s64",
      "userId": "09277333043831904871"
     },
     "user_tz": -420
    },
    "id": "x3sIeIZyqqzm",
    "outputId": "6068d00e-16ad-4dd8-f9c5-4c48e7a59aac"
   },
   "outputs": [],
   "source": [
    "# display the first five columns from the dataframe\n"
   ]
  },
  {
   "cell_type": "code",
   "execution_count": null,
   "metadata": {
    "colab": {
     "base_uri": "https://localhost:8080/",
     "height": 297
    },
    "executionInfo": {
     "elapsed": 1916,
     "status": "ok",
     "timestamp": 1611463660642,
     "user": {
      "displayName": "Niraj Pahari",
      "photoUrl": "https://lh3.googleusercontent.com/a-/AOh14GgMhuGXLREiRVNAuekjP4QMHW33ne-Htx4lQfSX1w=s64",
      "userId": "09277333043831904871"
     },
     "user_tz": -420
    },
    "id": "k4QaT8yiqv4t",
    "outputId": "a1e376c9-a118-46fc-d087-b1dc2643087c"
   },
   "outputs": [],
   "source": [
    "# Display the description of the database\n"
   ]
  },
  {
   "cell_type": "markdown",
   "metadata": {
    "id": "KOtx8Gl1saa9"
   },
   "source": [
    "Info on Unique Values"
   ]
  },
  {
   "cell_type": "code",
   "execution_count": null,
   "metadata": {
    "colab": {
     "base_uri": "https://localhost:8080/"
    },
    "executionInfo": {
     "elapsed": 1908,
     "status": "ok",
     "timestamp": 1611463660643,
     "user": {
      "displayName": "Niraj Pahari",
      "photoUrl": "https://lh3.googleusercontent.com/a-/AOh14GgMhuGXLREiRVNAuekjP4QMHW33ne-Htx4lQfSX1w=s64",
      "userId": "09277333043831904871"
     },
     "user_tz": -420
    },
    "id": "6S-IX-DzqzIi",
    "outputId": "be3d0332-c3fb-4b14-c661-f93f69fcead9"
   },
   "outputs": [],
   "source": [
    "# Display the unique values for department\n"
   ]
  },
  {
   "cell_type": "code",
   "execution_count": null,
   "metadata": {
    "colab": {
     "base_uri": "https://localhost:8080/"
    },
    "executionInfo": {
     "elapsed": 1901,
     "status": "ok",
     "timestamp": 1611463660644,
     "user": {
      "displayName": "Niraj Pahari",
      "photoUrl": "https://lh3.googleusercontent.com/a-/AOh14GgMhuGXLREiRVNAuekjP4QMHW33ne-Htx4lQfSX1w=s64",
      "userId": "09277333043831904871"
     },
     "user_tz": -420
    },
    "id": "x1eNnjOSsfqL",
    "outputId": "6ba4be67-300e-4d6b-c5d5-a14c26039e46"
   },
   "outputs": [],
   "source": [
    "# Display the number of unique values for department\n"
   ]
  },
  {
   "cell_type": "code",
   "execution_count": null,
   "metadata": {
    "colab": {
     "base_uri": "https://localhost:8080/"
    },
    "executionInfo": {
     "elapsed": 1894,
     "status": "ok",
     "timestamp": 1611463660645,
     "user": {
      "displayName": "Niraj Pahari",
      "photoUrl": "https://lh3.googleusercontent.com/a-/AOh14GgMhuGXLREiRVNAuekjP4QMHW33ne-Htx4lQfSX1w=s64",
      "userId": "09277333043831904871"
     },
     "user_tz": -420
    },
    "id": "0wK3g_6CsnnS",
    "outputId": "991ecf5f-200b-4f48-fe02-fbae78e06cf6"
   },
   "outputs": [],
   "source": [
    "# Display the number of values for each department\n"
   ]
  },
  {
   "cell_type": "markdown",
   "metadata": {
    "id": "4CEBJx8hs2AQ"
   },
   "source": [
    "Selecting data from multiple columns"
   ]
  },
  {
   "cell_type": "code",
   "execution_count": null,
   "metadata": {
    "colab": {
     "base_uri": "https://localhost:8080/",
     "height": 111
    },
    "executionInfo": {
     "elapsed": 917,
     "status": "ok",
     "timestamp": 1611463878868,
     "user": {
      "displayName": "Niraj Pahari",
      "photoUrl": "https://lh3.googleusercontent.com/a-/AOh14GgMhuGXLREiRVNAuekjP4QMHW33ne-Htx4lQfSX1w=s64",
      "userId": "09277333043831904871"
     },
     "user_tz": -420
    },
    "id": "AVJigWZJsq2n",
    "outputId": "74dd526f-533a-463f-8394-0daca51139c1"
   },
   "outputs": [],
   "source": [
    "# Select employee from HR or Finance with salary greater than 20000\n"
   ]
  },
  {
   "cell_type": "markdown",
   "metadata": {
    "id": "Fe_uB5UxvMhH"
   },
   "source": [
    "### Applying Function\n",
    "\n",
    "If we want to apply function to certain columns than we can apply using the apply() function. We should define the function to be applied beforehand"
   ]
  },
  {
   "cell_type": "code",
   "execution_count": null,
   "metadata": {
    "executionInfo": {
     "elapsed": 922,
     "status": "ok",
     "timestamp": 1611464110322,
     "user": {
      "displayName": "Niraj Pahari",
      "photoUrl": "https://lh3.googleusercontent.com/a-/AOh14GgMhuGXLREiRVNAuekjP4QMHW33ne-Htx4lQfSX1w=s64",
      "userId": "09277333043831904871"
     },
     "user_tz": -420
    },
    "id": "b-Jo0dbUtoJh"
   },
   "outputs": [],
   "source": [
    "# Lets create a function to give 10 percent of the salary as bonus to every employee\n"
   ]
  },
  {
   "cell_type": "code",
   "execution_count": null,
   "metadata": {
    "executionInfo": {
     "elapsed": 927,
     "status": "ok",
     "timestamp": 1611464136396,
     "user": {
      "displayName": "Niraj Pahari",
      "photoUrl": "https://lh3.googleusercontent.com/a-/AOh14GgMhuGXLREiRVNAuekjP4QMHW33ne-Htx4lQfSX1w=s64",
      "userId": "09277333043831904871"
     },
     "user_tz": -420
    },
    "id": "B92Fk2hvvsKi"
   },
   "outputs": [],
   "source": [
    "# Apply the bonus function on the salary column and store the result in new df column called Bonus\n"
   ]
  },
  {
   "cell_type": "code",
   "execution_count": null,
   "metadata": {
    "colab": {
     "base_uri": "https://localhost:8080/",
     "height": 235
    },
    "executionInfo": {
     "elapsed": 1046,
     "status": "ok",
     "timestamp": 1611464139779,
     "user": {
      "displayName": "Niraj Pahari",
      "photoUrl": "https://lh3.googleusercontent.com/a-/AOh14GgMhuGXLREiRVNAuekjP4QMHW33ne-Htx4lQfSX1w=s64",
      "userId": "09277333043831904871"
     },
     "user_tz": -420
    },
    "id": "w-ioipwpv0_F",
    "outputId": "3a90b218-bcf0-452e-b6db-e9d226247e3a"
   },
   "outputs": [],
   "source": [
    "# Display the df\n"
   ]
  },
  {
   "cell_type": "code",
   "execution_count": null,
   "metadata": {
    "colab": {
     "base_uri": "https://localhost:8080/"
    },
    "executionInfo": {
     "elapsed": 992,
     "status": "ok",
     "timestamp": 1611464227224,
     "user": {
      "displayName": "Niraj Pahari",
      "photoUrl": "https://lh3.googleusercontent.com/a-/AOh14GgMhuGXLREiRVNAuekjP4QMHW33ne-Htx4lQfSX1w=s64",
      "userId": "09277333043831904871"
     },
     "user_tz": -420
    },
    "id": "i0elSAGOv1yy",
    "outputId": "4036db77-c3d3-452e-a25f-363cbec032be"
   },
   "outputs": [],
   "source": [
    "# Calculate the total amount being spent on bonus\n"
   ]
  },
  {
   "cell_type": "code",
   "execution_count": null,
   "metadata": {
    "colab": {
     "base_uri": "https://localhost:8080/",
     "height": 204
    },
    "executionInfo": {
     "elapsed": 1002,
     "status": "ok",
     "timestamp": 1611464335875,
     "user": {
      "displayName": "Niraj Pahari",
      "photoUrl": "https://lh3.googleusercontent.com/a-/AOh14GgMhuGXLREiRVNAuekjP4QMHW33ne-Htx4lQfSX1w=s64",
      "userId": "09277333043831904871"
     },
     "user_tz": -420
    },
    "id": "VYHlqyuXwLVI",
    "outputId": "bc951ec0-fc2f-4f21-cbd9-2d78b9567b03"
   },
   "outputs": [],
   "source": [
    "# Calculate the total amount being spent on bonus by each department\n"
   ]
  },
  {
   "cell_type": "markdown",
   "metadata": {
    "id": "eyrstpKDwqjd"
   },
   "source": [
    "Get column and index names"
   ]
  },
  {
   "cell_type": "code",
   "execution_count": null,
   "metadata": {
    "colab": {
     "base_uri": "https://localhost:8080/"
    },
    "executionInfo": {
     "elapsed": 1019,
     "status": "ok",
     "timestamp": 1611464369251,
     "user": {
      "displayName": "Niraj Pahari",
      "photoUrl": "https://lh3.googleusercontent.com/a-/AOh14GgMhuGXLREiRVNAuekjP4QMHW33ne-Htx4lQfSX1w=s64",
      "userId": "09277333043831904871"
     },
     "user_tz": -420
    },
    "id": "95aQrp5iwPop",
    "outputId": "4247925c-e31f-43d7-f319-5a1f6b1d76e3"
   },
   "outputs": [],
   "source": [
    "# Display the name of all columns in the dataframe\n"
   ]
  },
  {
   "cell_type": "code",
   "execution_count": null,
   "metadata": {
    "colab": {
     "base_uri": "https://localhost:8080/"
    },
    "executionInfo": {
     "elapsed": 1037,
     "status": "ok",
     "timestamp": 1611464374881,
     "user": {
      "displayName": "Niraj Pahari",
      "photoUrl": "https://lh3.googleusercontent.com/a-/AOh14GgMhuGXLREiRVNAuekjP4QMHW33ne-Htx4lQfSX1w=s64",
      "userId": "09277333043831904871"
     },
     "user_tz": -420
    },
    "id": "HwhelJMnwt10",
    "outputId": "350c8eee-1e11-46a7-d086-b73a7e6cb233"
   },
   "outputs": [],
   "source": [
    "# Display the index of the dataframe\n"
   ]
  },
  {
   "cell_type": "markdown",
   "metadata": {
    "id": "94Ca4lyfw3y8"
   },
   "source": [
    "Sorting and Ordering a DataFrame"
   ]
  },
  {
   "cell_type": "code",
   "execution_count": null,
   "metadata": {
    "colab": {
     "base_uri": "https://localhost:8080/",
     "height": 235
    },
    "executionInfo": {
     "elapsed": 1038,
     "status": "ok",
     "timestamp": 1611464520850,
     "user": {
      "displayName": "Niraj Pahari",
      "photoUrl": "https://lh3.googleusercontent.com/a-/AOh14GgMhuGXLREiRVNAuekjP4QMHW33ne-Htx4lQfSX1w=s64",
      "userId": "09277333043831904871"
     },
     "user_tz": -420
    },
    "id": "bmq3ffZnwvQY",
    "outputId": "56602185-b756-49a7-989a-eb9afb2720ac"
   },
   "outputs": [],
   "source": [
    "# Display the df again\n"
   ]
  },
  {
   "cell_type": "code",
   "execution_count": null,
   "metadata": {
    "colab": {
     "base_uri": "https://localhost:8080/",
     "height": 235
    },
    "executionInfo": {
     "elapsed": 922,
     "status": "ok",
     "timestamp": 1611464619116,
     "user": {
      "displayName": "Niraj Pahari",
      "photoUrl": "https://lh3.googleusercontent.com/a-/AOh14GgMhuGXLREiRVNAuekjP4QMHW33ne-Htx4lQfSX1w=s64",
      "userId": "09277333043831904871"
     },
     "user_tz": -420
    },
    "id": "3BXokTA4w8HM",
    "outputId": "6e867c55-a323-401b-c462-d3c64557fbbf"
   },
   "outputs": [],
   "source": [
    "# Sort the values by Person\n"
   ]
  },
  {
   "cell_type": "code",
   "execution_count": null,
   "metadata": {
    "executionInfo": {
     "elapsed": 1016,
     "status": "ok",
     "timestamp": 1611464595140,
     "user": {
      "displayName": "Niraj Pahari",
      "photoUrl": "https://lh3.googleusercontent.com/a-/AOh14GgMhuGXLREiRVNAuekjP4QMHW33ne-Htx4lQfSX1w=s64",
      "userId": "09277333043831904871"
     },
     "user_tz": -420
    },
    "id": "PAC6qFHvxHln"
   },
   "outputs": [],
   "source": [
    "# To sort the data by index\n",
    "# ascending: bool=True by default\n",
    "# Use sort_index()\n"
   ]
  },
  {
   "cell_type": "code",
   "execution_count": null,
   "metadata": {
    "colab": {
     "base_uri": "https://localhost:8080/",
     "height": 235
    },
    "executionInfo": {
     "elapsed": 818,
     "status": "ok",
     "timestamp": 1611464597918,
     "user": {
      "displayName": "Niraj Pahari",
      "photoUrl": "https://lh3.googleusercontent.com/a-/AOh14GgMhuGXLREiRVNAuekjP4QMHW33ne-Htx4lQfSX1w=s64",
      "userId": "09277333043831904871"
     },
     "user_tz": -420
    },
    "id": "JxN1R5_4xNq0",
    "outputId": "b3a653b5-21ea-466d-801c-d50eb4edf8e5"
   },
   "outputs": [],
   "source": [
    "# Display the df again\n"
   ]
  },
  {
   "cell_type": "markdown",
   "metadata": {
    "id": "O257gffYzIbe"
   },
   "source": [
    "## Merging, Joining and Concatenating"
   ]
  },
  {
   "cell_type": "code",
   "execution_count": null,
   "metadata": {
    "executionInfo": {
     "elapsed": 924,
     "status": "ok",
     "timestamp": 1611469350643,
     "user": {
      "displayName": "Niraj Pahari",
      "photoUrl": "https://lh3.googleusercontent.com/a-/AOh14GgMhuGXLREiRVNAuekjP4QMHW33ne-Htx4lQfSX1w=s64",
      "userId": "09277333043831904871"
     },
     "user_tz": -420
    },
    "id": "rXuzYc4gxPIi"
   },
   "outputs": [],
   "source": [
    "# Create left and right df for understanding merging, joining and concatenating\n",
    "left_df = pd.DataFrame({'key': ['K0', 'K1', 'K2', 'K3'],\n",
    "                     'A': ['A0', 'A1', 'A2', 'A3'],\n",
    "                     'B': ['B0', 'B1', 'B2', 'B3']})\n",
    "   \n",
    "right_df = pd.DataFrame({'key': ['K0', 'K1', 'K2', 'K3'],\n",
    "                          'C': ['C0', 'C1', 'C2', 'C3'],\n",
    "                          'D': ['D0', 'D1', 'D2', 'D3']})"
   ]
  },
  {
   "cell_type": "code",
   "execution_count": null,
   "metadata": {
    "colab": {
     "base_uri": "https://localhost:8080/",
     "height": 173
    },
    "executionInfo": {
     "elapsed": 859,
     "status": "ok",
     "timestamp": 1611469192444,
     "user": {
      "displayName": "Niraj Pahari",
      "photoUrl": "https://lh3.googleusercontent.com/a-/AOh14GgMhuGXLREiRVNAuekjP4QMHW33ne-Htx4lQfSX1w=s64",
      "userId": "09277333043831904871"
     },
     "user_tz": -420
    },
    "id": "w8p0YZNa2x-I",
    "outputId": "0eaae270-2333-4a14-9013-3e5c6b1e0915"
   },
   "outputs": [],
   "source": [
    "# Dispaly the left df\n",
    "left_df"
   ]
  },
  {
   "cell_type": "code",
   "execution_count": null,
   "metadata": {
    "colab": {
     "base_uri": "https://localhost:8080/",
     "height": 204
    },
    "executionInfo": {
     "elapsed": 924,
     "status": "ok",
     "timestamp": 1611469193637,
     "user": {
      "displayName": "Niraj Pahari",
      "photoUrl": "https://lh3.googleusercontent.com/a-/AOh14GgMhuGXLREiRVNAuekjP4QMHW33ne-Htx4lQfSX1w=s64",
      "userId": "09277333043831904871"
     },
     "user_tz": -420
    },
    "id": "2Uv8J57o2zVe",
    "outputId": "fb4d30e9-b52b-4544-8d8c-99a933d69802"
   },
   "outputs": [],
   "source": [
    "# Display the right df\n",
    "right_df"
   ]
  },
  {
   "cell_type": "markdown",
   "metadata": {
    "id": "GA5EBzIG23HT"
   },
   "source": [
    "### Concatenation\n",
    "Concatenation basically glues together DataFrames. Keep in mind that dimensions should match along the axis you are concatenating on. You can use pd.concat and pass in a list of DataFrames to concatenate together:"
   ]
  },
  {
   "cell_type": "code",
   "execution_count": null,
   "metadata": {
    "colab": {
     "base_uri": "https://localhost:8080/",
     "height": 328
    },
    "executionInfo": {
     "elapsed": 927,
     "status": "ok",
     "timestamp": 1611469195932,
     "user": {
      "displayName": "Niraj Pahari",
      "photoUrl": "https://lh3.googleusercontent.com/a-/AOh14GgMhuGXLREiRVNAuekjP4QMHW33ne-Htx4lQfSX1w=s64",
      "userId": "09277333043831904871"
     },
     "user_tz": -420
    },
    "id": "N5UTU20S20pX",
    "outputId": "1c9bfddf-ed29-4d4a-83ad-eb89b64c4765"
   },
   "outputs": [],
   "source": [
    "# Use concat() to concat two dfs\n"
   ]
  },
  {
   "cell_type": "code",
   "execution_count": null,
   "metadata": {
    "colab": {
     "base_uri": "https://localhost:8080/",
     "height": 204
    },
    "executionInfo": {
     "elapsed": 881,
     "status": "ok",
     "timestamp": 1611469198086,
     "user": {
      "displayName": "Niraj Pahari",
      "photoUrl": "https://lh3.googleusercontent.com/a-/AOh14GgMhuGXLREiRVNAuekjP4QMHW33ne-Htx4lQfSX1w=s64",
      "userId": "09277333043831904871"
     },
     "user_tz": -420
    },
    "id": "uu787dg_3QWg",
    "outputId": "003fb635-66fd-44ef-d2fa-7532a82a3e23"
   },
   "outputs": [],
   "source": [
    "# use concat() with axis=1 to concat in another dimension\n"
   ]
  },
  {
   "cell_type": "markdown",
   "metadata": {
    "id": "SA2KXUq5AywX"
   },
   "source": [
    "### Merging\n",
    "The merge function allow us to merge DataFrames together using a similar logic as merging SQL Tables together."
   ]
  },
  {
   "cell_type": "code",
   "execution_count": null,
   "metadata": {
    "colab": {
     "base_uri": "https://localhost:8080/",
     "height": 173
    },
    "executionInfo": {
     "elapsed": 955,
     "status": "ok",
     "timestamp": 1611469355660,
     "user": {
      "displayName": "Niraj Pahari",
      "photoUrl": "https://lh3.googleusercontent.com/a-/AOh14GgMhuGXLREiRVNAuekjP4QMHW33ne-Htx4lQfSX1w=s64",
      "userId": "09277333043831904871"
     },
     "user_tz": -420
    },
    "id": "4yAvfXhlDRcr",
    "outputId": "afdc8487-a088-4f68-9eaa-fb52cbe09070"
   },
   "outputs": [],
   "source": [
    "# Display the left df again\n"
   ]
  },
  {
   "cell_type": "code",
   "execution_count": null,
   "metadata": {
    "colab": {
     "base_uri": "https://localhost:8080/",
     "height": 173
    },
    "executionInfo": {
     "elapsed": 958,
     "status": "ok",
     "timestamp": 1611469358947,
     "user": {
      "displayName": "Niraj Pahari",
      "photoUrl": "https://lh3.googleusercontent.com/a-/AOh14GgMhuGXLREiRVNAuekjP4QMHW33ne-Htx4lQfSX1w=s64",
      "userId": "09277333043831904871"
     },
     "user_tz": -420
    },
    "id": "vxwc2IHeDT0B",
    "outputId": "3173f57e-3d92-49c3-9e09-1a9870fb3c2f"
   },
   "outputs": [],
   "source": [
    "# Display the right df again\n"
   ]
  },
  {
   "cell_type": "code",
   "execution_count": null,
   "metadata": {
    "colab": {
     "base_uri": "https://localhost:8080/",
     "height": 142
    },
    "executionInfo": {
     "elapsed": 1050,
     "status": "ok",
     "timestamp": 1611469364402,
     "user": {
      "displayName": "Niraj Pahari",
      "photoUrl": "https://lh3.googleusercontent.com/a-/AOh14GgMhuGXLREiRVNAuekjP4QMHW33ne-Htx4lQfSX1w=s64",
      "userId": "09277333043831904871"
     },
     "user_tz": -420
    },
    "id": "Hbba9vkc3d5_",
    "outputId": "9ecee681-f8a0-4847-8e50-967cd70aa04a"
   },
   "outputs": [],
   "source": [
    "# Inner Merge left and right df using merge() on key\n"
   ]
  },
  {
   "cell_type": "code",
   "execution_count": null,
   "metadata": {
    "colab": {
     "base_uri": "https://localhost:8080/",
     "height": 173
    },
    "executionInfo": {
     "elapsed": 939,
     "status": "ok",
     "timestamp": 1611469419060,
     "user": {
      "displayName": "Niraj Pahari",
      "photoUrl": "https://lh3.googleusercontent.com/a-/AOh14GgMhuGXLREiRVNAuekjP4QMHW33ne-Htx4lQfSX1w=s64",
      "userId": "09277333043831904871"
     },
     "user_tz": -420
    },
    "id": "HkLC5LYuBFUx",
    "outputId": "03cb5951-df43-4790-cfb9-8a1fabebdbcd"
   },
   "outputs": [],
   "source": [
    "# Inner Merge left and right df using merge() on key\n"
   ]
  },
  {
   "cell_type": "code",
   "execution_count": null,
   "metadata": {
    "colab": {
     "base_uri": "https://localhost:8080/",
     "height": 173
    },
    "executionInfo": {
     "elapsed": 921,
     "status": "ok",
     "timestamp": 1611469432561,
     "user": {
      "displayName": "Niraj Pahari",
      "photoUrl": "https://lh3.googleusercontent.com/a-/AOh14GgMhuGXLREiRVNAuekjP4QMHW33ne-Htx4lQfSX1w=s64",
      "userId": "09277333043831904871"
     },
     "user_tz": -420
    },
    "id": "gqVaOt73BdJv",
    "outputId": "b1b14437-99c4-4281-ac7e-a6f77673876c"
   },
   "outputs": [],
   "source": [
    "# Inner Merge left and right df using merge() on key\n"
   ]
  },
  {
   "cell_type": "markdown",
   "metadata": {
    "id": "bL6NUaYOEUU8"
   },
   "source": [
    "### Joining\n",
    "\n",
    "Joining is a convenient method for combining the columns of two potentially differently-indexed DataFrames into a single result DataFrame."
   ]
  },
  {
   "cell_type": "code",
   "execution_count": null,
   "metadata": {
    "executionInfo": {
     "elapsed": 981,
     "status": "ok",
     "timestamp": 1611469581815,
     "user": {
      "displayName": "Niraj Pahari",
      "photoUrl": "https://lh3.googleusercontent.com/a-/AOh14GgMhuGXLREiRVNAuekjP4QMHW33ne-Htx4lQfSX1w=s64",
      "userId": "09277333043831904871"
     },
     "user_tz": -420
    },
    "id": "q8_MJmmCEBOU"
   },
   "outputs": [],
   "source": [
    "# Create left and right df\n",
    "left_df = pd.DataFrame({'A': ['A0', 'A1', 'A2'],\n",
    "                     'B': ['B0', 'B1', 'B2']},\n",
    "                      index=['K0', 'K1', 'K2']) \n",
    "\n",
    "right_df = pd.DataFrame({'C': ['C0', 'C2', 'C3'],\n",
    "                    'D': ['D0', 'D2', 'D3']},\n",
    "                      index=['K0', 'K2', 'K3'])\n"
   ]
  },
  {
   "cell_type": "code",
   "execution_count": null,
   "metadata": {
    "colab": {
     "base_uri": "https://localhost:8080/",
     "height": 142
    },
    "executionInfo": {
     "elapsed": 1164,
     "status": "ok",
     "timestamp": 1611469585390,
     "user": {
      "displayName": "Niraj Pahari",
      "photoUrl": "https://lh3.googleusercontent.com/a-/AOh14GgMhuGXLREiRVNAuekjP4QMHW33ne-Htx4lQfSX1w=s64",
      "userId": "09277333043831904871"
     },
     "user_tz": -420
    },
    "id": "yVEJ60bHEjBG",
    "outputId": "50ec3b03-667a-4634-95b1-2346047170ea"
   },
   "outputs": [],
   "source": [
    "# Display the left df\n"
   ]
  },
  {
   "cell_type": "code",
   "execution_count": null,
   "metadata": {
    "colab": {
     "base_uri": "https://localhost:8080/",
     "height": 142
    },
    "executionInfo": {
     "elapsed": 561,
     "status": "ok",
     "timestamp": 1611469587131,
     "user": {
      "displayName": "Niraj Pahari",
      "photoUrl": "https://lh3.googleusercontent.com/a-/AOh14GgMhuGXLREiRVNAuekjP4QMHW33ne-Htx4lQfSX1w=s64",
      "userId": "09277333043831904871"
     },
     "user_tz": -420
    },
    "id": "bTgf-tgHEnPt",
    "outputId": "165d3799-ed7a-44e2-f9e0-e21d3d3fdbe4"
   },
   "outputs": [],
   "source": [
    "# Display the right df\n"
   ]
  },
  {
   "cell_type": "code",
   "execution_count": null,
   "metadata": {
    "colab": {
     "base_uri": "https://localhost:8080/",
     "height": 142
    },
    "executionInfo": {
     "elapsed": 954,
     "status": "ok",
     "timestamp": 1611469688377,
     "user": {
      "displayName": "Niraj Pahari",
      "photoUrl": "https://lh3.googleusercontent.com/a-/AOh14GgMhuGXLREiRVNAuekjP4QMHW33ne-Htx4lQfSX1w=s64",
      "userId": "09277333043831904871"
     },
     "user_tz": -420
    },
    "id": "tNffaBuREn_x",
    "outputId": "2c7717db-f1b5-4e99-d2dc-5c1269331c7b"
   },
   "outputs": [],
   "source": [
    "# Inner Join right with left \n"
   ]
  },
  {
   "cell_type": "code",
   "execution_count": null,
   "metadata": {
    "colab": {
     "base_uri": "https://localhost:8080/",
     "height": 173
    },
    "executionInfo": {
     "elapsed": 899,
     "status": "ok",
     "timestamp": 1611469688789,
     "user": {
      "displayName": "Niraj Pahari",
      "photoUrl": "https://lh3.googleusercontent.com/a-/AOh14GgMhuGXLREiRVNAuekjP4QMHW33ne-Htx4lQfSX1w=s64",
      "userId": "09277333043831904871"
     },
     "user_tz": -420
    },
    "id": "shLYBY_lEqoD",
    "outputId": "7df173e3-8dd1-48f6-a2b2-8087b2bb713b"
   },
   "outputs": [],
   "source": [
    "# Outer join right with left\n"
   ]
  },
  {
   "cell_type": "code",
   "execution_count": null,
   "metadata": {
    "id": "9pieHhiGE1_X"
   },
   "outputs": [],
   "source": []
  }
 ],
 "metadata": {
  "colab": {
   "authorship_tag": "ABX9TyMmEgh3cVFyljETT2eif4X7",
   "name": "RoboticsLab3-Pandas3.ipynb",
   "provenance": []
  },
  "kernelspec": {
   "display_name": "Python 3",
   "language": "python",
   "name": "python3"
  },
  "language_info": {
   "codemirror_mode": {
    "name": "ipython",
    "version": 3
   },
   "file_extension": ".py",
   "mimetype": "text/x-python",
   "name": "python",
   "nbconvert_exporter": "python",
   "pygments_lexer": "ipython3",
   "version": "3.7.4"
  }
 },
 "nbformat": 4,
 "nbformat_minor": 1
}
