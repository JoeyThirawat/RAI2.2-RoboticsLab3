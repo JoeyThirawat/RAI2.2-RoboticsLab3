{
 "cells": [
  {
   "cell_type": "markdown",
   "metadata": {
    "id": "LwHYAc4oqS7D"
   },
   "source": [
    "# Pandas\n",
    "\n",
    "## Operations"
   ]
  },
  {
   "cell_type": "code",
   "execution_count": 132,
   "metadata": {
    "executionInfo": {
     "elapsed": 1166,
     "status": "ok",
     "timestamp": 1611463659844,
     "user": {
      "displayName": "Niraj Pahari",
      "photoUrl": "https://lh3.googleusercontent.com/a-/AOh14GgMhuGXLREiRVNAuekjP4QMHW33ne-Htx4lQfSX1w=s64",
      "userId": "09277333043831904871"
     },
     "user_tz": -420
    },
    "id": "DVbRhq6-qGEa"
   },
   "outputs": [],
   "source": [
    "# Import pandas\n",
    "import pandas as pd"
   ]
  },
  {
   "cell_type": "code",
   "execution_count": 133,
   "metadata": {
    "executionInfo": {
     "elapsed": 1946,
     "status": "ok",
     "timestamp": 1611463660636,
     "user": {
      "displayName": "Niraj Pahari",
      "photoUrl": "https://lh3.googleusercontent.com/a-/AOh14GgMhuGXLREiRVNAuekjP4QMHW33ne-Htx4lQfSX1w=s64",
      "userId": "09277333043831904871"
     },
     "user_tz": -420
    },
    "id": "a2-m5ETMqZGl"
   },
   "outputs": [],
   "source": [
    "# Create a Dictionary to convert into dataframe\n",
    "data = {'Department': ['Finance', 'Admin', 'HR', 'Development', 'HR', 'Finance'],\n",
    "        'Person': ['Jack', 'John', 'Amy', 'Jane', 'Sam', 'Harry'],\n",
    "        'Salary': [20000, 40000, 20000, 50000, 34000, 70000]}"
   ]
  },
  {
   "cell_type": "code",
   "execution_count": 134,
   "metadata": {
    "executionInfo": {
     "elapsed": 1939,
     "status": "ok",
     "timestamp": 1611463660637,
     "user": {
      "displayName": "Niraj Pahari",
      "photoUrl": "https://lh3.googleusercontent.com/a-/AOh14GgMhuGXLREiRVNAuekjP4QMHW33ne-Htx4lQfSX1w=s64",
      "userId": "09277333043831904871"
     },
     "user_tz": -420
    },
    "id": "55mv8038qi5j"
   },
   "outputs": [],
   "source": [
    "# Create the dataframe from the above dictionary\n",
    "df = pd.DataFrame(data)"
   ]
  },
  {
   "cell_type": "code",
   "execution_count": 135,
   "metadata": {
    "colab": {
     "base_uri": "https://localhost:8080/",
     "height": 235
    },
    "executionInfo": {
     "elapsed": 1933,
     "status": "ok",
     "timestamp": 1611463660639,
     "user": {
      "displayName": "Niraj Pahari",
      "photoUrl": "https://lh3.googleusercontent.com/a-/AOh14GgMhuGXLREiRVNAuekjP4QMHW33ne-Htx4lQfSX1w=s64",
      "userId": "09277333043831904871"
     },
     "user_tz": -420
    },
    "id": "94rYpQHeqkhW",
    "outputId": "25a1af02-7ed3-469b-e9dd-dc1c6e1e3c08"
   },
   "outputs": [
    {
     "data": {
      "text/html": [
       "<div>\n",
       "<style scoped>\n",
       "    .dataframe tbody tr th:only-of-type {\n",
       "        vertical-align: middle;\n",
       "    }\n",
       "\n",
       "    .dataframe tbody tr th {\n",
       "        vertical-align: top;\n",
       "    }\n",
       "\n",
       "    .dataframe thead th {\n",
       "        text-align: right;\n",
       "    }\n",
       "</style>\n",
       "<table border=\"1\" class=\"dataframe\">\n",
       "  <thead>\n",
       "    <tr style=\"text-align: right;\">\n",
       "      <th></th>\n",
       "      <th>Department</th>\n",
       "      <th>Person</th>\n",
       "      <th>Salary</th>\n",
       "    </tr>\n",
       "  </thead>\n",
       "  <tbody>\n",
       "    <tr>\n",
       "      <th>0</th>\n",
       "      <td>Finance</td>\n",
       "      <td>Jack</td>\n",
       "      <td>20000</td>\n",
       "    </tr>\n",
       "    <tr>\n",
       "      <th>1</th>\n",
       "      <td>Admin</td>\n",
       "      <td>John</td>\n",
       "      <td>40000</td>\n",
       "    </tr>\n",
       "    <tr>\n",
       "      <th>2</th>\n",
       "      <td>HR</td>\n",
       "      <td>Amy</td>\n",
       "      <td>20000</td>\n",
       "    </tr>\n",
       "    <tr>\n",
       "      <th>3</th>\n",
       "      <td>Development</td>\n",
       "      <td>Jane</td>\n",
       "      <td>50000</td>\n",
       "    </tr>\n",
       "    <tr>\n",
       "      <th>4</th>\n",
       "      <td>HR</td>\n",
       "      <td>Sam</td>\n",
       "      <td>34000</td>\n",
       "    </tr>\n",
       "    <tr>\n",
       "      <th>5</th>\n",
       "      <td>Finance</td>\n",
       "      <td>Harry</td>\n",
       "      <td>70000</td>\n",
       "    </tr>\n",
       "  </tbody>\n",
       "</table>\n",
       "</div>"
      ],
      "text/plain": [
       "    Department Person  Salary\n",
       "0      Finance   Jack   20000\n",
       "1        Admin   John   40000\n",
       "2           HR    Amy   20000\n",
       "3  Development   Jane   50000\n",
       "4           HR    Sam   34000\n",
       "5      Finance  Harry   70000"
      ]
     },
     "execution_count": 135,
     "metadata": {},
     "output_type": "execute_result"
    }
   ],
   "source": [
    "# Display the df\n",
    "df"
   ]
  },
  {
   "cell_type": "code",
   "execution_count": 136,
   "metadata": {
    "colab": {
     "base_uri": "https://localhost:8080/",
     "height": 204
    },
    "executionInfo": {
     "elapsed": 1924,
     "status": "ok",
     "timestamp": 1611463660640,
     "user": {
      "displayName": "Niraj Pahari",
      "photoUrl": "https://lh3.googleusercontent.com/a-/AOh14GgMhuGXLREiRVNAuekjP4QMHW33ne-Htx4lQfSX1w=s64",
      "userId": "09277333043831904871"
     },
     "user_tz": -420
    },
    "id": "x3sIeIZyqqzm",
    "outputId": "6068d00e-16ad-4dd8-f9c5-4c48e7a59aac"
   },
   "outputs": [
    {
     "data": {
      "text/html": [
       "<div>\n",
       "<style scoped>\n",
       "    .dataframe tbody tr th:only-of-type {\n",
       "        vertical-align: middle;\n",
       "    }\n",
       "\n",
       "    .dataframe tbody tr th {\n",
       "        vertical-align: top;\n",
       "    }\n",
       "\n",
       "    .dataframe thead th {\n",
       "        text-align: right;\n",
       "    }\n",
       "</style>\n",
       "<table border=\"1\" class=\"dataframe\">\n",
       "  <thead>\n",
       "    <tr style=\"text-align: right;\">\n",
       "      <th></th>\n",
       "      <th>Department</th>\n",
       "      <th>Person</th>\n",
       "      <th>Salary</th>\n",
       "    </tr>\n",
       "  </thead>\n",
       "  <tbody>\n",
       "    <tr>\n",
       "      <th>0</th>\n",
       "      <td>Finance</td>\n",
       "      <td>Jack</td>\n",
       "      <td>20000</td>\n",
       "    </tr>\n",
       "    <tr>\n",
       "      <th>1</th>\n",
       "      <td>Admin</td>\n",
       "      <td>John</td>\n",
       "      <td>40000</td>\n",
       "    </tr>\n",
       "    <tr>\n",
       "      <th>2</th>\n",
       "      <td>HR</td>\n",
       "      <td>Amy</td>\n",
       "      <td>20000</td>\n",
       "    </tr>\n",
       "    <tr>\n",
       "      <th>3</th>\n",
       "      <td>Development</td>\n",
       "      <td>Jane</td>\n",
       "      <td>50000</td>\n",
       "    </tr>\n",
       "    <tr>\n",
       "      <th>4</th>\n",
       "      <td>HR</td>\n",
       "      <td>Sam</td>\n",
       "      <td>34000</td>\n",
       "    </tr>\n",
       "  </tbody>\n",
       "</table>\n",
       "</div>"
      ],
      "text/plain": [
       "    Department Person  Salary\n",
       "0      Finance   Jack   20000\n",
       "1        Admin   John   40000\n",
       "2           HR    Amy   20000\n",
       "3  Development   Jane   50000\n",
       "4           HR    Sam   34000"
      ]
     },
     "execution_count": 136,
     "metadata": {},
     "output_type": "execute_result"
    }
   ],
   "source": [
    "# display the first five columns from the dataframe\n",
    "df.head()"
   ]
  },
  {
   "cell_type": "code",
   "execution_count": 137,
   "metadata": {},
   "outputs": [
    {
     "data": {
      "text/html": [
       "<div>\n",
       "<style scoped>\n",
       "    .dataframe tbody tr th:only-of-type {\n",
       "        vertical-align: middle;\n",
       "    }\n",
       "\n",
       "    .dataframe tbody tr th {\n",
       "        vertical-align: top;\n",
       "    }\n",
       "\n",
       "    .dataframe thead th {\n",
       "        text-align: right;\n",
       "    }\n",
       "</style>\n",
       "<table border=\"1\" class=\"dataframe\">\n",
       "  <thead>\n",
       "    <tr style=\"text-align: right;\">\n",
       "      <th></th>\n",
       "      <th>Department</th>\n",
       "      <th>Person</th>\n",
       "      <th>Salary</th>\n",
       "    </tr>\n",
       "  </thead>\n",
       "  <tbody>\n",
       "    <tr>\n",
       "      <th>1</th>\n",
       "      <td>Admin</td>\n",
       "      <td>John</td>\n",
       "      <td>40000</td>\n",
       "    </tr>\n",
       "    <tr>\n",
       "      <th>2</th>\n",
       "      <td>HR</td>\n",
       "      <td>Amy</td>\n",
       "      <td>20000</td>\n",
       "    </tr>\n",
       "    <tr>\n",
       "      <th>3</th>\n",
       "      <td>Development</td>\n",
       "      <td>Jane</td>\n",
       "      <td>50000</td>\n",
       "    </tr>\n",
       "    <tr>\n",
       "      <th>4</th>\n",
       "      <td>HR</td>\n",
       "      <td>Sam</td>\n",
       "      <td>34000</td>\n",
       "    </tr>\n",
       "    <tr>\n",
       "      <th>5</th>\n",
       "      <td>Finance</td>\n",
       "      <td>Harry</td>\n",
       "      <td>70000</td>\n",
       "    </tr>\n",
       "  </tbody>\n",
       "</table>\n",
       "</div>"
      ],
      "text/plain": [
       "    Department Person  Salary\n",
       "1        Admin   John   40000\n",
       "2           HR    Amy   20000\n",
       "3  Development   Jane   50000\n",
       "4           HR    Sam   34000\n",
       "5      Finance  Harry   70000"
      ]
     },
     "execution_count": 137,
     "metadata": {},
     "output_type": "execute_result"
    }
   ],
   "source": [
    "df.tail()"
   ]
  },
  {
   "cell_type": "code",
   "execution_count": 140,
   "metadata": {
    "colab": {
     "base_uri": "https://localhost:8080/",
     "height": 297
    },
    "executionInfo": {
     "elapsed": 1916,
     "status": "ok",
     "timestamp": 1611463660642,
     "user": {
      "displayName": "Niraj Pahari",
      "photoUrl": "https://lh3.googleusercontent.com/a-/AOh14GgMhuGXLREiRVNAuekjP4QMHW33ne-Htx4lQfSX1w=s64",
      "userId": "09277333043831904871"
     },
     "user_tz": -420
    },
    "id": "k4QaT8yiqv4t",
    "outputId": "a1e376c9-a118-46fc-d087-b1dc2643087c"
   },
   "outputs": [
    {
     "data": {
      "text/html": [
       "<div>\n",
       "<style scoped>\n",
       "    .dataframe tbody tr th:only-of-type {\n",
       "        vertical-align: middle;\n",
       "    }\n",
       "\n",
       "    .dataframe tbody tr th {\n",
       "        vertical-align: top;\n",
       "    }\n",
       "\n",
       "    .dataframe thead th {\n",
       "        text-align: right;\n",
       "    }\n",
       "</style>\n",
       "<table border=\"1\" class=\"dataframe\">\n",
       "  <thead>\n",
       "    <tr style=\"text-align: right;\">\n",
       "      <th></th>\n",
       "      <th>Salary</th>\n",
       "    </tr>\n",
       "  </thead>\n",
       "  <tbody>\n",
       "    <tr>\n",
       "      <th>count</th>\n",
       "      <td>6.00000</td>\n",
       "    </tr>\n",
       "    <tr>\n",
       "      <th>mean</th>\n",
       "      <td>39000.00000</td>\n",
       "    </tr>\n",
       "    <tr>\n",
       "      <th>std</th>\n",
       "      <td>19131.12647</td>\n",
       "    </tr>\n",
       "    <tr>\n",
       "      <th>min</th>\n",
       "      <td>20000.00000</td>\n",
       "    </tr>\n",
       "    <tr>\n",
       "      <th>25%</th>\n",
       "      <td>23500.00000</td>\n",
       "    </tr>\n",
       "    <tr>\n",
       "      <th>50%</th>\n",
       "      <td>37000.00000</td>\n",
       "    </tr>\n",
       "    <tr>\n",
       "      <th>75%</th>\n",
       "      <td>47500.00000</td>\n",
       "    </tr>\n",
       "    <tr>\n",
       "      <th>max</th>\n",
       "      <td>70000.00000</td>\n",
       "    </tr>\n",
       "  </tbody>\n",
       "</table>\n",
       "</div>"
      ],
      "text/plain": [
       "            Salary\n",
       "count      6.00000\n",
       "mean   39000.00000\n",
       "std    19131.12647\n",
       "min    20000.00000\n",
       "25%    23500.00000\n",
       "50%    37000.00000\n",
       "75%    47500.00000\n",
       "max    70000.00000"
      ]
     },
     "execution_count": 140,
     "metadata": {},
     "output_type": "execute_result"
    }
   ],
   "source": [
    "# Display the description of the database\n",
    "df.describe()"
   ]
  },
  {
   "cell_type": "code",
   "execution_count": 142,
   "metadata": {},
   "outputs": [
    {
     "name": "stdout",
     "output_type": "stream",
     "text": [
      "<class 'pandas.core.frame.DataFrame'>\n",
      "RangeIndex: 6 entries, 0 to 5\n",
      "Data columns (total 3 columns):\n",
      " #   Column      Non-Null Count  Dtype \n",
      "---  ------      --------------  ----- \n",
      " 0   Department  6 non-null      object\n",
      " 1   Person      6 non-null      object\n",
      " 2   Salary      6 non-null      int64 \n",
      "dtypes: int64(1), object(2)\n",
      "memory usage: 272.0+ bytes\n"
     ]
    }
   ],
   "source": [
    "df.info()"
   ]
  },
  {
   "cell_type": "markdown",
   "metadata": {
    "id": "KOtx8Gl1saa9"
   },
   "source": [
    "Info on Unique Values"
   ]
  },
  {
   "cell_type": "code",
   "execution_count": 143,
   "metadata": {
    "colab": {
     "base_uri": "https://localhost:8080/"
    },
    "executionInfo": {
     "elapsed": 1908,
     "status": "ok",
     "timestamp": 1611463660643,
     "user": {
      "displayName": "Niraj Pahari",
      "photoUrl": "https://lh3.googleusercontent.com/a-/AOh14GgMhuGXLREiRVNAuekjP4QMHW33ne-Htx4lQfSX1w=s64",
      "userId": "09277333043831904871"
     },
     "user_tz": -420
    },
    "id": "6S-IX-DzqzIi",
    "outputId": "be3d0332-c3fb-4b14-c661-f93f69fcead9"
   },
   "outputs": [
    {
     "data": {
      "text/plain": [
       "array(['Finance', 'Admin', 'HR', 'Development'], dtype=object)"
      ]
     },
     "execution_count": 143,
     "metadata": {},
     "output_type": "execute_result"
    }
   ],
   "source": [
    "# Display the unique values for department\n",
    "df['Department'].unique()"
   ]
  },
  {
   "cell_type": "code",
   "execution_count": 144,
   "metadata": {
    "colab": {
     "base_uri": "https://localhost:8080/"
    },
    "executionInfo": {
     "elapsed": 1901,
     "status": "ok",
     "timestamp": 1611463660644,
     "user": {
      "displayName": "Niraj Pahari",
      "photoUrl": "https://lh3.googleusercontent.com/a-/AOh14GgMhuGXLREiRVNAuekjP4QMHW33ne-Htx4lQfSX1w=s64",
      "userId": "09277333043831904871"
     },
     "user_tz": -420
    },
    "id": "x1eNnjOSsfqL",
    "outputId": "6ba4be67-300e-4d6b-c5d5-a14c26039e46"
   },
   "outputs": [
    {
     "data": {
      "text/plain": [
       "4"
      ]
     },
     "execution_count": 144,
     "metadata": {},
     "output_type": "execute_result"
    }
   ],
   "source": [
    "# Display the number of unique values for department\n",
    "df['Department'].nunique()"
   ]
  },
  {
   "cell_type": "code",
   "execution_count": 146,
   "metadata": {
    "colab": {
     "base_uri": "https://localhost:8080/"
    },
    "executionInfo": {
     "elapsed": 1894,
     "status": "ok",
     "timestamp": 1611463660645,
     "user": {
      "displayName": "Niraj Pahari",
      "photoUrl": "https://lh3.googleusercontent.com/a-/AOh14GgMhuGXLREiRVNAuekjP4QMHW33ne-Htx4lQfSX1w=s64",
      "userId": "09277333043831904871"
     },
     "user_tz": -420
    },
    "id": "0wK3g_6CsnnS",
    "outputId": "991ecf5f-200b-4f48-fe02-fbae78e06cf6"
   },
   "outputs": [
    {
     "data": {
      "text/plain": [
       "Finance        2\n",
       "HR             2\n",
       "Admin          1\n",
       "Development    1\n",
       "Name: Department, dtype: int64"
      ]
     },
     "execution_count": 146,
     "metadata": {},
     "output_type": "execute_result"
    }
   ],
   "source": [
    "# Display the number of values for each department\n",
    "df['Department'].value_counts()"
   ]
  },
  {
   "cell_type": "markdown",
   "metadata": {
    "id": "4CEBJx8hs2AQ"
   },
   "source": [
    "Selecting data from multiple columns"
   ]
  },
  {
   "cell_type": "code",
   "execution_count": 147,
   "metadata": {
    "colab": {
     "base_uri": "https://localhost:8080/",
     "height": 111
    },
    "executionInfo": {
     "elapsed": 917,
     "status": "ok",
     "timestamp": 1611463878868,
     "user": {
      "displayName": "Niraj Pahari",
      "photoUrl": "https://lh3.googleusercontent.com/a-/AOh14GgMhuGXLREiRVNAuekjP4QMHW33ne-Htx4lQfSX1w=s64",
      "userId": "09277333043831904871"
     },
     "user_tz": -420
    },
    "id": "AVJigWZJsq2n",
    "outputId": "74dd526f-533a-463f-8394-0daca51139c1"
   },
   "outputs": [
    {
     "data": {
      "text/html": [
       "<div>\n",
       "<style scoped>\n",
       "    .dataframe tbody tr th:only-of-type {\n",
       "        vertical-align: middle;\n",
       "    }\n",
       "\n",
       "    .dataframe tbody tr th {\n",
       "        vertical-align: top;\n",
       "    }\n",
       "\n",
       "    .dataframe thead th {\n",
       "        text-align: right;\n",
       "    }\n",
       "</style>\n",
       "<table border=\"1\" class=\"dataframe\">\n",
       "  <thead>\n",
       "    <tr style=\"text-align: right;\">\n",
       "      <th></th>\n",
       "      <th>Department</th>\n",
       "      <th>Person</th>\n",
       "      <th>Salary</th>\n",
       "    </tr>\n",
       "  </thead>\n",
       "  <tbody>\n",
       "    <tr>\n",
       "      <th>4</th>\n",
       "      <td>HR</td>\n",
       "      <td>Sam</td>\n",
       "      <td>34000</td>\n",
       "    </tr>\n",
       "    <tr>\n",
       "      <th>5</th>\n",
       "      <td>Finance</td>\n",
       "      <td>Harry</td>\n",
       "      <td>70000</td>\n",
       "    </tr>\n",
       "  </tbody>\n",
       "</table>\n",
       "</div>"
      ],
      "text/plain": [
       "  Department Person  Salary\n",
       "4         HR    Sam   34000\n",
       "5    Finance  Harry   70000"
      ]
     },
     "execution_count": 147,
     "metadata": {},
     "output_type": "execute_result"
    }
   ],
   "source": [
    "# Select employee from HR or Finance with salary greater than 20000\n",
    "df[(((df['Department'] == 'HR') | (df['Department'] == 'Finance')) & (df['Salary'] > 20000))]"
   ]
  },
  {
   "cell_type": "markdown",
   "metadata": {
    "id": "Fe_uB5UxvMhH"
   },
   "source": [
    "### Applying Function\n",
    "\n",
    "If we want to apply function to certain columns than we can apply using the apply() function. We should define the function to be applied beforehand"
   ]
  },
  {
   "cell_type": "code",
   "execution_count": 162,
   "metadata": {
    "executionInfo": {
     "elapsed": 922,
     "status": "ok",
     "timestamp": 1611464110322,
     "user": {
      "displayName": "Niraj Pahari",
      "photoUrl": "https://lh3.googleusercontent.com/a-/AOh14GgMhuGXLREiRVNAuekjP4QMHW33ne-Htx4lQfSX1w=s64",
      "userId": "09277333043831904871"
     },
     "user_tz": -420
    },
    "id": "b-Jo0dbUtoJh"
   },
   "outputs": [],
   "source": [
    "# Lets create a function to give 10 percent of the salary as bonus to every employee\n",
    "def bonus(x):\n",
    "    return 0.1 * x"
   ]
  },
  {
   "cell_type": "code",
   "execution_count": 163,
   "metadata": {
    "executionInfo": {
     "elapsed": 927,
     "status": "ok",
     "timestamp": 1611464136396,
     "user": {
      "displayName": "Niraj Pahari",
      "photoUrl": "https://lh3.googleusercontent.com/a-/AOh14GgMhuGXLREiRVNAuekjP4QMHW33ne-Htx4lQfSX1w=s64",
      "userId": "09277333043831904871"
     },
     "user_tz": -420
    },
    "id": "B92Fk2hvvsKi"
   },
   "outputs": [],
   "source": [
    "# Apply the bonus function on the salary column and store the result in new df column called Bonus\n",
    "df['Bonus'] = df['Salary'].apply(bonus)"
   ]
  },
  {
   "cell_type": "code",
   "execution_count": 164,
   "metadata": {
    "colab": {
     "base_uri": "https://localhost:8080/",
     "height": 235
    },
    "executionInfo": {
     "elapsed": 1046,
     "status": "ok",
     "timestamp": 1611464139779,
     "user": {
      "displayName": "Niraj Pahari",
      "photoUrl": "https://lh3.googleusercontent.com/a-/AOh14GgMhuGXLREiRVNAuekjP4QMHW33ne-Htx4lQfSX1w=s64",
      "userId": "09277333043831904871"
     },
     "user_tz": -420
    },
    "id": "w-ioipwpv0_F",
    "outputId": "3a90b218-bcf0-452e-b6db-e9d226247e3a"
   },
   "outputs": [
    {
     "data": {
      "text/html": [
       "<div>\n",
       "<style scoped>\n",
       "    .dataframe tbody tr th:only-of-type {\n",
       "        vertical-align: middle;\n",
       "    }\n",
       "\n",
       "    .dataframe tbody tr th {\n",
       "        vertical-align: top;\n",
       "    }\n",
       "\n",
       "    .dataframe thead th {\n",
       "        text-align: right;\n",
       "    }\n",
       "</style>\n",
       "<table border=\"1\" class=\"dataframe\">\n",
       "  <thead>\n",
       "    <tr style=\"text-align: right;\">\n",
       "      <th></th>\n",
       "      <th>Department</th>\n",
       "      <th>Person</th>\n",
       "      <th>Salary</th>\n",
       "      <th>Bonus</th>\n",
       "    </tr>\n",
       "  </thead>\n",
       "  <tbody>\n",
       "    <tr>\n",
       "      <th>0</th>\n",
       "      <td>Finance</td>\n",
       "      <td>Jack</td>\n",
       "      <td>20000</td>\n",
       "      <td>2000.0</td>\n",
       "    </tr>\n",
       "    <tr>\n",
       "      <th>1</th>\n",
       "      <td>Admin</td>\n",
       "      <td>John</td>\n",
       "      <td>40000</td>\n",
       "      <td>4000.0</td>\n",
       "    </tr>\n",
       "    <tr>\n",
       "      <th>2</th>\n",
       "      <td>HR</td>\n",
       "      <td>Amy</td>\n",
       "      <td>20000</td>\n",
       "      <td>2000.0</td>\n",
       "    </tr>\n",
       "    <tr>\n",
       "      <th>3</th>\n",
       "      <td>Development</td>\n",
       "      <td>Jane</td>\n",
       "      <td>50000</td>\n",
       "      <td>5000.0</td>\n",
       "    </tr>\n",
       "    <tr>\n",
       "      <th>4</th>\n",
       "      <td>HR</td>\n",
       "      <td>Sam</td>\n",
       "      <td>34000</td>\n",
       "      <td>3400.0</td>\n",
       "    </tr>\n",
       "    <tr>\n",
       "      <th>5</th>\n",
       "      <td>Finance</td>\n",
       "      <td>Harry</td>\n",
       "      <td>70000</td>\n",
       "      <td>7000.0</td>\n",
       "    </tr>\n",
       "  </tbody>\n",
       "</table>\n",
       "</div>"
      ],
      "text/plain": [
       "    Department Person  Salary   Bonus\n",
       "0      Finance   Jack   20000  2000.0\n",
       "1        Admin   John   40000  4000.0\n",
       "2           HR    Amy   20000  2000.0\n",
       "3  Development   Jane   50000  5000.0\n",
       "4           HR    Sam   34000  3400.0\n",
       "5      Finance  Harry   70000  7000.0"
      ]
     },
     "execution_count": 164,
     "metadata": {},
     "output_type": "execute_result"
    }
   ],
   "source": [
    "# Display the df\n",
    "df"
   ]
  },
  {
   "cell_type": "code",
   "execution_count": 165,
   "metadata": {
    "colab": {
     "base_uri": "https://localhost:8080/"
    },
    "executionInfo": {
     "elapsed": 992,
     "status": "ok",
     "timestamp": 1611464227224,
     "user": {
      "displayName": "Niraj Pahari",
      "photoUrl": "https://lh3.googleusercontent.com/a-/AOh14GgMhuGXLREiRVNAuekjP4QMHW33ne-Htx4lQfSX1w=s64",
      "userId": "09277333043831904871"
     },
     "user_tz": -420
    },
    "id": "i0elSAGOv1yy",
    "outputId": "4036db77-c3d3-452e-a25f-363cbec032be"
   },
   "outputs": [
    {
     "data": {
      "text/plain": [
       "23400.0"
      ]
     },
     "execution_count": 165,
     "metadata": {},
     "output_type": "execute_result"
    }
   ],
   "source": [
    "# Calculate the total amount being spent on bonus\n",
    "df['Bonus'].sum()"
   ]
  },
  {
   "cell_type": "code",
   "execution_count": 167,
   "metadata": {
    "colab": {
     "base_uri": "https://localhost:8080/",
     "height": 204
    },
    "executionInfo": {
     "elapsed": 1002,
     "status": "ok",
     "timestamp": 1611464335875,
     "user": {
      "displayName": "Niraj Pahari",
      "photoUrl": "https://lh3.googleusercontent.com/a-/AOh14GgMhuGXLREiRVNAuekjP4QMHW33ne-Htx4lQfSX1w=s64",
      "userId": "09277333043831904871"
     },
     "user_tz": -420
    },
    "id": "VYHlqyuXwLVI",
    "outputId": "bc951ec0-fc2f-4f21-cbd9-2d78b9567b03"
   },
   "outputs": [
    {
     "data": {
      "text/html": [
       "<div>\n",
       "<style scoped>\n",
       "    .dataframe tbody tr th:only-of-type {\n",
       "        vertical-align: middle;\n",
       "    }\n",
       "\n",
       "    .dataframe tbody tr th {\n",
       "        vertical-align: top;\n",
       "    }\n",
       "\n",
       "    .dataframe thead th {\n",
       "        text-align: right;\n",
       "    }\n",
       "</style>\n",
       "<table border=\"1\" class=\"dataframe\">\n",
       "  <thead>\n",
       "    <tr style=\"text-align: right;\">\n",
       "      <th></th>\n",
       "      <th>Bonus</th>\n",
       "    </tr>\n",
       "    <tr>\n",
       "      <th>Department</th>\n",
       "      <th></th>\n",
       "    </tr>\n",
       "  </thead>\n",
       "  <tbody>\n",
       "    <tr>\n",
       "      <th>Admin</th>\n",
       "      <td>4000.0</td>\n",
       "    </tr>\n",
       "    <tr>\n",
       "      <th>Development</th>\n",
       "      <td>5000.0</td>\n",
       "    </tr>\n",
       "    <tr>\n",
       "      <th>Finance</th>\n",
       "      <td>9000.0</td>\n",
       "    </tr>\n",
       "    <tr>\n",
       "      <th>HR</th>\n",
       "      <td>5400.0</td>\n",
       "    </tr>\n",
       "  </tbody>\n",
       "</table>\n",
       "</div>"
      ],
      "text/plain": [
       "              Bonus\n",
       "Department         \n",
       "Admin        4000.0\n",
       "Development  5000.0\n",
       "Finance      9000.0\n",
       "HR           5400.0"
      ]
     },
     "execution_count": 167,
     "metadata": {},
     "output_type": "execute_result"
    }
   ],
   "source": [
    "# Calculate the total amount being spent on bonus by each department\n",
    "df[['Department', 'Bonus']].groupby(\"Department\").sum()"
   ]
  },
  {
   "cell_type": "markdown",
   "metadata": {
    "id": "eyrstpKDwqjd"
   },
   "source": [
    "Get column and index names"
   ]
  },
  {
   "cell_type": "code",
   "execution_count": 168,
   "metadata": {
    "colab": {
     "base_uri": "https://localhost:8080/"
    },
    "executionInfo": {
     "elapsed": 1019,
     "status": "ok",
     "timestamp": 1611464369251,
     "user": {
      "displayName": "Niraj Pahari",
      "photoUrl": "https://lh3.googleusercontent.com/a-/AOh14GgMhuGXLREiRVNAuekjP4QMHW33ne-Htx4lQfSX1w=s64",
      "userId": "09277333043831904871"
     },
     "user_tz": -420
    },
    "id": "95aQrp5iwPop",
    "outputId": "4247925c-e31f-43d7-f319-5a1f6b1d76e3"
   },
   "outputs": [
    {
     "data": {
      "text/plain": [
       "Index(['Department', 'Person', 'Salary', 'Bonus'], dtype='object')"
      ]
     },
     "execution_count": 168,
     "metadata": {},
     "output_type": "execute_result"
    }
   ],
   "source": [
    "# Display the name of all columns in the dataframe\n",
    "df.columns"
   ]
  },
  {
   "cell_type": "code",
   "execution_count": 169,
   "metadata": {
    "colab": {
     "base_uri": "https://localhost:8080/"
    },
    "executionInfo": {
     "elapsed": 1037,
     "status": "ok",
     "timestamp": 1611464374881,
     "user": {
      "displayName": "Niraj Pahari",
      "photoUrl": "https://lh3.googleusercontent.com/a-/AOh14GgMhuGXLREiRVNAuekjP4QMHW33ne-Htx4lQfSX1w=s64",
      "userId": "09277333043831904871"
     },
     "user_tz": -420
    },
    "id": "HwhelJMnwt10",
    "outputId": "350c8eee-1e11-46a7-d086-b73a7e6cb233"
   },
   "outputs": [
    {
     "data": {
      "text/plain": [
       "RangeIndex(start=0, stop=6, step=1)"
      ]
     },
     "execution_count": 169,
     "metadata": {},
     "output_type": "execute_result"
    }
   ],
   "source": [
    "# Display the index of the dataframe\n",
    "df.index"
   ]
  },
  {
   "cell_type": "markdown",
   "metadata": {
    "id": "94Ca4lyfw3y8"
   },
   "source": [
    "Sorting and Ordering a DataFrame"
   ]
  },
  {
   "cell_type": "code",
   "execution_count": 170,
   "metadata": {
    "colab": {
     "base_uri": "https://localhost:8080/",
     "height": 235
    },
    "executionInfo": {
     "elapsed": 1038,
     "status": "ok",
     "timestamp": 1611464520850,
     "user": {
      "displayName": "Niraj Pahari",
      "photoUrl": "https://lh3.googleusercontent.com/a-/AOh14GgMhuGXLREiRVNAuekjP4QMHW33ne-Htx4lQfSX1w=s64",
      "userId": "09277333043831904871"
     },
     "user_tz": -420
    },
    "id": "bmq3ffZnwvQY",
    "outputId": "56602185-b756-49a7-989a-eb9afb2720ac"
   },
   "outputs": [
    {
     "data": {
      "text/html": [
       "<div>\n",
       "<style scoped>\n",
       "    .dataframe tbody tr th:only-of-type {\n",
       "        vertical-align: middle;\n",
       "    }\n",
       "\n",
       "    .dataframe tbody tr th {\n",
       "        vertical-align: top;\n",
       "    }\n",
       "\n",
       "    .dataframe thead th {\n",
       "        text-align: right;\n",
       "    }\n",
       "</style>\n",
       "<table border=\"1\" class=\"dataframe\">\n",
       "  <thead>\n",
       "    <tr style=\"text-align: right;\">\n",
       "      <th></th>\n",
       "      <th>Department</th>\n",
       "      <th>Person</th>\n",
       "      <th>Salary</th>\n",
       "      <th>Bonus</th>\n",
       "    </tr>\n",
       "  </thead>\n",
       "  <tbody>\n",
       "    <tr>\n",
       "      <th>0</th>\n",
       "      <td>Finance</td>\n",
       "      <td>Jack</td>\n",
       "      <td>20000</td>\n",
       "      <td>2000.0</td>\n",
       "    </tr>\n",
       "    <tr>\n",
       "      <th>1</th>\n",
       "      <td>Admin</td>\n",
       "      <td>John</td>\n",
       "      <td>40000</td>\n",
       "      <td>4000.0</td>\n",
       "    </tr>\n",
       "    <tr>\n",
       "      <th>2</th>\n",
       "      <td>HR</td>\n",
       "      <td>Amy</td>\n",
       "      <td>20000</td>\n",
       "      <td>2000.0</td>\n",
       "    </tr>\n",
       "    <tr>\n",
       "      <th>3</th>\n",
       "      <td>Development</td>\n",
       "      <td>Jane</td>\n",
       "      <td>50000</td>\n",
       "      <td>5000.0</td>\n",
       "    </tr>\n",
       "    <tr>\n",
       "      <th>4</th>\n",
       "      <td>HR</td>\n",
       "      <td>Sam</td>\n",
       "      <td>34000</td>\n",
       "      <td>3400.0</td>\n",
       "    </tr>\n",
       "    <tr>\n",
       "      <th>5</th>\n",
       "      <td>Finance</td>\n",
       "      <td>Harry</td>\n",
       "      <td>70000</td>\n",
       "      <td>7000.0</td>\n",
       "    </tr>\n",
       "  </tbody>\n",
       "</table>\n",
       "</div>"
      ],
      "text/plain": [
       "    Department Person  Salary   Bonus\n",
       "0      Finance   Jack   20000  2000.0\n",
       "1        Admin   John   40000  4000.0\n",
       "2           HR    Amy   20000  2000.0\n",
       "3  Development   Jane   50000  5000.0\n",
       "4           HR    Sam   34000  3400.0\n",
       "5      Finance  Harry   70000  7000.0"
      ]
     },
     "execution_count": 170,
     "metadata": {},
     "output_type": "execute_result"
    }
   ],
   "source": [
    "# Display the df again\n",
    "df"
   ]
  },
  {
   "cell_type": "code",
   "execution_count": 171,
   "metadata": {
    "colab": {
     "base_uri": "https://localhost:8080/",
     "height": 235
    },
    "executionInfo": {
     "elapsed": 922,
     "status": "ok",
     "timestamp": 1611464619116,
     "user": {
      "displayName": "Niraj Pahari",
      "photoUrl": "https://lh3.googleusercontent.com/a-/AOh14GgMhuGXLREiRVNAuekjP4QMHW33ne-Htx4lQfSX1w=s64",
      "userId": "09277333043831904871"
     },
     "user_tz": -420
    },
    "id": "3BXokTA4w8HM",
    "outputId": "6e867c55-a323-401b-c462-d3c64557fbbf"
   },
   "outputs": [],
   "source": [
    "# Sort the values by Person\n",
    "df.sort_values(by = \"Person\", inplace = True) # Default inplace = False"
   ]
  },
  {
   "cell_type": "code",
   "execution_count": 172,
   "metadata": {
    "executionInfo": {
     "elapsed": 1016,
     "status": "ok",
     "timestamp": 1611464595140,
     "user": {
      "displayName": "Niraj Pahari",
      "photoUrl": "https://lh3.googleusercontent.com/a-/AOh14GgMhuGXLREiRVNAuekjP4QMHW33ne-Htx4lQfSX1w=s64",
      "userId": "09277333043831904871"
     },
     "user_tz": -420
    },
    "id": "PAC6qFHvxHln"
   },
   "outputs": [],
   "source": [
    "# To sort the data by index\n",
    "# ascending: bool=True by default\n",
    "# Use sort_index()\n",
    "df.sort_index(inplace = True)"
   ]
  },
  {
   "cell_type": "code",
   "execution_count": 173,
   "metadata": {
    "colab": {
     "base_uri": "https://localhost:8080/",
     "height": 235
    },
    "executionInfo": {
     "elapsed": 818,
     "status": "ok",
     "timestamp": 1611464597918,
     "user": {
      "displayName": "Niraj Pahari",
      "photoUrl": "https://lh3.googleusercontent.com/a-/AOh14GgMhuGXLREiRVNAuekjP4QMHW33ne-Htx4lQfSX1w=s64",
      "userId": "09277333043831904871"
     },
     "user_tz": -420
    },
    "id": "JxN1R5_4xNq0",
    "outputId": "b3a653b5-21ea-466d-801c-d50eb4edf8e5"
   },
   "outputs": [
    {
     "data": {
      "text/html": [
       "<div>\n",
       "<style scoped>\n",
       "    .dataframe tbody tr th:only-of-type {\n",
       "        vertical-align: middle;\n",
       "    }\n",
       "\n",
       "    .dataframe tbody tr th {\n",
       "        vertical-align: top;\n",
       "    }\n",
       "\n",
       "    .dataframe thead th {\n",
       "        text-align: right;\n",
       "    }\n",
       "</style>\n",
       "<table border=\"1\" class=\"dataframe\">\n",
       "  <thead>\n",
       "    <tr style=\"text-align: right;\">\n",
       "      <th></th>\n",
       "      <th>Department</th>\n",
       "      <th>Person</th>\n",
       "      <th>Salary</th>\n",
       "      <th>Bonus</th>\n",
       "    </tr>\n",
       "  </thead>\n",
       "  <tbody>\n",
       "    <tr>\n",
       "      <th>0</th>\n",
       "      <td>Finance</td>\n",
       "      <td>Jack</td>\n",
       "      <td>20000</td>\n",
       "      <td>2000.0</td>\n",
       "    </tr>\n",
       "    <tr>\n",
       "      <th>1</th>\n",
       "      <td>Admin</td>\n",
       "      <td>John</td>\n",
       "      <td>40000</td>\n",
       "      <td>4000.0</td>\n",
       "    </tr>\n",
       "    <tr>\n",
       "      <th>2</th>\n",
       "      <td>HR</td>\n",
       "      <td>Amy</td>\n",
       "      <td>20000</td>\n",
       "      <td>2000.0</td>\n",
       "    </tr>\n",
       "    <tr>\n",
       "      <th>3</th>\n",
       "      <td>Development</td>\n",
       "      <td>Jane</td>\n",
       "      <td>50000</td>\n",
       "      <td>5000.0</td>\n",
       "    </tr>\n",
       "    <tr>\n",
       "      <th>4</th>\n",
       "      <td>HR</td>\n",
       "      <td>Sam</td>\n",
       "      <td>34000</td>\n",
       "      <td>3400.0</td>\n",
       "    </tr>\n",
       "    <tr>\n",
       "      <th>5</th>\n",
       "      <td>Finance</td>\n",
       "      <td>Harry</td>\n",
       "      <td>70000</td>\n",
       "      <td>7000.0</td>\n",
       "    </tr>\n",
       "  </tbody>\n",
       "</table>\n",
       "</div>"
      ],
      "text/plain": [
       "    Department Person  Salary   Bonus\n",
       "0      Finance   Jack   20000  2000.0\n",
       "1        Admin   John   40000  4000.0\n",
       "2           HR    Amy   20000  2000.0\n",
       "3  Development   Jane   50000  5000.0\n",
       "4           HR    Sam   34000  3400.0\n",
       "5      Finance  Harry   70000  7000.0"
      ]
     },
     "execution_count": 173,
     "metadata": {},
     "output_type": "execute_result"
    }
   ],
   "source": [
    "# Display the df again\n",
    "df"
   ]
  },
  {
   "cell_type": "markdown",
   "metadata": {
    "id": "O257gffYzIbe"
   },
   "source": [
    "## Merging, Joining and Concatenating"
   ]
  },
  {
   "cell_type": "code",
   "execution_count": 117,
   "metadata": {
    "executionInfo": {
     "elapsed": 924,
     "status": "ok",
     "timestamp": 1611469350643,
     "user": {
      "displayName": "Niraj Pahari",
      "photoUrl": "https://lh3.googleusercontent.com/a-/AOh14GgMhuGXLREiRVNAuekjP4QMHW33ne-Htx4lQfSX1w=s64",
      "userId": "09277333043831904871"
     },
     "user_tz": -420
    },
    "id": "rXuzYc4gxPIi"
   },
   "outputs": [],
   "source": [
    "# Create left and right df for understanding merging, joining and concatenating\n",
    "left_df = pd.DataFrame({'key': ['K0', 'K1', 'K2', 'K3'],\n",
    "                     'A': ['A0', 'A1', 'A2', 'A3'],\n",
    "                     'B': ['B0', 'B1', 'B2', 'B3']})\n",
    "   \n",
    "right_df = pd.DataFrame({'key': ['K0', 'K1', 'K2', 'K3'],\n",
    "                          'C': ['C0', 'C1', 'C2', 'C3'],\n",
    "                          'D': ['D0', 'D1', 'D2', 'D3']})"
   ]
  },
  {
   "cell_type": "code",
   "execution_count": 118,
   "metadata": {
    "colab": {
     "base_uri": "https://localhost:8080/",
     "height": 173
    },
    "executionInfo": {
     "elapsed": 859,
     "status": "ok",
     "timestamp": 1611469192444,
     "user": {
      "displayName": "Niraj Pahari",
      "photoUrl": "https://lh3.googleusercontent.com/a-/AOh14GgMhuGXLREiRVNAuekjP4QMHW33ne-Htx4lQfSX1w=s64",
      "userId": "09277333043831904871"
     },
     "user_tz": -420
    },
    "id": "w8p0YZNa2x-I",
    "outputId": "0eaae270-2333-4a14-9013-3e5c6b1e0915"
   },
   "outputs": [
    {
     "data": {
      "text/html": [
       "<div>\n",
       "<style scoped>\n",
       "    .dataframe tbody tr th:only-of-type {\n",
       "        vertical-align: middle;\n",
       "    }\n",
       "\n",
       "    .dataframe tbody tr th {\n",
       "        vertical-align: top;\n",
       "    }\n",
       "\n",
       "    .dataframe thead th {\n",
       "        text-align: right;\n",
       "    }\n",
       "</style>\n",
       "<table border=\"1\" class=\"dataframe\">\n",
       "  <thead>\n",
       "    <tr style=\"text-align: right;\">\n",
       "      <th></th>\n",
       "      <th>key</th>\n",
       "      <th>A</th>\n",
       "      <th>B</th>\n",
       "    </tr>\n",
       "  </thead>\n",
       "  <tbody>\n",
       "    <tr>\n",
       "      <th>0</th>\n",
       "      <td>K0</td>\n",
       "      <td>A0</td>\n",
       "      <td>B0</td>\n",
       "    </tr>\n",
       "    <tr>\n",
       "      <th>1</th>\n",
       "      <td>K1</td>\n",
       "      <td>A1</td>\n",
       "      <td>B1</td>\n",
       "    </tr>\n",
       "    <tr>\n",
       "      <th>2</th>\n",
       "      <td>K2</td>\n",
       "      <td>A2</td>\n",
       "      <td>B2</td>\n",
       "    </tr>\n",
       "    <tr>\n",
       "      <th>3</th>\n",
       "      <td>K3</td>\n",
       "      <td>A3</td>\n",
       "      <td>B3</td>\n",
       "    </tr>\n",
       "  </tbody>\n",
       "</table>\n",
       "</div>"
      ],
      "text/plain": [
       "  key   A   B\n",
       "0  K0  A0  B0\n",
       "1  K1  A1  B1\n",
       "2  K2  A2  B2\n",
       "3  K3  A3  B3"
      ]
     },
     "execution_count": 118,
     "metadata": {},
     "output_type": "execute_result"
    }
   ],
   "source": [
    "# Dispaly the left df\n",
    "left_df"
   ]
  },
  {
   "cell_type": "code",
   "execution_count": 119,
   "metadata": {
    "colab": {
     "base_uri": "https://localhost:8080/",
     "height": 204
    },
    "executionInfo": {
     "elapsed": 924,
     "status": "ok",
     "timestamp": 1611469193637,
     "user": {
      "displayName": "Niraj Pahari",
      "photoUrl": "https://lh3.googleusercontent.com/a-/AOh14GgMhuGXLREiRVNAuekjP4QMHW33ne-Htx4lQfSX1w=s64",
      "userId": "09277333043831904871"
     },
     "user_tz": -420
    },
    "id": "2Uv8J57o2zVe",
    "outputId": "fb4d30e9-b52b-4544-8d8c-99a933d69802"
   },
   "outputs": [
    {
     "data": {
      "text/html": [
       "<div>\n",
       "<style scoped>\n",
       "    .dataframe tbody tr th:only-of-type {\n",
       "        vertical-align: middle;\n",
       "    }\n",
       "\n",
       "    .dataframe tbody tr th {\n",
       "        vertical-align: top;\n",
       "    }\n",
       "\n",
       "    .dataframe thead th {\n",
       "        text-align: right;\n",
       "    }\n",
       "</style>\n",
       "<table border=\"1\" class=\"dataframe\">\n",
       "  <thead>\n",
       "    <tr style=\"text-align: right;\">\n",
       "      <th></th>\n",
       "      <th>key</th>\n",
       "      <th>C</th>\n",
       "      <th>D</th>\n",
       "    </tr>\n",
       "  </thead>\n",
       "  <tbody>\n",
       "    <tr>\n",
       "      <th>0</th>\n",
       "      <td>K0</td>\n",
       "      <td>C0</td>\n",
       "      <td>D0</td>\n",
       "    </tr>\n",
       "    <tr>\n",
       "      <th>1</th>\n",
       "      <td>K1</td>\n",
       "      <td>C1</td>\n",
       "      <td>D1</td>\n",
       "    </tr>\n",
       "    <tr>\n",
       "      <th>2</th>\n",
       "      <td>K2</td>\n",
       "      <td>C2</td>\n",
       "      <td>D2</td>\n",
       "    </tr>\n",
       "    <tr>\n",
       "      <th>3</th>\n",
       "      <td>K3</td>\n",
       "      <td>C3</td>\n",
       "      <td>D3</td>\n",
       "    </tr>\n",
       "  </tbody>\n",
       "</table>\n",
       "</div>"
      ],
      "text/plain": [
       "  key   C   D\n",
       "0  K0  C0  D0\n",
       "1  K1  C1  D1\n",
       "2  K2  C2  D2\n",
       "3  K3  C3  D3"
      ]
     },
     "execution_count": 119,
     "metadata": {},
     "output_type": "execute_result"
    }
   ],
   "source": [
    "# Display the right df\n",
    "right_df"
   ]
  },
  {
   "cell_type": "markdown",
   "metadata": {
    "id": "GA5EBzIG23HT"
   },
   "source": [
    "### Concatenation\n",
    "Concatenation basically glues together DataFrames. Keep in mind that dimensions should match along the axis you are concatenating on. You can use pd.concat and pass in a list of DataFrames to concatenate together:"
   ]
  },
  {
   "cell_type": "code",
   "execution_count": 120,
   "metadata": {
    "colab": {
     "base_uri": "https://localhost:8080/",
     "height": 328
    },
    "executionInfo": {
     "elapsed": 927,
     "status": "ok",
     "timestamp": 1611469195932,
     "user": {
      "displayName": "Niraj Pahari",
      "photoUrl": "https://lh3.googleusercontent.com/a-/AOh14GgMhuGXLREiRVNAuekjP4QMHW33ne-Htx4lQfSX1w=s64",
      "userId": "09277333043831904871"
     },
     "user_tz": -420
    },
    "id": "N5UTU20S20pX",
    "outputId": "1c9bfddf-ed29-4d4a-83ad-eb89b64c4765"
   },
   "outputs": [],
   "source": [
    "# Use concat() to concat two dfs\n"
   ]
  },
  {
   "cell_type": "code",
   "execution_count": 121,
   "metadata": {
    "colab": {
     "base_uri": "https://localhost:8080/",
     "height": 204
    },
    "executionInfo": {
     "elapsed": 881,
     "status": "ok",
     "timestamp": 1611469198086,
     "user": {
      "displayName": "Niraj Pahari",
      "photoUrl": "https://lh3.googleusercontent.com/a-/AOh14GgMhuGXLREiRVNAuekjP4QMHW33ne-Htx4lQfSX1w=s64",
      "userId": "09277333043831904871"
     },
     "user_tz": -420
    },
    "id": "uu787dg_3QWg",
    "outputId": "003fb635-66fd-44ef-d2fa-7532a82a3e23"
   },
   "outputs": [],
   "source": [
    "# use concat() with axis=1 to concat in another dimension\n"
   ]
  },
  {
   "cell_type": "markdown",
   "metadata": {
    "id": "SA2KXUq5AywX"
   },
   "source": [
    "### Merging\n",
    "The merge function allow us to merge DataFrames together using a similar logic as merging SQL Tables together."
   ]
  },
  {
   "cell_type": "code",
   "execution_count": 122,
   "metadata": {
    "colab": {
     "base_uri": "https://localhost:8080/",
     "height": 173
    },
    "executionInfo": {
     "elapsed": 955,
     "status": "ok",
     "timestamp": 1611469355660,
     "user": {
      "displayName": "Niraj Pahari",
      "photoUrl": "https://lh3.googleusercontent.com/a-/AOh14GgMhuGXLREiRVNAuekjP4QMHW33ne-Htx4lQfSX1w=s64",
      "userId": "09277333043831904871"
     },
     "user_tz": -420
    },
    "id": "4yAvfXhlDRcr",
    "outputId": "afdc8487-a088-4f68-9eaa-fb52cbe09070"
   },
   "outputs": [],
   "source": [
    "# Display the left df again\n"
   ]
  },
  {
   "cell_type": "code",
   "execution_count": 123,
   "metadata": {
    "colab": {
     "base_uri": "https://localhost:8080/",
     "height": 173
    },
    "executionInfo": {
     "elapsed": 958,
     "status": "ok",
     "timestamp": 1611469358947,
     "user": {
      "displayName": "Niraj Pahari",
      "photoUrl": "https://lh3.googleusercontent.com/a-/AOh14GgMhuGXLREiRVNAuekjP4QMHW33ne-Htx4lQfSX1w=s64",
      "userId": "09277333043831904871"
     },
     "user_tz": -420
    },
    "id": "vxwc2IHeDT0B",
    "outputId": "3173f57e-3d92-49c3-9e09-1a9870fb3c2f"
   },
   "outputs": [],
   "source": [
    "# Display the right df again\n"
   ]
  },
  {
   "cell_type": "code",
   "execution_count": 124,
   "metadata": {
    "colab": {
     "base_uri": "https://localhost:8080/",
     "height": 142
    },
    "executionInfo": {
     "elapsed": 1050,
     "status": "ok",
     "timestamp": 1611469364402,
     "user": {
      "displayName": "Niraj Pahari",
      "photoUrl": "https://lh3.googleusercontent.com/a-/AOh14GgMhuGXLREiRVNAuekjP4QMHW33ne-Htx4lQfSX1w=s64",
      "userId": "09277333043831904871"
     },
     "user_tz": -420
    },
    "id": "Hbba9vkc3d5_",
    "outputId": "9ecee681-f8a0-4847-8e50-967cd70aa04a"
   },
   "outputs": [],
   "source": [
    "# Inner Merge left and right df using merge() on key\n"
   ]
  },
  {
   "cell_type": "code",
   "execution_count": 125,
   "metadata": {
    "colab": {
     "base_uri": "https://localhost:8080/",
     "height": 173
    },
    "executionInfo": {
     "elapsed": 939,
     "status": "ok",
     "timestamp": 1611469419060,
     "user": {
      "displayName": "Niraj Pahari",
      "photoUrl": "https://lh3.googleusercontent.com/a-/AOh14GgMhuGXLREiRVNAuekjP4QMHW33ne-Htx4lQfSX1w=s64",
      "userId": "09277333043831904871"
     },
     "user_tz": -420
    },
    "id": "HkLC5LYuBFUx",
    "outputId": "03cb5951-df43-4790-cfb9-8a1fabebdbcd"
   },
   "outputs": [],
   "source": [
    "# Inner Merge left and right df using merge() on key\n"
   ]
  },
  {
   "cell_type": "code",
   "execution_count": 126,
   "metadata": {
    "colab": {
     "base_uri": "https://localhost:8080/",
     "height": 173
    },
    "executionInfo": {
     "elapsed": 921,
     "status": "ok",
     "timestamp": 1611469432561,
     "user": {
      "displayName": "Niraj Pahari",
      "photoUrl": "https://lh3.googleusercontent.com/a-/AOh14GgMhuGXLREiRVNAuekjP4QMHW33ne-Htx4lQfSX1w=s64",
      "userId": "09277333043831904871"
     },
     "user_tz": -420
    },
    "id": "gqVaOt73BdJv",
    "outputId": "b1b14437-99c4-4281-ac7e-a6f77673876c"
   },
   "outputs": [],
   "source": [
    "# Inner Merge left and right df using merge() on key\n"
   ]
  },
  {
   "cell_type": "markdown",
   "metadata": {
    "id": "bL6NUaYOEUU8"
   },
   "source": [
    "### Joining\n",
    "\n",
    "Joining is a convenient method for combining the columns of two potentially differently-indexed DataFrames into a single result DataFrame."
   ]
  },
  {
   "cell_type": "code",
   "execution_count": 127,
   "metadata": {
    "executionInfo": {
     "elapsed": 981,
     "status": "ok",
     "timestamp": 1611469581815,
     "user": {
      "displayName": "Niraj Pahari",
      "photoUrl": "https://lh3.googleusercontent.com/a-/AOh14GgMhuGXLREiRVNAuekjP4QMHW33ne-Htx4lQfSX1w=s64",
      "userId": "09277333043831904871"
     },
     "user_tz": -420
    },
    "id": "q8_MJmmCEBOU"
   },
   "outputs": [],
   "source": [
    "# Create left and right df\n",
    "left_df = pd.DataFrame({'A': ['A0', 'A1', 'A2'],\n",
    "                     'B': ['B0', 'B1', 'B2']},\n",
    "                      index=['K0', 'K1', 'K2']) \n",
    "\n",
    "right_df = pd.DataFrame({'C': ['C0', 'C2', 'C3'],\n",
    "                    'D': ['D0', 'D2', 'D3']},\n",
    "                      index=['K0', 'K2', 'K3'])\n"
   ]
  },
  {
   "cell_type": "code",
   "execution_count": 128,
   "metadata": {
    "colab": {
     "base_uri": "https://localhost:8080/",
     "height": 142
    },
    "executionInfo": {
     "elapsed": 1164,
     "status": "ok",
     "timestamp": 1611469585390,
     "user": {
      "displayName": "Niraj Pahari",
      "photoUrl": "https://lh3.googleusercontent.com/a-/AOh14GgMhuGXLREiRVNAuekjP4QMHW33ne-Htx4lQfSX1w=s64",
      "userId": "09277333043831904871"
     },
     "user_tz": -420
    },
    "id": "yVEJ60bHEjBG",
    "outputId": "50ec3b03-667a-4634-95b1-2346047170ea"
   },
   "outputs": [],
   "source": [
    "# Display the left df\n"
   ]
  },
  {
   "cell_type": "code",
   "execution_count": 129,
   "metadata": {
    "colab": {
     "base_uri": "https://localhost:8080/",
     "height": 142
    },
    "executionInfo": {
     "elapsed": 561,
     "status": "ok",
     "timestamp": 1611469587131,
     "user": {
      "displayName": "Niraj Pahari",
      "photoUrl": "https://lh3.googleusercontent.com/a-/AOh14GgMhuGXLREiRVNAuekjP4QMHW33ne-Htx4lQfSX1w=s64",
      "userId": "09277333043831904871"
     },
     "user_tz": -420
    },
    "id": "bTgf-tgHEnPt",
    "outputId": "165d3799-ed7a-44e2-f9e0-e21d3d3fdbe4"
   },
   "outputs": [],
   "source": [
    "# Display the right df\n"
   ]
  },
  {
   "cell_type": "code",
   "execution_count": 130,
   "metadata": {
    "colab": {
     "base_uri": "https://localhost:8080/",
     "height": 142
    },
    "executionInfo": {
     "elapsed": 954,
     "status": "ok",
     "timestamp": 1611469688377,
     "user": {
      "displayName": "Niraj Pahari",
      "photoUrl": "https://lh3.googleusercontent.com/a-/AOh14GgMhuGXLREiRVNAuekjP4QMHW33ne-Htx4lQfSX1w=s64",
      "userId": "09277333043831904871"
     },
     "user_tz": -420
    },
    "id": "tNffaBuREn_x",
    "outputId": "2c7717db-f1b5-4e99-d2dc-5c1269331c7b"
   },
   "outputs": [],
   "source": [
    "# Inner Join right with left \n"
   ]
  },
  {
   "cell_type": "code",
   "execution_count": 131,
   "metadata": {
    "colab": {
     "base_uri": "https://localhost:8080/",
     "height": 173
    },
    "executionInfo": {
     "elapsed": 899,
     "status": "ok",
     "timestamp": 1611469688789,
     "user": {
      "displayName": "Niraj Pahari",
      "photoUrl": "https://lh3.googleusercontent.com/a-/AOh14GgMhuGXLREiRVNAuekjP4QMHW33ne-Htx4lQfSX1w=s64",
      "userId": "09277333043831904871"
     },
     "user_tz": -420
    },
    "id": "shLYBY_lEqoD",
    "outputId": "7df173e3-8dd1-48f6-a2b2-8087b2bb713b"
   },
   "outputs": [],
   "source": [
    "# Outer join right with left\n"
   ]
  },
  {
   "cell_type": "code",
   "execution_count": null,
   "metadata": {
    "id": "9pieHhiGE1_X"
   },
   "outputs": [],
   "source": []
  }
 ],
 "metadata": {
  "colab": {
   "authorship_tag": "ABX9TyMmEgh3cVFyljETT2eif4X7",
   "name": "RoboticsLab3-Pandas3.ipynb",
   "provenance": []
  },
  "kernelspec": {
   "display_name": "Python 3 (ipykernel)",
   "language": "python",
   "name": "python3"
  },
  "language_info": {
   "codemirror_mode": {
    "name": "ipython",
    "version": 3
   },
   "file_extension": ".py",
   "mimetype": "text/x-python",
   "name": "python",
   "nbconvert_exporter": "python",
   "pygments_lexer": "ipython3",
   "version": "3.9.7"
  }
 },
 "nbformat": 4,
 "nbformat_minor": 1
}
