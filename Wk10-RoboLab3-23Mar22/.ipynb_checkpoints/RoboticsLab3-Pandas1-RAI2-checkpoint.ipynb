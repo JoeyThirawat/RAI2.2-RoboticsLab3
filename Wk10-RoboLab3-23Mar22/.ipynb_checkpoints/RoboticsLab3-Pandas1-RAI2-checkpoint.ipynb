{
 "cells": [
  {
   "cell_type": "markdown",
   "metadata": {
    "id": "Snm1AGBzAOxX"
   },
   "source": [
    "# Pandas\n",
    "Pandas is a Python package that provides fast, flexible, and expressive data structures designed to make working with structured (tabular, multidimensional, potentially heterogeneous) and time series data both easy and intuitive. It aims to be the fundamental high-level building block for doing practical, real world data analysis in Python. Additionally, it has the broader goal of becoming the most powerful and flexible open source data analysis / manipulation tool available in any language. It is already well on its way toward this goal.\n",
    "\n",
    "`pandas` is well suited for many different kinds of data:\n",
    "\n",
    "*   Tabular data with heterogeneously-typed columns, as in an SQL table or Excel spreadsheet\n",
    "*   Ordered and unordered (not necessarily fixed-frequency) time series data.\n",
    "* Arbitrary matrix data (homogeneously typed or heterogeneous) with row and column labels\n",
    "* Any other form of observational / statistical data sets. The data actually need not be labeled at all to be placed into a pandas data structure\n",
    "\n",
    "The two primary data structures of pandas, **Series** (1-dimensional) and DataFrame (2-dimensional), handle the vast majority of typical use cases in finance, statistics, social science, and many areas of engineering.\n"
   ]
  },
  {
   "cell_type": "markdown",
   "metadata": {
    "id": "-IUMob8N5TMX"
   },
   "source": [
    "Normally we import pandas as following"
   ]
  },
  {
   "cell_type": "code",
   "execution_count": 2,
   "metadata": {
    "executionInfo": {
     "elapsed": 2333,
     "status": "ok",
     "timestamp": 1611485763774,
     "user": {
      "displayName": "Niraj Pahari",
      "photoUrl": "https://lh3.googleusercontent.com/a-/AOh14GgMhuGXLREiRVNAuekjP4QMHW33ne-Htx4lQfSX1w=s64",
      "userId": "09277333043831904871"
     },
     "user_tz": -420
    },
    "id": "qJv1nt6HAKNY"
   },
   "outputs": [],
   "source": [
    "# !conda install pandas\n",
    "# !\n",
    "# Import pandas\n",
    "import pandas as pd"
   ]
  },
  {
   "cell_type": "markdown",
   "metadata": {
    "id": "6AtVBFdL7RIH"
   },
   "source": [
    "Lets import numpy too "
   ]
  },
  {
   "cell_type": "code",
   "execution_count": 4,
   "metadata": {
    "executionInfo": {
     "elapsed": 4494,
     "status": "ok",
     "timestamp": 1611485765940,
     "user": {
      "displayName": "Niraj Pahari",
      "photoUrl": "https://lh3.googleusercontent.com/a-/AOh14GgMhuGXLREiRVNAuekjP4QMHW33ne-Htx4lQfSX1w=s64",
      "userId": "09277333043831904871"
     },
     "user_tz": -420
    },
    "id": "g1JyHoW87QhX"
   },
   "outputs": [],
   "source": [
    "# Import numpy\n",
    "import numpy as np"
   ]
  },
  {
   "cell_type": "markdown",
   "metadata": {
    "id": "KIEeufsrAN-9"
   },
   "source": [
    "## Series\n",
    "\n",
    "A Series is very similar to a NumPy array (in fact it is built on top of the NumPy array object). What differentiates the NumPy array from a Series, is that a Series can have axis labels, meaning it can be indexed by a label, instead of just a number location. It also doesn't need to hold numeric data, it can hold any arbitrary Python Object.\n",
    "\n",
    "A Series is, in essence, a single column of a DataFrame. So you can assign column values to the Series the same way as before, using an index parameter. However, a Series does not have a column name, it only has one overall name:"
   ]
  },
  {
   "cell_type": "markdown",
   "metadata": {
    "id": "voKk6iLd7Gl_"
   },
   "source": [
    "### Creating a series"
   ]
  },
  {
   "cell_type": "code",
   "execution_count": 6,
   "metadata": {
    "executionInfo": {
     "elapsed": 4492,
     "status": "ok",
     "timestamp": 1611485765941,
     "user": {
      "displayName": "Niraj Pahari",
      "photoUrl": "https://lh3.googleusercontent.com/a-/AOh14GgMhuGXLREiRVNAuekjP4QMHW33ne-Htx4lQfSX1w=s64",
      "userId": "09277333043831904871"
     },
     "user_tz": -420
    },
    "id": "n1aqXhh96sJA"
   },
   "outputs": [],
   "source": [
    "# create list, array and dictionary \n",
    "labels = ['a','b','c']\n",
    "my_list = [10,20,30]\n",
    "arr = np.array([10,20,30])\n",
    "d = {'a':10,'b':20,'c':30}"
   ]
  },
  {
   "cell_type": "markdown",
   "metadata": {
    "id": "bhWlKR_l7gJS"
   },
   "source": [
    "Using list"
   ]
  },
  {
   "cell_type": "code",
   "execution_count": 7,
   "metadata": {
    "colab": {
     "base_uri": "https://localhost:8080/"
    },
    "executionInfo": {
     "elapsed": 4450,
     "status": "ok",
     "timestamp": 1611485765942,
     "user": {
      "displayName": "Niraj Pahari",
      "photoUrl": "https://lh3.googleusercontent.com/a-/AOh14GgMhuGXLREiRVNAuekjP4QMHW33ne-Htx4lQfSX1w=s64",
      "userId": "09277333043831904871"
     },
     "user_tz": -420
    },
    "id": "WKF2Wmgw7Mkb",
    "outputId": "59c2a91e-8717-4b2d-bb0d-1dea51f3f192"
   },
   "outputs": [
    {
     "data": {
      "text/plain": [
       "0    10\n",
       "1    20\n",
       "2    30\n",
       "dtype: int64"
      ]
     },
     "execution_count": 7,
     "metadata": {},
     "output_type": "execute_result"
    }
   ],
   "source": [
    "# Create pandas series using my_list\n",
    "pd.Series(data = my_list)"
   ]
  },
  {
   "cell_type": "code",
   "execution_count": 9,
   "metadata": {
    "colab": {
     "base_uri": "https://localhost:8080/"
    },
    "executionInfo": {
     "elapsed": 4442,
     "status": "ok",
     "timestamp": 1611485765943,
     "user": {
      "displayName": "Niraj Pahari",
      "photoUrl": "https://lh3.googleusercontent.com/a-/AOh14GgMhuGXLREiRVNAuekjP4QMHW33ne-Htx4lQfSX1w=s64",
      "userId": "09277333043831904871"
     },
     "user_tz": -420
    },
    "id": "Fj40CDP17kz3",
    "outputId": "6aeda847-2bb7-4f01-e3bd-df160f48cd13"
   },
   "outputs": [
    {
     "data": {
      "text/plain": [
       "a    10\n",
       "b    20\n",
       "c    30\n",
       "dtype: int64"
      ]
     },
     "execution_count": 9,
     "metadata": {},
     "output_type": "execute_result"
    }
   ],
   "source": [
    "# Create pandas series using my_list and with labels as index\n",
    "pd.Series(data = my_list, index = labels)"
   ]
  },
  {
   "cell_type": "code",
   "execution_count": 11,
   "metadata": {
    "colab": {
     "base_uri": "https://localhost:8080/"
    },
    "executionInfo": {
     "elapsed": 4433,
     "status": "ok",
     "timestamp": 1611485765944,
     "user": {
      "displayName": "Niraj Pahari",
      "photoUrl": "https://lh3.googleusercontent.com/a-/AOh14GgMhuGXLREiRVNAuekjP4QMHW33ne-Htx4lQfSX1w=s64",
      "userId": "09277333043831904871"
     },
     "user_tz": -420
    },
    "id": "6TNvdRK57o81",
    "outputId": "0ad17ccd-ee03-4ba1-c8a2-dae62fd9a424"
   },
   "outputs": [
    {
     "data": {
      "text/plain": [
       "a    10\n",
       "b    20\n",
       "c    30\n",
       "dtype: int64"
      ]
     },
     "execution_count": 11,
     "metadata": {},
     "output_type": "execute_result"
    }
   ],
   "source": [
    "pd.Series(my_list, labels)"
   ]
  },
  {
   "cell_type": "markdown",
   "metadata": {
    "id": "a2mu1s8h7tCf"
   },
   "source": [
    "Using numpy Arrays"
   ]
  },
  {
   "cell_type": "code",
   "execution_count": 12,
   "metadata": {
    "colab": {
     "base_uri": "https://localhost:8080/"
    },
    "executionInfo": {
     "elapsed": 4425,
     "status": "ok",
     "timestamp": 1611485765945,
     "user": {
      "displayName": "Niraj Pahari",
      "photoUrl": "https://lh3.googleusercontent.com/a-/AOh14GgMhuGXLREiRVNAuekjP4QMHW33ne-Htx4lQfSX1w=s64",
      "userId": "09277333043831904871"
     },
     "user_tz": -420
    },
    "id": "jOSgWL5m7rWC",
    "outputId": "40bca64c-ee08-4e8b-a325-c322a3393dbc"
   },
   "outputs": [
    {
     "data": {
      "text/plain": [
       "0    10\n",
       "1    20\n",
       "2    30\n",
       "dtype: int32"
      ]
     },
     "execution_count": 12,
     "metadata": {},
     "output_type": "execute_result"
    }
   ],
   "source": [
    "# Create pandas series using numpy array\n",
    "pd.Series(arr)"
   ]
  },
  {
   "cell_type": "code",
   "execution_count": 13,
   "metadata": {
    "colab": {
     "base_uri": "https://localhost:8080/"
    },
    "executionInfo": {
     "elapsed": 4416,
     "status": "ok",
     "timestamp": 1611485765945,
     "user": {
      "displayName": "Niraj Pahari",
      "photoUrl": "https://lh3.googleusercontent.com/a-/AOh14GgMhuGXLREiRVNAuekjP4QMHW33ne-Htx4lQfSX1w=s64",
      "userId": "09277333043831904871"
     },
     "user_tz": -420
    },
    "id": "AVA1G5E07-ne",
    "outputId": "ec5845a9-ec26-4a8c-c4a3-0946d387fa7a"
   },
   "outputs": [
    {
     "data": {
      "text/plain": [
       "0    a\n",
       "1    b\n",
       "2    c\n",
       "dtype: object"
      ]
     },
     "execution_count": 13,
     "metadata": {},
     "output_type": "execute_result"
    }
   ],
   "source": [
    "# Create pandas series using numpy array and labels\n",
    "pd.Series(['a', 'b', 'c'])"
   ]
  },
  {
   "cell_type": "markdown",
   "metadata": {
    "id": "BhM1UqXB8D6-"
   },
   "source": [
    "Using dictionary"
   ]
  },
  {
   "cell_type": "code",
   "execution_count": null,
   "metadata": {
    "colab": {
     "base_uri": "https://localhost:8080/"
    },
    "executionInfo": {
     "elapsed": 4408,
     "status": "ok",
     "timestamp": 1611485765946,
     "user": {
      "displayName": "Niraj Pahari",
      "photoUrl": "https://lh3.googleusercontent.com/a-/AOh14GgMhuGXLREiRVNAuekjP4QMHW33ne-Htx4lQfSX1w=s64",
      "userId": "09277333043831904871"
     },
     "user_tz": -420
    },
    "id": "QJQ-nXzZ8Bfw",
    "outputId": "c53139c5-5016-495f-ef1e-ae2e9135d457"
   },
   "outputs": [],
   "source": [
    "# Create pandas series using dictionary\n"
   ]
  },
  {
   "cell_type": "markdown",
   "metadata": {
    "id": "fes0Mo_e80NR"
   },
   "source": [
    "Pandas can hold varities of object types"
   ]
  },
  {
   "cell_type": "code",
   "execution_count": 25,
   "metadata": {
    "colab": {
     "base_uri": "https://localhost:8080/"
    },
    "executionInfo": {
     "elapsed": 4399,
     "status": "ok",
     "timestamp": 1611485765947,
     "user": {
      "displayName": "Niraj Pahari",
      "photoUrl": "https://lh3.googleusercontent.com/a-/AOh14GgMhuGXLREiRVNAuekjP4QMHW33ne-Htx4lQfSX1w=s64",
      "userId": "09277333043831904871"
     },
     "user_tz": -420
    },
    "id": "xXoSQGuK86c9",
    "outputId": "f8ec78f3-275f-4196-85ba-a04b8f7a2eca"
   },
   "outputs": [
    {
     "data": {
      "text/plain": [
       "0    a\n",
       "1    b\n",
       "2    c\n",
       "dtype: object"
      ]
     },
     "execution_count": 25,
     "metadata": {},
     "output_type": "execute_result"
    }
   ],
   "source": [
    "# Create pandas series with string objects\n",
    "pd.Series(['a', 'b', 'c'])"
   ]
  },
  {
   "cell_type": "markdown",
   "metadata": {
    "id": "qqTITzeL9KCO"
   },
   "source": [
    "Using an Index"
   ]
  },
  {
   "cell_type": "code",
   "execution_count": 35,
   "metadata": {
    "executionInfo": {
     "elapsed": 4398,
     "status": "ok",
     "timestamp": 1611485765948,
     "user": {
      "displayName": "Niraj Pahari",
      "photoUrl": "https://lh3.googleusercontent.com/a-/AOh14GgMhuGXLREiRVNAuekjP4QMHW33ne-Htx4lQfSX1w=s64",
      "userId": "09277333043831904871"
     },
     "user_tz": -420
    },
    "id": "7R1bmcE69Mry"
   },
   "outputs": [],
   "source": [
    "# Create a series with values [3,4,5] with ['2019', '2020', '2021'] as index\n",
    "series1 = pd.Series(data = [3,4,5], index = ['2019', '2020', '2021'])"
   ]
  },
  {
   "cell_type": "code",
   "execution_count": 36,
   "metadata": {
    "colab": {
     "base_uri": "https://localhost:8080/"
    },
    "executionInfo": {
     "elapsed": 4390,
     "status": "ok",
     "timestamp": 1611485765949,
     "user": {
      "displayName": "Niraj Pahari",
      "photoUrl": "https://lh3.googleusercontent.com/a-/AOh14GgMhuGXLREiRVNAuekjP4QMHW33ne-Htx4lQfSX1w=s64",
      "userId": "09277333043831904871"
     },
     "user_tz": -420
    },
    "id": "AsrDD0gw9SWn",
    "outputId": "e71b86b8-cc5a-4a9f-e7e0-9095c376f272"
   },
   "outputs": [
    {
     "name": "stdout",
     "output_type": "stream",
     "text": [
      "2019    3\n",
      "2020    4\n",
      "2021    5\n",
      "dtype: int64\n"
     ]
    }
   ],
   "source": [
    "# Print the series\n",
    "print(series1)"
   ]
  },
  {
   "cell_type": "code",
   "execution_count": 38,
   "metadata": {
    "colab": {
     "base_uri": "https://localhost:8080/"
    },
    "executionInfo": {
     "elapsed": 4382,
     "status": "ok",
     "timestamp": 1611485765950,
     "user": {
      "displayName": "Niraj Pahari",
      "photoUrl": "https://lh3.googleusercontent.com/a-/AOh14GgMhuGXLREiRVNAuekjP4QMHW33ne-Htx4lQfSX1w=s64",
      "userId": "09277333043831904871"
     },
     "user_tz": -420
    },
    "id": "d2ZO_uw69UjE",
    "outputId": "1b8204d1-1f71-4256-dc5d-a8bc8313973d"
   },
   "outputs": [
    {
     "data": {
      "text/plain": [
       "4"
      ]
     },
     "execution_count": 38,
     "metadata": {},
     "output_type": "execute_result"
    }
   ],
   "source": [
    "# Show the value for index '2020'\n",
    "series1['2020']"
   ]
  },
  {
   "cell_type": "markdown",
   "metadata": {
    "id": "NifP-yqz9k4F"
   },
   "source": [
    "Operations on series can be based on the index"
   ]
  },
  {
   "cell_type": "code",
   "execution_count": 32,
   "metadata": {
    "executionInfo": {
     "elapsed": 4380,
     "status": "ok",
     "timestamp": 1611485765950,
     "user": {
      "displayName": "Niraj Pahari",
      "photoUrl": "https://lh3.googleusercontent.com/a-/AOh14GgMhuGXLREiRVNAuekjP4QMHW33ne-Htx4lQfSX1w=s64",
      "userId": "09277333043831904871"
     },
     "user_tz": -420
    },
    "id": "ye5b4Owd9SUT"
   },
   "outputs": [],
   "source": [
    "# Create a second series with values [1,2,3] and index ['2017', '2018', '2019']\n",
    "series2 = pd.Series(data = [1,2,3], index = ['2017', '2018', '2019'])"
   ]
  },
  {
   "cell_type": "code",
   "execution_count": 33,
   "metadata": {
    "colab": {
     "base_uri": "https://localhost:8080/"
    },
    "executionInfo": {
     "elapsed": 4372,
     "status": "ok",
     "timestamp": 1611485765951,
     "user": {
      "displayName": "Niraj Pahari",
      "photoUrl": "https://lh3.googleusercontent.com/a-/AOh14GgMhuGXLREiRVNAuekjP4QMHW33ne-Htx4lQfSX1w=s64",
      "userId": "09277333043831904871"
     },
     "user_tz": -420
    },
    "id": "m6XwgVI_93ZZ",
    "outputId": "387ce0a0-0935-44ec-8b9b-dfa27a897c21"
   },
   "outputs": [
    {
     "data": {
      "text/plain": [
       "2017    1\n",
       "2018    2\n",
       "2019    3\n",
       "dtype: int64"
      ]
     },
     "execution_count": 33,
     "metadata": {},
     "output_type": "execute_result"
    }
   ],
   "source": [
    "# Display the second series\n",
    "series2"
   ]
  },
  {
   "cell_type": "code",
   "execution_count": 41,
   "metadata": {
    "colab": {
     "base_uri": "https://localhost:8080/"
    },
    "executionInfo": {
     "elapsed": 4364,
     "status": "ok",
     "timestamp": 1611485765952,
     "user": {
      "displayName": "Niraj Pahari",
      "photoUrl": "https://lh3.googleusercontent.com/a-/AOh14GgMhuGXLREiRVNAuekjP4QMHW33ne-Htx4lQfSX1w=s64",
      "userId": "09277333043831904871"
     },
     "user_tz": -420
    },
    "id": "_KzwK1Bw93Rz",
    "outputId": "3ce305df-7eb9-42f0-9279-4ba2aa6019ac"
   },
   "outputs": [
    {
     "data": {
      "text/plain": [
       "2017    NaN\n",
       "2018    NaN\n",
       "2019    6.0\n",
       "2020    NaN\n",
       "2021    NaN\n",
       "dtype: float64"
      ]
     },
     "execution_count": 41,
     "metadata": {},
     "output_type": "execute_result"
    }
   ],
   "source": [
    "# Add the two series \n",
    "series1 + series2"
   ]
  },
  {
   "cell_type": "markdown",
   "metadata": {
    "id": "HocCswli8Trg"
   },
   "source": [
    "Giving a name to the series"
   ]
  },
  {
   "cell_type": "code",
   "execution_count": 21,
   "metadata": {
    "colab": {
     "base_uri": "https://localhost:8080/"
    },
    "executionInfo": {
     "elapsed": 4354,
     "status": "ok",
     "timestamp": 1611485765953,
     "user": {
      "displayName": "Niraj Pahari",
      "photoUrl": "https://lh3.googleusercontent.com/a-/AOh14GgMhuGXLREiRVNAuekjP4QMHW33ne-Htx4lQfSX1w=s64",
      "userId": "09277333043831904871"
     },
     "user_tz": -420
    },
    "id": "g4n6cSbt8GtJ",
    "outputId": "9201341c-0ffe-4684-b278-1057a4ef8de0"
   },
   "outputs": [
    {
     "data": {
      "text/plain": [
       "a    1\n",
       "b    2\n",
       "c    3\n",
       "d    4\n",
       "Name: Prodect A, dtype: int64"
      ]
     },
     "execution_count": 21,
     "metadata": {},
     "output_type": "execute_result"
    }
   ],
   "source": [
    "# Create a series and give name to the series by passing 'Product A' as the name\n",
    "pd.Series([1,2,3,4], ['a','b','c','d'], name = \"Prodect A\")"
   ]
  },
  {
   "cell_type": "code",
   "execution_count": 43,
   "metadata": {},
   "outputs": [
    {
     "data": {
      "text/plain": [
       "pandas.core.series.Series"
      ]
     },
     "execution_count": 43,
     "metadata": {},
     "output_type": "execute_result"
    }
   ],
   "source": [
    "type(series1)"
   ]
  },
  {
   "cell_type": "markdown",
   "metadata": {
    "id": "gsv_BXbX-Yts"
   },
   "source": [
    "## Dataframe\n",
    "A DataFrame is a table. It contains an array of individual entries, each of which has a certain value. Each entry corresponds to a row (or record) and a column.\n",
    "\n",
    "We can think of a DataFrame as a bunch of Series objects put together to share the same index.\n",
    "\n",
    "\n"
   ]
  },
  {
   "cell_type": "code",
   "execution_count": 22,
   "metadata": {
    "colab": {
     "base_uri": "https://localhost:8080/",
     "height": 111
    },
    "executionInfo": {
     "elapsed": 4346,
     "status": "ok",
     "timestamp": 1611485765955,
     "user": {
      "displayName": "Niraj Pahari",
      "photoUrl": "https://lh3.googleusercontent.com/a-/AOh14GgMhuGXLREiRVNAuekjP4QMHW33ne-Htx4lQfSX1w=s64",
      "userId": "09277333043831904871"
     },
     "user_tz": -420
    },
    "id": "kOmvu1Hy8kUc",
    "outputId": "c07944dc-548e-40ea-f380-02826d935ceb"
   },
   "outputs": [
    {
     "data": {
      "text/html": [
       "<div>\n",
       "<style scoped>\n",
       "    .dataframe tbody tr th:only-of-type {\n",
       "        vertical-align: middle;\n",
       "    }\n",
       "\n",
       "    .dataframe tbody tr th {\n",
       "        vertical-align: top;\n",
       "    }\n",
       "\n",
       "    .dataframe thead th {\n",
       "        text-align: right;\n",
       "    }\n",
       "</style>\n",
       "<table border=\"1\" class=\"dataframe\">\n",
       "  <thead>\n",
       "    <tr style=\"text-align: right;\">\n",
       "      <th></th>\n",
       "      <th>Yes</th>\n",
       "      <th>No</th>\n",
       "    </tr>\n",
       "  </thead>\n",
       "  <tbody>\n",
       "    <tr>\n",
       "      <th>0</th>\n",
       "      <td>50</td>\n",
       "      <td>100</td>\n",
       "    </tr>\n",
       "    <tr>\n",
       "      <th>1</th>\n",
       "      <td>20</td>\n",
       "      <td>200</td>\n",
       "    </tr>\n",
       "  </tbody>\n",
       "</table>\n",
       "</div>"
      ],
      "text/plain": [
       "   Yes   No\n",
       "0   50  100\n",
       "1   20  200"
      ]
     },
     "execution_count": 22,
     "metadata": {},
     "output_type": "execute_result"
    }
   ],
   "source": [
    "# Create a pandas dataframe with the dictionary {'Yes': [50, 20], 'No':[100,200]}\n",
    "pd.DataFrame({'Yes': [50, 20], 'No':[100,200]})"
   ]
  },
  {
   "cell_type": "code",
   "execution_count": 29,
   "metadata": {
    "colab": {
     "base_uri": "https://localhost:8080/",
     "height": 111
    },
    "executionInfo": {
     "elapsed": 4335,
     "status": "ok",
     "timestamp": 1611485765955,
     "user": {
      "displayName": "Niraj Pahari",
      "photoUrl": "https://lh3.googleusercontent.com/a-/AOh14GgMhuGXLREiRVNAuekjP4QMHW33ne-Htx4lQfSX1w=s64",
      "userId": "09277333043831904871"
     },
     "user_tz": -420
    },
    "id": "GMOn3EvvA6Hw",
    "outputId": "1700e0c4-fb16-42ad-8608-90958fca7778"
   },
   "outputs": [
    {
     "data": {
      "text/html": [
       "<div>\n",
       "<style scoped>\n",
       "    .dataframe tbody tr th:only-of-type {\n",
       "        vertical-align: middle;\n",
       "    }\n",
       "\n",
       "    .dataframe tbody tr th {\n",
       "        vertical-align: top;\n",
       "    }\n",
       "\n",
       "    .dataframe thead th {\n",
       "        text-align: right;\n",
       "    }\n",
       "</style>\n",
       "<table border=\"1\" class=\"dataframe\">\n",
       "  <thead>\n",
       "    <tr style=\"text-align: right;\">\n",
       "      <th></th>\n",
       "      <th>Yes</th>\n",
       "      <th>No</th>\n",
       "    </tr>\n",
       "  </thead>\n",
       "  <tbody>\n",
       "    <tr>\n",
       "      <th>RAI 1</th>\n",
       "      <td>50</td>\n",
       "      <td>100</td>\n",
       "    </tr>\n",
       "    <tr>\n",
       "      <th>RAI 2</th>\n",
       "      <td>20</td>\n",
       "      <td>200</td>\n",
       "    </tr>\n",
       "  </tbody>\n",
       "</table>\n",
       "</div>"
      ],
      "text/plain": [
       "       Yes   No\n",
       "RAI 1   50  100\n",
       "RAI 2   20  200"
      ]
     },
     "execution_count": 29,
     "metadata": {},
     "output_type": "execute_result"
    }
   ],
   "source": [
    "# Create a pandas dataframe with the dictionary {'Yes': [50, 20], 'No':[100,200]} and index ['RAI 1', 'RAI 2']\n",
    "pd.DataFrame({'Yes': [50, 20], 'No':[100,200]}, index = ['RAI 1', 'RAI 2'])"
   ]
  },
  {
   "cell_type": "markdown",
   "metadata": {
    "id": "XOoIRtQiBXXq"
   },
   "source": [
    "We can also define dataframe as list of values and similarly add index and columns as list"
   ]
  },
  {
   "cell_type": "code",
   "execution_count": 30,
   "metadata": {
    "executionInfo": {
     "elapsed": 4334,
     "status": "ok",
     "timestamp": 1611485765956,
     "user": {
      "displayName": "Niraj Pahari",
      "photoUrl": "https://lh3.googleusercontent.com/a-/AOh14GgMhuGXLREiRVNAuekjP4QMHW33ne-Htx4lQfSX1w=s64",
      "userId": "09277333043831904871"
     },
     "user_tz": -420
    },
    "id": "sHan_8J_BLfu"
   },
   "outputs": [],
   "source": [
    "# creating a list of random number of size (5,4)\n",
    "np.random.seed(100)\n",
    "random_values = np.random.randn(5,4)"
   ]
  },
  {
   "cell_type": "code",
   "execution_count": 31,
   "metadata": {
    "colab": {
     "base_uri": "https://localhost:8080/"
    },
    "executionInfo": {
     "elapsed": 4326,
     "status": "ok",
     "timestamp": 1611485765957,
     "user": {
      "displayName": "Niraj Pahari",
      "photoUrl": "https://lh3.googleusercontent.com/a-/AOh14GgMhuGXLREiRVNAuekjP4QMHW33ne-Htx4lQfSX1w=s64",
      "userId": "09277333043831904871"
     },
     "user_tz": -420
    },
    "id": "WNO8vyXMB4C3",
    "outputId": "3a8dd8f0-ed82-42ca-a611-3a4c9c399faf"
   },
   "outputs": [
    {
     "data": {
      "text/plain": [
       "array([[-1.74976547,  0.3426804 ,  1.1530358 , -0.25243604],\n",
       "       [ 0.98132079,  0.51421884,  0.22117967, -1.07004333],\n",
       "       [-0.18949583,  0.25500144, -0.45802699,  0.43516349],\n",
       "       [-0.58359505,  0.81684707,  0.67272081, -0.10441114],\n",
       "       [-0.53128038,  1.02973269, -0.43813562, -1.11831825]])"
      ]
     },
     "execution_count": 31,
     "metadata": {},
     "output_type": "execute_result"
    }
   ],
   "source": [
    "# Display the random values\n",
    "random_values"
   ]
  },
  {
   "cell_type": "code",
   "execution_count": 39,
   "metadata": {
    "executionInfo": {
     "elapsed": 4325,
     "status": "ok",
     "timestamp": 1611485765958,
     "user": {
      "displayName": "Niraj Pahari",
      "photoUrl": "https://lh3.googleusercontent.com/a-/AOh14GgMhuGXLREiRVNAuekjP4QMHW33ne-Htx4lQfSX1w=s64",
      "userId": "09277333043831904871"
     },
     "user_tz": -420
    },
    "id": "0-8m5CRuB5LG"
   },
   "outputs": [],
   "source": [
    "# Create the dataframe with the random_values with index ['Thailand', 'Malaysia', 'Japan', 'Laos', 'Vietnam'] and columns ['Dell', 'Samsung', 'Apple', 'HP']\n",
    "df = pd.DataFrame(random_values, index=['Thailand', 'Malaysia', 'Japan', 'Laos', 'Vietnam'], columns=['Dell', 'Samsung', 'Apple', 'HP'])"
   ]
  },
  {
   "cell_type": "code",
   "execution_count": 40,
   "metadata": {
    "colab": {
     "base_uri": "https://localhost:8080/",
     "height": 204
    },
    "executionInfo": {
     "elapsed": 4317,
     "status": "ok",
     "timestamp": 1611485765959,
     "user": {
      "displayName": "Niraj Pahari",
      "photoUrl": "https://lh3.googleusercontent.com/a-/AOh14GgMhuGXLREiRVNAuekjP4QMHW33ne-Htx4lQfSX1w=s64",
      "userId": "09277333043831904871"
     },
     "user_tz": -420
    },
    "id": "FMJhOyS6CSyw",
    "outputId": "c515f3f3-58e0-4274-bc79-e4a92bf1629c"
   },
   "outputs": [
    {
     "data": {
      "text/html": [
       "<div>\n",
       "<style scoped>\n",
       "    .dataframe tbody tr th:only-of-type {\n",
       "        vertical-align: middle;\n",
       "    }\n",
       "\n",
       "    .dataframe tbody tr th {\n",
       "        vertical-align: top;\n",
       "    }\n",
       "\n",
       "    .dataframe thead th {\n",
       "        text-align: right;\n",
       "    }\n",
       "</style>\n",
       "<table border=\"1\" class=\"dataframe\">\n",
       "  <thead>\n",
       "    <tr style=\"text-align: right;\">\n",
       "      <th></th>\n",
       "      <th>Dell</th>\n",
       "      <th>Samsung</th>\n",
       "      <th>Apple</th>\n",
       "      <th>HP</th>\n",
       "    </tr>\n",
       "  </thead>\n",
       "  <tbody>\n",
       "    <tr>\n",
       "      <th>Thailand</th>\n",
       "      <td>-1.749765</td>\n",
       "      <td>0.342680</td>\n",
       "      <td>1.153036</td>\n",
       "      <td>-0.252436</td>\n",
       "    </tr>\n",
       "    <tr>\n",
       "      <th>Malaysia</th>\n",
       "      <td>0.981321</td>\n",
       "      <td>0.514219</td>\n",
       "      <td>0.221180</td>\n",
       "      <td>-1.070043</td>\n",
       "    </tr>\n",
       "    <tr>\n",
       "      <th>Japan</th>\n",
       "      <td>-0.189496</td>\n",
       "      <td>0.255001</td>\n",
       "      <td>-0.458027</td>\n",
       "      <td>0.435163</td>\n",
       "    </tr>\n",
       "    <tr>\n",
       "      <th>Laos</th>\n",
       "      <td>-0.583595</td>\n",
       "      <td>0.816847</td>\n",
       "      <td>0.672721</td>\n",
       "      <td>-0.104411</td>\n",
       "    </tr>\n",
       "    <tr>\n",
       "      <th>Vietnam</th>\n",
       "      <td>-0.531280</td>\n",
       "      <td>1.029733</td>\n",
       "      <td>-0.438136</td>\n",
       "      <td>-1.118318</td>\n",
       "    </tr>\n",
       "  </tbody>\n",
       "</table>\n",
       "</div>"
      ],
      "text/plain": [
       "              Dell   Samsung     Apple        HP\n",
       "Thailand -1.749765  0.342680  1.153036 -0.252436\n",
       "Malaysia  0.981321  0.514219  0.221180 -1.070043\n",
       "Japan    -0.189496  0.255001 -0.458027  0.435163\n",
       "Laos     -0.583595  0.816847  0.672721 -0.104411\n",
       "Vietnam  -0.531280  1.029733 -0.438136 -1.118318"
      ]
     },
     "execution_count": 40,
     "metadata": {},
     "output_type": "execute_result"
    }
   ],
   "source": [
    "# Display the dataframe\n",
    "df"
   ]
  },
  {
   "cell_type": "code",
   "execution_count": 45,
   "metadata": {},
   "outputs": [
    {
     "data": {
      "text/plain": [
       "pandas.core.frame.DataFrame"
      ]
     },
     "execution_count": 45,
     "metadata": {},
     "output_type": "execute_result"
    }
   ],
   "source": [
    "type(df)"
   ]
  },
  {
   "cell_type": "markdown",
   "metadata": {
    "id": "Wpfg86WeEEF2"
   },
   "source": [
    "### Selection and Indexing\n",
    "\n",
    "Lets learn the various methods to grad data from a DataFrame"
   ]
  },
  {
   "cell_type": "code",
   "execution_count": 91,
   "metadata": {
    "colab": {
     "base_uri": "https://localhost:8080/"
    },
    "executionInfo": {
     "elapsed": 4308,
     "status": "ok",
     "timestamp": 1611485765960,
     "user": {
      "displayName": "Niraj Pahari",
      "photoUrl": "https://lh3.googleusercontent.com/a-/AOh14GgMhuGXLREiRVNAuekjP4QMHW33ne-Htx4lQfSX1w=s64",
      "userId": "09277333043831904871"
     },
     "user_tz": -420
    },
    "id": "U4cIalyHCT7N",
    "outputId": "02c85f19-94f1-4602-c36c-193abad9ffe7"
   },
   "outputs": [
    {
     "data": {
      "text/plain": [
       "Thailand   -1.749765\n",
       "Malaysia    0.981321\n",
       "Laos       -0.583595\n",
       "Vietnam    -0.531280\n",
       "Name: Dell, dtype: float64"
      ]
     },
     "execution_count": 91,
     "metadata": {},
     "output_type": "execute_result"
    }
   ],
   "source": [
    "# Select using indexing for Dell models only\n",
    "df['Dell'] # => try to use st like this"
   ]
  },
  {
   "cell_type": "code",
   "execution_count": 92,
   "metadata": {
    "colab": {
     "base_uri": "https://localhost:8080/"
    },
    "executionInfo": {
     "elapsed": 4301,
     "status": "ok",
     "timestamp": 1611485765961,
     "user": {
      "displayName": "Niraj Pahari",
      "photoUrl": "https://lh3.googleusercontent.com/a-/AOh14GgMhuGXLREiRVNAuekjP4QMHW33ne-Htx4lQfSX1w=s64",
      "userId": "09277333043831904871"
     },
     "user_tz": -420
    },
    "id": "cGS6-vhTENxd",
    "outputId": "1cde56e4-020b-4d1c-cd4a-61dfbce7b7ac"
   },
   "outputs": [
    {
     "data": {
      "text/plain": [
       "pandas.core.series.Series"
      ]
     },
     "execution_count": 92,
     "metadata": {},
     "output_type": "execute_result"
    }
   ],
   "source": [
    "# Check the type of data returned by the above code\n",
    "type(df['Dell'])"
   ]
  },
  {
   "cell_type": "code",
   "execution_count": 93,
   "metadata": {
    "colab": {
     "base_uri": "https://localhost:8080/",
     "height": 0
    },
    "executionInfo": {
     "elapsed": 4294,
     "status": "ok",
     "timestamp": 1611485765962,
     "user": {
      "displayName": "Niraj Pahari",
      "photoUrl": "https://lh3.googleusercontent.com/a-/AOh14GgMhuGXLREiRVNAuekjP4QMHW33ne-Htx4lQfSX1w=s64",
      "userId": "09277333043831904871"
     },
     "user_tz": -420
    },
    "id": "ERPk35PsEYa6",
    "outputId": "c2371d78-fbad-4a10-9cf1-8c1565abff47"
   },
   "outputs": [
    {
     "data": {
      "text/html": [
       "<div>\n",
       "<style scoped>\n",
       "    .dataframe tbody tr th:only-of-type {\n",
       "        vertical-align: middle;\n",
       "    }\n",
       "\n",
       "    .dataframe tbody tr th {\n",
       "        vertical-align: top;\n",
       "    }\n",
       "\n",
       "    .dataframe thead th {\n",
       "        text-align: right;\n",
       "    }\n",
       "</style>\n",
       "<table border=\"1\" class=\"dataframe\">\n",
       "  <thead>\n",
       "    <tr style=\"text-align: right;\">\n",
       "      <th></th>\n",
       "      <th>Dell</th>\n",
       "      <th>HP</th>\n",
       "    </tr>\n",
       "  </thead>\n",
       "  <tbody>\n",
       "    <tr>\n",
       "      <th>Thailand</th>\n",
       "      <td>-1.749765</td>\n",
       "      <td>-0.252436</td>\n",
       "    </tr>\n",
       "    <tr>\n",
       "      <th>Malaysia</th>\n",
       "      <td>0.981321</td>\n",
       "      <td>-1.070043</td>\n",
       "    </tr>\n",
       "    <tr>\n",
       "      <th>Laos</th>\n",
       "      <td>-0.583595</td>\n",
       "      <td>-0.104411</td>\n",
       "    </tr>\n",
       "    <tr>\n",
       "      <th>Vietnam</th>\n",
       "      <td>-0.531280</td>\n",
       "      <td>-1.118318</td>\n",
       "    </tr>\n",
       "  </tbody>\n",
       "</table>\n",
       "</div>"
      ],
      "text/plain": [
       "              Dell        HP\n",
       "Thailand -1.749765 -0.252436\n",
       "Malaysia  0.981321 -1.070043\n",
       "Laos     -0.583595 -0.104411\n",
       "Vietnam  -0.531280 -1.118318"
      ]
     },
     "execution_count": 93,
     "metadata": {},
     "output_type": "execute_result"
    }
   ],
   "source": [
    "# Select the columns Dell and HP\n",
    "df[['Dell', 'HP']]"
   ]
  },
  {
   "cell_type": "code",
   "execution_count": 94,
   "metadata": {},
   "outputs": [
    {
     "data": {
      "text/plain": [
       "pandas.core.frame.DataFrame"
      ]
     },
     "execution_count": 94,
     "metadata": {},
     "output_type": "execute_result"
    }
   ],
   "source": [
    "type(df[['Dell', 'HP']])"
   ]
  },
  {
   "cell_type": "code",
   "execution_count": 95,
   "metadata": {
    "colab": {
     "base_uri": "https://localhost:8080/"
    },
    "executionInfo": {
     "elapsed": 4287,
     "status": "ok",
     "timestamp": 1611485765963,
     "user": {
      "displayName": "Niraj Pahari",
      "photoUrl": "https://lh3.googleusercontent.com/a-/AOh14GgMhuGXLREiRVNAuekjP4QMHW33ne-Htx4lQfSX1w=s64",
      "userId": "09277333043831904871"
     },
     "user_tz": -420
    },
    "id": "a5ZZviowEexW",
    "outputId": "a509d1fc-1b5a-47e5-9735-193f7ad50e8d"
   },
   "outputs": [
    {
     "data": {
      "text/plain": [
       "Thailand   -1.749765\n",
       "Malaysia    0.981321\n",
       "Laos       -0.583595\n",
       "Vietnam    -0.531280\n",
       "Name: Dell, dtype: float64"
      ]
     },
     "execution_count": 95,
     "metadata": {},
     "output_type": "execute_result"
    }
   ],
   "source": [
    "# Using the string with (.) operator to display the column\n",
    "df.Dell # not recommended"
   ]
  },
  {
   "cell_type": "code",
   "execution_count": 96,
   "metadata": {},
   "outputs": [
    {
     "data": {
      "text/html": [
       "<div>\n",
       "<style scoped>\n",
       "    .dataframe tbody tr th:only-of-type {\n",
       "        vertical-align: middle;\n",
       "    }\n",
       "\n",
       "    .dataframe tbody tr th {\n",
       "        vertical-align: top;\n",
       "    }\n",
       "\n",
       "    .dataframe thead th {\n",
       "        text-align: right;\n",
       "    }\n",
       "</style>\n",
       "<table border=\"1\" class=\"dataframe\">\n",
       "  <thead>\n",
       "    <tr style=\"text-align: right;\">\n",
       "      <th></th>\n",
       "      <th>Dell</th>\n",
       "      <th>Samsung</th>\n",
       "      <th>Apple</th>\n",
       "      <th>HP</th>\n",
       "      <th>Apple + HP</th>\n",
       "    </tr>\n",
       "  </thead>\n",
       "  <tbody>\n",
       "    <tr>\n",
       "      <th>Thailand</th>\n",
       "      <td>-1.749765</td>\n",
       "      <td>0.342680</td>\n",
       "      <td>1.153036</td>\n",
       "      <td>-0.252436</td>\n",
       "      <td>8999</td>\n",
       "    </tr>\n",
       "    <tr>\n",
       "      <th>Malaysia</th>\n",
       "      <td>0.981321</td>\n",
       "      <td>0.514219</td>\n",
       "      <td>0.221180</td>\n",
       "      <td>-1.070043</td>\n",
       "      <td>8999</td>\n",
       "    </tr>\n",
       "    <tr>\n",
       "      <th>Laos</th>\n",
       "      <td>-0.583595</td>\n",
       "      <td>0.816847</td>\n",
       "      <td>0.672721</td>\n",
       "      <td>-0.104411</td>\n",
       "      <td>8999</td>\n",
       "    </tr>\n",
       "    <tr>\n",
       "      <th>Vietnam</th>\n",
       "      <td>-0.531280</td>\n",
       "      <td>1.029733</td>\n",
       "      <td>-0.438136</td>\n",
       "      <td>-1.118318</td>\n",
       "      <td>8999</td>\n",
       "    </tr>\n",
       "  </tbody>\n",
       "</table>\n",
       "</div>"
      ],
      "text/plain": [
       "              Dell   Samsung     Apple        HP  Apple + HP\n",
       "Thailand -1.749765  0.342680  1.153036 -0.252436        8999\n",
       "Malaysia  0.981321  0.514219  0.221180 -1.070043        8999\n",
       "Laos     -0.583595  0.816847  0.672721 -0.104411        8999\n",
       "Vietnam  -0.531280  1.029733 -0.438136 -1.118318        8999"
      ]
     },
     "execution_count": 96,
     "metadata": {},
     "output_type": "execute_result"
    }
   ],
   "source": [
    "df"
   ]
  },
  {
   "cell_type": "code",
   "execution_count": 87,
   "metadata": {
    "executionInfo": {
     "elapsed": 4285,
     "status": "ok",
     "timestamp": 1611485765963,
     "user": {
      "displayName": "Niraj Pahari",
      "photoUrl": "https://lh3.googleusercontent.com/a-/AOh14GgMhuGXLREiRVNAuekjP4QMHW33ne-Htx4lQfSX1w=s64",
      "userId": "09277333043831904871"
     },
     "user_tz": -420
    },
    "id": "EKP0p-pcEm71"
   },
   "outputs": [],
   "source": [
    "# Creating a new column\n",
    "df['Apple + HP'] = df['Apple'] + df['HP']"
   ]
  },
  {
   "cell_type": "code",
   "execution_count": 97,
   "metadata": {
    "colab": {
     "base_uri": "https://localhost:8080/",
     "height": 0
    },
    "executionInfo": {
     "elapsed": 4279,
     "status": "ok",
     "timestamp": 1611485765964,
     "user": {
      "displayName": "Niraj Pahari",
      "photoUrl": "https://lh3.googleusercontent.com/a-/AOh14GgMhuGXLREiRVNAuekjP4QMHW33ne-Htx4lQfSX1w=s64",
      "userId": "09277333043831904871"
     },
     "user_tz": -420
    },
    "id": "98TnuwTYE6zi",
    "outputId": "7b75506c-aa5c-4d35-fd8c-b0f124f3bdaf"
   },
   "outputs": [
    {
     "data": {
      "text/html": [
       "<div>\n",
       "<style scoped>\n",
       "    .dataframe tbody tr th:only-of-type {\n",
       "        vertical-align: middle;\n",
       "    }\n",
       "\n",
       "    .dataframe tbody tr th {\n",
       "        vertical-align: top;\n",
       "    }\n",
       "\n",
       "    .dataframe thead th {\n",
       "        text-align: right;\n",
       "    }\n",
       "</style>\n",
       "<table border=\"1\" class=\"dataframe\">\n",
       "  <thead>\n",
       "    <tr style=\"text-align: right;\">\n",
       "      <th></th>\n",
       "      <th>Dell</th>\n",
       "      <th>Samsung</th>\n",
       "      <th>Apple</th>\n",
       "      <th>HP</th>\n",
       "      <th>Apple + HP</th>\n",
       "    </tr>\n",
       "  </thead>\n",
       "  <tbody>\n",
       "    <tr>\n",
       "      <th>Thailand</th>\n",
       "      <td>-1.749765</td>\n",
       "      <td>0.342680</td>\n",
       "      <td>1.153036</td>\n",
       "      <td>-0.252436</td>\n",
       "      <td>8999</td>\n",
       "    </tr>\n",
       "    <tr>\n",
       "      <th>Malaysia</th>\n",
       "      <td>0.981321</td>\n",
       "      <td>0.514219</td>\n",
       "      <td>0.221180</td>\n",
       "      <td>-1.070043</td>\n",
       "      <td>8999</td>\n",
       "    </tr>\n",
       "    <tr>\n",
       "      <th>Laos</th>\n",
       "      <td>-0.583595</td>\n",
       "      <td>0.816847</td>\n",
       "      <td>0.672721</td>\n",
       "      <td>-0.104411</td>\n",
       "      <td>8999</td>\n",
       "    </tr>\n",
       "    <tr>\n",
       "      <th>Vietnam</th>\n",
       "      <td>-0.531280</td>\n",
       "      <td>1.029733</td>\n",
       "      <td>-0.438136</td>\n",
       "      <td>-1.118318</td>\n",
       "      <td>8999</td>\n",
       "    </tr>\n",
       "  </tbody>\n",
       "</table>\n",
       "</div>"
      ],
      "text/plain": [
       "              Dell   Samsung     Apple        HP  Apple + HP\n",
       "Thailand -1.749765  0.342680  1.153036 -0.252436        8999\n",
       "Malaysia  0.981321  0.514219  0.221180 -1.070043        8999\n",
       "Laos     -0.583595  0.816847  0.672721 -0.104411        8999\n",
       "Vietnam  -0.531280  1.029733 -0.438136 -1.118318        8999"
      ]
     },
     "execution_count": 97,
     "metadata": {},
     "output_type": "execute_result"
    }
   ],
   "source": [
    "# Display the df\n",
    "df"
   ]
  },
  {
   "cell_type": "code",
   "execution_count": 98,
   "metadata": {},
   "outputs": [],
   "source": [
    "df['Apple + HP'] = 8999"
   ]
  },
  {
   "cell_type": "code",
   "execution_count": 99,
   "metadata": {},
   "outputs": [
    {
     "data": {
      "text/html": [
       "<div>\n",
       "<style scoped>\n",
       "    .dataframe tbody tr th:only-of-type {\n",
       "        vertical-align: middle;\n",
       "    }\n",
       "\n",
       "    .dataframe tbody tr th {\n",
       "        vertical-align: top;\n",
       "    }\n",
       "\n",
       "    .dataframe thead th {\n",
       "        text-align: right;\n",
       "    }\n",
       "</style>\n",
       "<table border=\"1\" class=\"dataframe\">\n",
       "  <thead>\n",
       "    <tr style=\"text-align: right;\">\n",
       "      <th></th>\n",
       "      <th>Dell</th>\n",
       "      <th>Samsung</th>\n",
       "      <th>Apple</th>\n",
       "      <th>HP</th>\n",
       "      <th>Apple + HP</th>\n",
       "    </tr>\n",
       "  </thead>\n",
       "  <tbody>\n",
       "    <tr>\n",
       "      <th>Thailand</th>\n",
       "      <td>-1.749765</td>\n",
       "      <td>0.342680</td>\n",
       "      <td>1.153036</td>\n",
       "      <td>-0.252436</td>\n",
       "      <td>8999</td>\n",
       "    </tr>\n",
       "    <tr>\n",
       "      <th>Malaysia</th>\n",
       "      <td>0.981321</td>\n",
       "      <td>0.514219</td>\n",
       "      <td>0.221180</td>\n",
       "      <td>-1.070043</td>\n",
       "      <td>8999</td>\n",
       "    </tr>\n",
       "    <tr>\n",
       "      <th>Laos</th>\n",
       "      <td>-0.583595</td>\n",
       "      <td>0.816847</td>\n",
       "      <td>0.672721</td>\n",
       "      <td>-0.104411</td>\n",
       "      <td>8999</td>\n",
       "    </tr>\n",
       "    <tr>\n",
       "      <th>Vietnam</th>\n",
       "      <td>-0.531280</td>\n",
       "      <td>1.029733</td>\n",
       "      <td>-0.438136</td>\n",
       "      <td>-1.118318</td>\n",
       "      <td>8999</td>\n",
       "    </tr>\n",
       "  </tbody>\n",
       "</table>\n",
       "</div>"
      ],
      "text/plain": [
       "              Dell   Samsung     Apple        HP  Apple + HP\n",
       "Thailand -1.749765  0.342680  1.153036 -0.252436        8999\n",
       "Malaysia  0.981321  0.514219  0.221180 -1.070043        8999\n",
       "Laos     -0.583595  0.816847  0.672721 -0.104411        8999\n",
       "Vietnam  -0.531280  1.029733 -0.438136 -1.118318        8999"
      ]
     },
     "execution_count": 99,
     "metadata": {},
     "output_type": "execute_result"
    }
   ],
   "source": [
    "df"
   ]
  },
  {
   "cell_type": "markdown",
   "metadata": {
    "id": "zvd9CHItFhS5"
   },
   "source": [
    "### Deleting a column\n",
    "\n",
    "Note: If inplace is False(defaut), it will not delete the data from the original dataframe but just return the view of dataframe without the column."
   ]
  },
  {
   "cell_type": "code",
   "execution_count": 104,
   "metadata": {
    "executionInfo": {
     "elapsed": 4276,
     "status": "ok",
     "timestamp": 1611485765965,
     "user": {
      "displayName": "Niraj Pahari",
      "photoUrl": "https://lh3.googleusercontent.com/a-/AOh14GgMhuGXLREiRVNAuekjP4QMHW33ne-Htx4lQfSX1w=s64",
      "userId": "09277333043831904871"
     },
     "user_tz": -420
    },
    "id": "MTnkrTnKE7o0"
   },
   "outputs": [],
   "source": [
    "# Delete the above created column using drop command => drop stand for deleting\n",
    "df.drop('Apple + HP', axis = 1, inplace = True)"
   ]
  },
  {
   "cell_type": "code",
   "execution_count": 105,
   "metadata": {
    "colab": {
     "base_uri": "https://localhost:8080/",
     "height": 0
    },
    "executionInfo": {
     "elapsed": 4268,
     "status": "ok",
     "timestamp": 1611485765965,
     "user": {
      "displayName": "Niraj Pahari",
      "photoUrl": "https://lh3.googleusercontent.com/a-/AOh14GgMhuGXLREiRVNAuekjP4QMHW33ne-Htx4lQfSX1w=s64",
      "userId": "09277333043831904871"
     },
     "user_tz": -420
    },
    "id": "f82VYoWCFHnJ",
    "outputId": "b20990cc-0149-4b19-acb1-0622fc07d8e5"
   },
   "outputs": [
    {
     "data": {
      "text/html": [
       "<div>\n",
       "<style scoped>\n",
       "    .dataframe tbody tr th:only-of-type {\n",
       "        vertical-align: middle;\n",
       "    }\n",
       "\n",
       "    .dataframe tbody tr th {\n",
       "        vertical-align: top;\n",
       "    }\n",
       "\n",
       "    .dataframe thead th {\n",
       "        text-align: right;\n",
       "    }\n",
       "</style>\n",
       "<table border=\"1\" class=\"dataframe\">\n",
       "  <thead>\n",
       "    <tr style=\"text-align: right;\">\n",
       "      <th></th>\n",
       "      <th>Dell</th>\n",
       "      <th>Samsung</th>\n",
       "      <th>Apple</th>\n",
       "      <th>HP</th>\n",
       "    </tr>\n",
       "  </thead>\n",
       "  <tbody>\n",
       "    <tr>\n",
       "      <th>Thailand</th>\n",
       "      <td>-1.749765</td>\n",
       "      <td>0.342680</td>\n",
       "      <td>1.153036</td>\n",
       "      <td>-0.252436</td>\n",
       "    </tr>\n",
       "    <tr>\n",
       "      <th>Malaysia</th>\n",
       "      <td>0.981321</td>\n",
       "      <td>0.514219</td>\n",
       "      <td>0.221180</td>\n",
       "      <td>-1.070043</td>\n",
       "    </tr>\n",
       "    <tr>\n",
       "      <th>Laos</th>\n",
       "      <td>-0.583595</td>\n",
       "      <td>0.816847</td>\n",
       "      <td>0.672721</td>\n",
       "      <td>-0.104411</td>\n",
       "    </tr>\n",
       "    <tr>\n",
       "      <th>Vietnam</th>\n",
       "      <td>-0.531280</td>\n",
       "      <td>1.029733</td>\n",
       "      <td>-0.438136</td>\n",
       "      <td>-1.118318</td>\n",
       "    </tr>\n",
       "  </tbody>\n",
       "</table>\n",
       "</div>"
      ],
      "text/plain": [
       "              Dell   Samsung     Apple        HP\n",
       "Thailand -1.749765  0.342680  1.153036 -0.252436\n",
       "Malaysia  0.981321  0.514219  0.221180 -1.070043\n",
       "Laos     -0.583595  0.816847  0.672721 -0.104411\n",
       "Vietnam  -0.531280  1.029733 -0.438136 -1.118318"
      ]
     },
     "execution_count": 105,
     "metadata": {},
     "output_type": "execute_result"
    }
   ],
   "source": [
    "# Display the df\n",
    "df"
   ]
  },
  {
   "cell_type": "markdown",
   "metadata": {
    "id": "GTKM-TZ4GGan"
   },
   "source": [
    "### Deleting a Row"
   ]
  },
  {
   "cell_type": "code",
   "execution_count": 100,
   "metadata": {
    "colab": {
     "base_uri": "https://localhost:8080/",
     "height": 0
    },
    "executionInfo": {
     "elapsed": 4262,
     "status": "ok",
     "timestamp": 1611485765966,
     "user": {
      "displayName": "Niraj Pahari",
      "photoUrl": "https://lh3.googleusercontent.com/a-/AOh14GgMhuGXLREiRVNAuekjP4QMHW33ne-Htx4lQfSX1w=s64",
      "userId": "09277333043831904871"
     },
     "user_tz": -420
    },
    "id": "18o5XDlNFIXM",
    "outputId": "340ef06a-79fd-41f0-e871-0a215a8be58f"
   },
   "outputs": [
    {
     "ename": "KeyError",
     "evalue": "\"['Japan'] not found in axis\"",
     "output_type": "error",
     "traceback": [
      "\u001b[1;31m---------------------------------------------------------------------------\u001b[0m",
      "\u001b[1;31mKeyError\u001b[0m                                  Traceback (most recent call last)",
      "\u001b[1;32m~\\AppData\\Local\\Temp/ipykernel_7864/3577692399.py\u001b[0m in \u001b[0;36m<module>\u001b[1;34m\u001b[0m\n\u001b[0;32m      1\u001b[0m \u001b[1;31m# Delete the row Japan\u001b[0m\u001b[1;33m\u001b[0m\u001b[1;33m\u001b[0m\u001b[0m\n\u001b[1;32m----> 2\u001b[1;33m \u001b[0mdf\u001b[0m\u001b[1;33m.\u001b[0m\u001b[0mdrop\u001b[0m\u001b[1;33m(\u001b[0m\u001b[1;34m'Japan'\u001b[0m\u001b[1;33m,\u001b[0m \u001b[0maxis\u001b[0m \u001b[1;33m=\u001b[0m \u001b[1;36m0\u001b[0m\u001b[1;33m,\u001b[0m \u001b[0minplace\u001b[0m \u001b[1;33m=\u001b[0m \u001b[1;32mTrue\u001b[0m\u001b[1;33m)\u001b[0m\u001b[1;33m\u001b[0m\u001b[1;33m\u001b[0m\u001b[0m\n\u001b[0m",
      "\u001b[1;32mD:\\Programs\\anaconda3\\lib\\site-packages\\pandas\\util\\_decorators.py\u001b[0m in \u001b[0;36mwrapper\u001b[1;34m(*args, **kwargs)\u001b[0m\n\u001b[0;32m    309\u001b[0m                     \u001b[0mstacklevel\u001b[0m\u001b[1;33m=\u001b[0m\u001b[0mstacklevel\u001b[0m\u001b[1;33m,\u001b[0m\u001b[1;33m\u001b[0m\u001b[1;33m\u001b[0m\u001b[0m\n\u001b[0;32m    310\u001b[0m                 )\n\u001b[1;32m--> 311\u001b[1;33m             \u001b[1;32mreturn\u001b[0m \u001b[0mfunc\u001b[0m\u001b[1;33m(\u001b[0m\u001b[1;33m*\u001b[0m\u001b[0margs\u001b[0m\u001b[1;33m,\u001b[0m \u001b[1;33m**\u001b[0m\u001b[0mkwargs\u001b[0m\u001b[1;33m)\u001b[0m\u001b[1;33m\u001b[0m\u001b[1;33m\u001b[0m\u001b[0m\n\u001b[0m\u001b[0;32m    312\u001b[0m \u001b[1;33m\u001b[0m\u001b[0m\n\u001b[0;32m    313\u001b[0m         \u001b[1;32mreturn\u001b[0m \u001b[0mwrapper\u001b[0m\u001b[1;33m\u001b[0m\u001b[1;33m\u001b[0m\u001b[0m\n",
      "\u001b[1;32mD:\\Programs\\anaconda3\\lib\\site-packages\\pandas\\core\\frame.py\u001b[0m in \u001b[0;36mdrop\u001b[1;34m(self, labels, axis, index, columns, level, inplace, errors)\u001b[0m\n\u001b[0;32m   4904\u001b[0m                 \u001b[0mweight\u001b[0m  \u001b[1;36m1.0\u001b[0m     \u001b[1;36m0.8\u001b[0m\u001b[1;33m\u001b[0m\u001b[1;33m\u001b[0m\u001b[0m\n\u001b[0;32m   4905\u001b[0m         \"\"\"\n\u001b[1;32m-> 4906\u001b[1;33m         return super().drop(\n\u001b[0m\u001b[0;32m   4907\u001b[0m             \u001b[0mlabels\u001b[0m\u001b[1;33m=\u001b[0m\u001b[0mlabels\u001b[0m\u001b[1;33m,\u001b[0m\u001b[1;33m\u001b[0m\u001b[1;33m\u001b[0m\u001b[0m\n\u001b[0;32m   4908\u001b[0m             \u001b[0maxis\u001b[0m\u001b[1;33m=\u001b[0m\u001b[0maxis\u001b[0m\u001b[1;33m,\u001b[0m\u001b[1;33m\u001b[0m\u001b[1;33m\u001b[0m\u001b[0m\n",
      "\u001b[1;32mD:\\Programs\\anaconda3\\lib\\site-packages\\pandas\\core\\generic.py\u001b[0m in \u001b[0;36mdrop\u001b[1;34m(self, labels, axis, index, columns, level, inplace, errors)\u001b[0m\n\u001b[0;32m   4148\u001b[0m         \u001b[1;32mfor\u001b[0m \u001b[0maxis\u001b[0m\u001b[1;33m,\u001b[0m \u001b[0mlabels\u001b[0m \u001b[1;32min\u001b[0m \u001b[0maxes\u001b[0m\u001b[1;33m.\u001b[0m\u001b[0mitems\u001b[0m\u001b[1;33m(\u001b[0m\u001b[1;33m)\u001b[0m\u001b[1;33m:\u001b[0m\u001b[1;33m\u001b[0m\u001b[1;33m\u001b[0m\u001b[0m\n\u001b[0;32m   4149\u001b[0m             \u001b[1;32mif\u001b[0m \u001b[0mlabels\u001b[0m \u001b[1;32mis\u001b[0m \u001b[1;32mnot\u001b[0m \u001b[1;32mNone\u001b[0m\u001b[1;33m:\u001b[0m\u001b[1;33m\u001b[0m\u001b[1;33m\u001b[0m\u001b[0m\n\u001b[1;32m-> 4150\u001b[1;33m                 \u001b[0mobj\u001b[0m \u001b[1;33m=\u001b[0m \u001b[0mobj\u001b[0m\u001b[1;33m.\u001b[0m\u001b[0m_drop_axis\u001b[0m\u001b[1;33m(\u001b[0m\u001b[0mlabels\u001b[0m\u001b[1;33m,\u001b[0m \u001b[0maxis\u001b[0m\u001b[1;33m,\u001b[0m \u001b[0mlevel\u001b[0m\u001b[1;33m=\u001b[0m\u001b[0mlevel\u001b[0m\u001b[1;33m,\u001b[0m \u001b[0merrors\u001b[0m\u001b[1;33m=\u001b[0m\u001b[0merrors\u001b[0m\u001b[1;33m)\u001b[0m\u001b[1;33m\u001b[0m\u001b[1;33m\u001b[0m\u001b[0m\n\u001b[0m\u001b[0;32m   4151\u001b[0m \u001b[1;33m\u001b[0m\u001b[0m\n\u001b[0;32m   4152\u001b[0m         \u001b[1;32mif\u001b[0m \u001b[0minplace\u001b[0m\u001b[1;33m:\u001b[0m\u001b[1;33m\u001b[0m\u001b[1;33m\u001b[0m\u001b[0m\n",
      "\u001b[1;32mD:\\Programs\\anaconda3\\lib\\site-packages\\pandas\\core\\generic.py\u001b[0m in \u001b[0;36m_drop_axis\u001b[1;34m(self, labels, axis, level, errors)\u001b[0m\n\u001b[0;32m   4183\u001b[0m                 \u001b[0mnew_axis\u001b[0m \u001b[1;33m=\u001b[0m \u001b[0maxis\u001b[0m\u001b[1;33m.\u001b[0m\u001b[0mdrop\u001b[0m\u001b[1;33m(\u001b[0m\u001b[0mlabels\u001b[0m\u001b[1;33m,\u001b[0m \u001b[0mlevel\u001b[0m\u001b[1;33m=\u001b[0m\u001b[0mlevel\u001b[0m\u001b[1;33m,\u001b[0m \u001b[0merrors\u001b[0m\u001b[1;33m=\u001b[0m\u001b[0merrors\u001b[0m\u001b[1;33m)\u001b[0m\u001b[1;33m\u001b[0m\u001b[1;33m\u001b[0m\u001b[0m\n\u001b[0;32m   4184\u001b[0m             \u001b[1;32melse\u001b[0m\u001b[1;33m:\u001b[0m\u001b[1;33m\u001b[0m\u001b[1;33m\u001b[0m\u001b[0m\n\u001b[1;32m-> 4185\u001b[1;33m                 \u001b[0mnew_axis\u001b[0m \u001b[1;33m=\u001b[0m \u001b[0maxis\u001b[0m\u001b[1;33m.\u001b[0m\u001b[0mdrop\u001b[0m\u001b[1;33m(\u001b[0m\u001b[0mlabels\u001b[0m\u001b[1;33m,\u001b[0m \u001b[0merrors\u001b[0m\u001b[1;33m=\u001b[0m\u001b[0merrors\u001b[0m\u001b[1;33m)\u001b[0m\u001b[1;33m\u001b[0m\u001b[1;33m\u001b[0m\u001b[0m\n\u001b[0m\u001b[0;32m   4186\u001b[0m             \u001b[0mresult\u001b[0m \u001b[1;33m=\u001b[0m \u001b[0mself\u001b[0m\u001b[1;33m.\u001b[0m\u001b[0mreindex\u001b[0m\u001b[1;33m(\u001b[0m\u001b[1;33m**\u001b[0m\u001b[1;33m{\u001b[0m\u001b[0maxis_name\u001b[0m\u001b[1;33m:\u001b[0m \u001b[0mnew_axis\u001b[0m\u001b[1;33m}\u001b[0m\u001b[1;33m)\u001b[0m\u001b[1;33m\u001b[0m\u001b[1;33m\u001b[0m\u001b[0m\n\u001b[0;32m   4187\u001b[0m \u001b[1;33m\u001b[0m\u001b[0m\n",
      "\u001b[1;32mD:\\Programs\\anaconda3\\lib\\site-packages\\pandas\\core\\indexes\\base.py\u001b[0m in \u001b[0;36mdrop\u001b[1;34m(self, labels, errors)\u001b[0m\n\u001b[0;32m   6015\u001b[0m         \u001b[1;32mif\u001b[0m \u001b[0mmask\u001b[0m\u001b[1;33m.\u001b[0m\u001b[0many\u001b[0m\u001b[1;33m(\u001b[0m\u001b[1;33m)\u001b[0m\u001b[1;33m:\u001b[0m\u001b[1;33m\u001b[0m\u001b[1;33m\u001b[0m\u001b[0m\n\u001b[0;32m   6016\u001b[0m             \u001b[1;32mif\u001b[0m \u001b[0merrors\u001b[0m \u001b[1;33m!=\u001b[0m \u001b[1;34m\"ignore\"\u001b[0m\u001b[1;33m:\u001b[0m\u001b[1;33m\u001b[0m\u001b[1;33m\u001b[0m\u001b[0m\n\u001b[1;32m-> 6017\u001b[1;33m                 \u001b[1;32mraise\u001b[0m \u001b[0mKeyError\u001b[0m\u001b[1;33m(\u001b[0m\u001b[1;34mf\"{labels[mask]} not found in axis\"\u001b[0m\u001b[1;33m)\u001b[0m\u001b[1;33m\u001b[0m\u001b[1;33m\u001b[0m\u001b[0m\n\u001b[0m\u001b[0;32m   6018\u001b[0m             \u001b[0mindexer\u001b[0m \u001b[1;33m=\u001b[0m \u001b[0mindexer\u001b[0m\u001b[1;33m[\u001b[0m\u001b[1;33m~\u001b[0m\u001b[0mmask\u001b[0m\u001b[1;33m]\u001b[0m\u001b[1;33m\u001b[0m\u001b[1;33m\u001b[0m\u001b[0m\n\u001b[0;32m   6019\u001b[0m         \u001b[1;32mreturn\u001b[0m \u001b[0mself\u001b[0m\u001b[1;33m.\u001b[0m\u001b[0mdelete\u001b[0m\u001b[1;33m(\u001b[0m\u001b[0mindexer\u001b[0m\u001b[1;33m)\u001b[0m\u001b[1;33m\u001b[0m\u001b[1;33m\u001b[0m\u001b[0m\n",
      "\u001b[1;31mKeyError\u001b[0m: \"['Japan'] not found in axis\""
     ]
    }
   ],
   "source": [
    "# Delete the row Japan\n",
    "df.drop('Japan', axis = 0, inplace = True)"
   ]
  },
  {
   "cell_type": "code",
   "execution_count": 77,
   "metadata": {
    "colab": {
     "base_uri": "https://localhost:8080/",
     "height": 0
    },
    "executionInfo": {
     "elapsed": 4254,
     "status": "ok",
     "timestamp": 1611485765967,
     "user": {
      "displayName": "Niraj Pahari",
      "photoUrl": "https://lh3.googleusercontent.com/a-/AOh14GgMhuGXLREiRVNAuekjP4QMHW33ne-Htx4lQfSX1w=s64",
      "userId": "09277333043831904871"
     },
     "user_tz": -420
    },
    "id": "zIUqX3bkFRp_",
    "outputId": "62cb5002-aebc-40a5-87ea-87182e528348"
   },
   "outputs": [
    {
     "data": {
      "text/html": [
       "<div>\n",
       "<style scoped>\n",
       "    .dataframe tbody tr th:only-of-type {\n",
       "        vertical-align: middle;\n",
       "    }\n",
       "\n",
       "    .dataframe tbody tr th {\n",
       "        vertical-align: top;\n",
       "    }\n",
       "\n",
       "    .dataframe thead th {\n",
       "        text-align: right;\n",
       "    }\n",
       "</style>\n",
       "<table border=\"1\" class=\"dataframe\">\n",
       "  <thead>\n",
       "    <tr style=\"text-align: right;\">\n",
       "      <th></th>\n",
       "      <th>Dell</th>\n",
       "      <th>Samsung</th>\n",
       "      <th>Apple</th>\n",
       "      <th>HP</th>\n",
       "    </tr>\n",
       "  </thead>\n",
       "  <tbody>\n",
       "    <tr>\n",
       "      <th>Thailand</th>\n",
       "      <td>-1.749765</td>\n",
       "      <td>0.342680</td>\n",
       "      <td>1.153036</td>\n",
       "      <td>-0.252436</td>\n",
       "    </tr>\n",
       "    <tr>\n",
       "      <th>Malaysia</th>\n",
       "      <td>0.981321</td>\n",
       "      <td>0.514219</td>\n",
       "      <td>0.221180</td>\n",
       "      <td>-1.070043</td>\n",
       "    </tr>\n",
       "    <tr>\n",
       "      <th>Laos</th>\n",
       "      <td>-0.583595</td>\n",
       "      <td>0.816847</td>\n",
       "      <td>0.672721</td>\n",
       "      <td>-0.104411</td>\n",
       "    </tr>\n",
       "    <tr>\n",
       "      <th>Vietnam</th>\n",
       "      <td>-0.531280</td>\n",
       "      <td>1.029733</td>\n",
       "      <td>-0.438136</td>\n",
       "      <td>-1.118318</td>\n",
       "    </tr>\n",
       "  </tbody>\n",
       "</table>\n",
       "</div>"
      ],
      "text/plain": [
       "              Dell   Samsung     Apple        HP\n",
       "Thailand -1.749765  0.342680  1.153036 -0.252436\n",
       "Malaysia  0.981321  0.514219  0.221180 -1.070043\n",
       "Laos     -0.583595  0.816847  0.672721 -0.104411\n",
       "Vietnam  -0.531280  1.029733 -0.438136 -1.118318"
      ]
     },
     "execution_count": 77,
     "metadata": {},
     "output_type": "execute_result"
    }
   ],
   "source": [
    "# Display the df\n",
    "df"
   ]
  },
  {
   "cell_type": "markdown",
   "metadata": {
    "id": "NauHtmYaGMH8"
   },
   "source": [
    "### Selecting Rows"
   ]
  },
  {
   "cell_type": "code",
   "execution_count": 90,
   "metadata": {
    "colab": {
     "base_uri": "https://localhost:8080/"
    },
    "executionInfo": {
     "elapsed": 4246,
     "status": "ok",
     "timestamp": 1611485765967,
     "user": {
      "displayName": "Niraj Pahari",
      "photoUrl": "https://lh3.googleusercontent.com/a-/AOh14GgMhuGXLREiRVNAuekjP4QMHW33ne-Htx4lQfSX1w=s64",
      "userId": "09277333043831904871"
     },
     "user_tz": -420
    },
    "id": "OdvVUHv6FS0U",
    "outputId": "165f8873-b12a-4614-da73-c6ad017c0e96"
   },
   "outputs": [
    {
     "data": {
      "text/plain": [
       "Dell            -1.749765\n",
       "Samsung          0.342680\n",
       "Apple            1.153036\n",
       "HP              -0.252436\n",
       "Apple + HP    8999.000000\n",
       "Name: Thailand, dtype: float64"
      ]
     },
     "execution_count": 90,
     "metadata": {},
     "output_type": "execute_result"
    }
   ],
   "source": [
    "# Select the row Thailand\n",
    "df.loc['Thailand']"
   ]
  },
  {
   "cell_type": "code",
   "execution_count": 102,
   "metadata": {
    "colab": {
     "base_uri": "https://localhost:8080/"
    },
    "executionInfo": {
     "elapsed": 4240,
     "status": "ok",
     "timestamp": 1611485765968,
     "user": {
      "displayName": "Niraj Pahari",
      "photoUrl": "https://lh3.googleusercontent.com/a-/AOh14GgMhuGXLREiRVNAuekjP4QMHW33ne-Htx4lQfSX1w=s64",
      "userId": "09277333043831904871"
     },
     "user_tz": -420
    },
    "id": "7VvPSY7JGPxn",
    "outputId": "91e88f08-c42f-4a6a-ac76-0ae9d8214ff7"
   },
   "outputs": [
    {
     "data": {
      "text/plain": [
       "Dell             0.981321\n",
       "Samsung          0.514219\n",
       "Apple            0.221180\n",
       "HP              -1.070043\n",
       "Apple + HP    8999.000000\n",
       "Name: Malaysia, dtype: float64"
      ]
     },
     "execution_count": 102,
     "metadata": {},
     "output_type": "execute_result"
    }
   ],
   "source": [
    "# Select based on position\n",
    "df.iloc[1]"
   ]
  },
  {
   "cell_type": "markdown",
   "metadata": {
    "id": "NBLjixnuGhN4"
   },
   "source": [
    "### Conditional Selection\n",
    "\n",
    "Similar to numpy, pandas also supports conditional selection using bracket notation"
   ]
  },
  {
   "cell_type": "code",
   "execution_count": 106,
   "metadata": {
    "colab": {
     "base_uri": "https://localhost:8080/",
     "height": 0
    },
    "executionInfo": {
     "elapsed": 4232,
     "status": "ok",
     "timestamp": 1611485765968,
     "user": {
      "displayName": "Niraj Pahari",
      "photoUrl": "https://lh3.googleusercontent.com/a-/AOh14GgMhuGXLREiRVNAuekjP4QMHW33ne-Htx4lQfSX1w=s64",
      "userId": "09277333043831904871"
     },
     "user_tz": -420
    },
    "id": "8uXVf2ptGSkO",
    "outputId": "8861df2e-3d6f-412d-8f6a-6d3383953985"
   },
   "outputs": [
    {
     "data": {
      "text/html": [
       "<div>\n",
       "<style scoped>\n",
       "    .dataframe tbody tr th:only-of-type {\n",
       "        vertical-align: middle;\n",
       "    }\n",
       "\n",
       "    .dataframe tbody tr th {\n",
       "        vertical-align: top;\n",
       "    }\n",
       "\n",
       "    .dataframe thead th {\n",
       "        text-align: right;\n",
       "    }\n",
       "</style>\n",
       "<table border=\"1\" class=\"dataframe\">\n",
       "  <thead>\n",
       "    <tr style=\"text-align: right;\">\n",
       "      <th></th>\n",
       "      <th>Dell</th>\n",
       "      <th>Samsung</th>\n",
       "      <th>Apple</th>\n",
       "      <th>HP</th>\n",
       "    </tr>\n",
       "  </thead>\n",
       "  <tbody>\n",
       "    <tr>\n",
       "      <th>Thailand</th>\n",
       "      <td>-1.749765</td>\n",
       "      <td>0.342680</td>\n",
       "      <td>1.153036</td>\n",
       "      <td>-0.252436</td>\n",
       "    </tr>\n",
       "    <tr>\n",
       "      <th>Malaysia</th>\n",
       "      <td>0.981321</td>\n",
       "      <td>0.514219</td>\n",
       "      <td>0.221180</td>\n",
       "      <td>-1.070043</td>\n",
       "    </tr>\n",
       "    <tr>\n",
       "      <th>Laos</th>\n",
       "      <td>-0.583595</td>\n",
       "      <td>0.816847</td>\n",
       "      <td>0.672721</td>\n",
       "      <td>-0.104411</td>\n",
       "    </tr>\n",
       "    <tr>\n",
       "      <th>Vietnam</th>\n",
       "      <td>-0.531280</td>\n",
       "      <td>1.029733</td>\n",
       "      <td>-0.438136</td>\n",
       "      <td>-1.118318</td>\n",
       "    </tr>\n",
       "  </tbody>\n",
       "</table>\n",
       "</div>"
      ],
      "text/plain": [
       "              Dell   Samsung     Apple        HP\n",
       "Thailand -1.749765  0.342680  1.153036 -0.252436\n",
       "Malaysia  0.981321  0.514219  0.221180 -1.070043\n",
       "Laos     -0.583595  0.816847  0.672721 -0.104411\n",
       "Vietnam  -0.531280  1.029733 -0.438136 -1.118318"
      ]
     },
     "execution_count": 106,
     "metadata": {},
     "output_type": "execute_result"
    }
   ],
   "source": [
    "# Display the df first\n",
    "df"
   ]
  },
  {
   "cell_type": "code",
   "execution_count": 107,
   "metadata": {
    "colab": {
     "base_uri": "https://localhost:8080/",
     "height": 0
    },
    "executionInfo": {
     "elapsed": 4226,
     "status": "ok",
     "timestamp": 1611485765970,
     "user": {
      "displayName": "Niraj Pahari",
      "photoUrl": "https://lh3.googleusercontent.com/a-/AOh14GgMhuGXLREiRVNAuekjP4QMHW33ne-Htx4lQfSX1w=s64",
      "userId": "09277333043831904871"
     },
     "user_tz": -420
    },
    "id": "AvTAHVKkGsPZ",
    "outputId": "b5b0d5ec-3253-4b6d-af83-45740598f8ed"
   },
   "outputs": [
    {
     "data": {
      "text/html": [
       "<div>\n",
       "<style scoped>\n",
       "    .dataframe tbody tr th:only-of-type {\n",
       "        vertical-align: middle;\n",
       "    }\n",
       "\n",
       "    .dataframe tbody tr th {\n",
       "        vertical-align: top;\n",
       "    }\n",
       "\n",
       "    .dataframe thead th {\n",
       "        text-align: right;\n",
       "    }\n",
       "</style>\n",
       "<table border=\"1\" class=\"dataframe\">\n",
       "  <thead>\n",
       "    <tr style=\"text-align: right;\">\n",
       "      <th></th>\n",
       "      <th>Dell</th>\n",
       "      <th>Samsung</th>\n",
       "      <th>Apple</th>\n",
       "      <th>HP</th>\n",
       "    </tr>\n",
       "  </thead>\n",
       "  <tbody>\n",
       "    <tr>\n",
       "      <th>Thailand</th>\n",
       "      <td>False</td>\n",
       "      <td>True</td>\n",
       "      <td>True</td>\n",
       "      <td>False</td>\n",
       "    </tr>\n",
       "    <tr>\n",
       "      <th>Malaysia</th>\n",
       "      <td>True</td>\n",
       "      <td>True</td>\n",
       "      <td>True</td>\n",
       "      <td>False</td>\n",
       "    </tr>\n",
       "    <tr>\n",
       "      <th>Laos</th>\n",
       "      <td>False</td>\n",
       "      <td>True</td>\n",
       "      <td>True</td>\n",
       "      <td>False</td>\n",
       "    </tr>\n",
       "    <tr>\n",
       "      <th>Vietnam</th>\n",
       "      <td>False</td>\n",
       "      <td>True</td>\n",
       "      <td>False</td>\n",
       "      <td>False</td>\n",
       "    </tr>\n",
       "  </tbody>\n",
       "</table>\n",
       "</div>"
      ],
      "text/plain": [
       "           Dell  Samsung  Apple     HP\n",
       "Thailand  False     True   True  False\n",
       "Malaysia   True     True   True  False\n",
       "Laos      False     True   True  False\n",
       "Vietnam   False     True  False  False"
      ]
     },
     "execution_count": 107,
     "metadata": {},
     "output_type": "execute_result"
    }
   ],
   "source": [
    "# Show positions where value > 0\n",
    "df > 0"
   ]
  },
  {
   "cell_type": "code",
   "execution_count": 108,
   "metadata": {
    "colab": {
     "base_uri": "https://localhost:8080/",
     "height": 0
    },
    "executionInfo": {
     "elapsed": 4217,
     "status": "ok",
     "timestamp": 1611485765970,
     "user": {
      "displayName": "Niraj Pahari",
      "photoUrl": "https://lh3.googleusercontent.com/a-/AOh14GgMhuGXLREiRVNAuekjP4QMHW33ne-Htx4lQfSX1w=s64",
      "userId": "09277333043831904871"
     },
     "user_tz": -420
    },
    "id": "vU-YUlHVGtFW",
    "outputId": "649829de-370d-4be9-9107-1efbc92877b6"
   },
   "outputs": [
    {
     "data": {
      "text/html": [
       "<div>\n",
       "<style scoped>\n",
       "    .dataframe tbody tr th:only-of-type {\n",
       "        vertical-align: middle;\n",
       "    }\n",
       "\n",
       "    .dataframe tbody tr th {\n",
       "        vertical-align: top;\n",
       "    }\n",
       "\n",
       "    .dataframe thead th {\n",
       "        text-align: right;\n",
       "    }\n",
       "</style>\n",
       "<table border=\"1\" class=\"dataframe\">\n",
       "  <thead>\n",
       "    <tr style=\"text-align: right;\">\n",
       "      <th></th>\n",
       "      <th>Dell</th>\n",
       "      <th>Samsung</th>\n",
       "      <th>Apple</th>\n",
       "      <th>HP</th>\n",
       "    </tr>\n",
       "  </thead>\n",
       "  <tbody>\n",
       "    <tr>\n",
       "      <th>Thailand</th>\n",
       "      <td>NaN</td>\n",
       "      <td>0.342680</td>\n",
       "      <td>1.153036</td>\n",
       "      <td>NaN</td>\n",
       "    </tr>\n",
       "    <tr>\n",
       "      <th>Malaysia</th>\n",
       "      <td>0.981321</td>\n",
       "      <td>0.514219</td>\n",
       "      <td>0.221180</td>\n",
       "      <td>NaN</td>\n",
       "    </tr>\n",
       "    <tr>\n",
       "      <th>Laos</th>\n",
       "      <td>NaN</td>\n",
       "      <td>0.816847</td>\n",
       "      <td>0.672721</td>\n",
       "      <td>NaN</td>\n",
       "    </tr>\n",
       "    <tr>\n",
       "      <th>Vietnam</th>\n",
       "      <td>NaN</td>\n",
       "      <td>1.029733</td>\n",
       "      <td>NaN</td>\n",
       "      <td>NaN</td>\n",
       "    </tr>\n",
       "  </tbody>\n",
       "</table>\n",
       "</div>"
      ],
      "text/plain": [
       "              Dell   Samsung     Apple  HP\n",
       "Thailand       NaN  0.342680  1.153036 NaN\n",
       "Malaysia  0.981321  0.514219  0.221180 NaN\n",
       "Laos           NaN  0.816847  0.672721 NaN\n",
       "Vietnam        NaN  1.029733       NaN NaN"
      ]
     },
     "execution_count": 108,
     "metadata": {},
     "output_type": "execute_result"
    }
   ],
   "source": [
    "# Show the values where value > 0\n",
    "df[df > 0]"
   ]
  },
  {
   "cell_type": "code",
   "execution_count": 110,
   "metadata": {
    "colab": {
     "base_uri": "https://localhost:8080/",
     "height": 0
    },
    "executionInfo": {
     "elapsed": 4210,
     "status": "ok",
     "timestamp": 1611485765971,
     "user": {
      "displayName": "Niraj Pahari",
      "photoUrl": "https://lh3.googleusercontent.com/a-/AOh14GgMhuGXLREiRVNAuekjP4QMHW33ne-Htx4lQfSX1w=s64",
      "userId": "09277333043831904871"
     },
     "user_tz": -420
    },
    "id": "JedN_nndG9ho",
    "outputId": "4c3f9bf8-e269-420d-a372-9b3928e7fe95"
   },
   "outputs": [
    {
     "data": {
      "text/html": [
       "<div>\n",
       "<style scoped>\n",
       "    .dataframe tbody tr th:only-of-type {\n",
       "        vertical-align: middle;\n",
       "    }\n",
       "\n",
       "    .dataframe tbody tr th {\n",
       "        vertical-align: top;\n",
       "    }\n",
       "\n",
       "    .dataframe thead th {\n",
       "        text-align: right;\n",
       "    }\n",
       "</style>\n",
       "<table border=\"1\" class=\"dataframe\">\n",
       "  <thead>\n",
       "    <tr style=\"text-align: right;\">\n",
       "      <th></th>\n",
       "      <th>Dell</th>\n",
       "      <th>Samsung</th>\n",
       "      <th>Apple</th>\n",
       "      <th>HP</th>\n",
       "    </tr>\n",
       "  </thead>\n",
       "  <tbody>\n",
       "    <tr>\n",
       "      <th>Malaysia</th>\n",
       "      <td>0.981321</td>\n",
       "      <td>0.514219</td>\n",
       "      <td>0.22118</td>\n",
       "      <td>-1.070043</td>\n",
       "    </tr>\n",
       "  </tbody>\n",
       "</table>\n",
       "</div>"
      ],
      "text/plain": [
       "              Dell   Samsung    Apple        HP\n",
       "Malaysia  0.981321  0.514219  0.22118 -1.070043"
      ]
     },
     "execution_count": 110,
     "metadata": {},
     "output_type": "execute_result"
    }
   ],
   "source": [
    "# Display the rows where dell has values greater than 0\n",
    "df[df['Dell'] > 0]"
   ]
  },
  {
   "cell_type": "code",
   "execution_count": 111,
   "metadata": {
    "colab": {
     "base_uri": "https://localhost:8080/",
     "height": 0
    },
    "executionInfo": {
     "elapsed": 4203,
     "status": "ok",
     "timestamp": 1611485765972,
     "user": {
      "displayName": "Niraj Pahari",
      "photoUrl": "https://lh3.googleusercontent.com/a-/AOh14GgMhuGXLREiRVNAuekjP4QMHW33ne-Htx4lQfSX1w=s64",
      "userId": "09277333043831904871"
     },
     "user_tz": -420
    },
    "id": "wIKLq4mBHf3L",
    "outputId": "760673ea-731b-4ef8-8224-aea364c8890f"
   },
   "outputs": [
    {
     "data": {
      "text/html": [
       "<div>\n",
       "<style scoped>\n",
       "    .dataframe tbody tr th:only-of-type {\n",
       "        vertical-align: middle;\n",
       "    }\n",
       "\n",
       "    .dataframe tbody tr th {\n",
       "        vertical-align: top;\n",
       "    }\n",
       "\n",
       "    .dataframe thead th {\n",
       "        text-align: right;\n",
       "    }\n",
       "</style>\n",
       "<table border=\"1\" class=\"dataframe\">\n",
       "  <thead>\n",
       "    <tr style=\"text-align: right;\">\n",
       "      <th></th>\n",
       "      <th>Dell</th>\n",
       "      <th>HP</th>\n",
       "    </tr>\n",
       "  </thead>\n",
       "  <tbody>\n",
       "    <tr>\n",
       "      <th>Malaysia</th>\n",
       "      <td>0.981321</td>\n",
       "      <td>-1.070043</td>\n",
       "    </tr>\n",
       "  </tbody>\n",
       "</table>\n",
       "</div>"
      ],
      "text/plain": [
       "              Dell        HP\n",
       "Malaysia  0.981321 -1.070043"
      ]
     },
     "execution_count": 111,
     "metadata": {},
     "output_type": "execute_result"
    }
   ],
   "source": [
    "# Display the coulmns Dell and HP and rows where Dell has values greater than 0\n",
    "df[df['Dell'] > 0][['Dell', 'HP']]"
   ]
  },
  {
   "cell_type": "markdown",
   "metadata": {
    "id": "ORdPsvZOH6Di"
   },
   "source": [
    "We can use | and & with parenthesis for combining multiple conditions"
   ]
  },
  {
   "cell_type": "code",
   "execution_count": 112,
   "metadata": {
    "colab": {
     "base_uri": "https://localhost:8080/",
     "height": 0
    },
    "executionInfo": {
     "elapsed": 4195,
     "status": "ok",
     "timestamp": 1611485765973,
     "user": {
      "displayName": "Niraj Pahari",
      "photoUrl": "https://lh3.googleusercontent.com/a-/AOh14GgMhuGXLREiRVNAuekjP4QMHW33ne-Htx4lQfSX1w=s64",
      "userId": "09277333043831904871"
     },
     "user_tz": -420
    },
    "id": "brdIOqFAH0kA",
    "outputId": "3a22477c-751b-411e-b2d1-c349c1338b70"
   },
   "outputs": [
    {
     "data": {
      "text/html": [
       "<div>\n",
       "<style scoped>\n",
       "    .dataframe tbody tr th:only-of-type {\n",
       "        vertical-align: middle;\n",
       "    }\n",
       "\n",
       "    .dataframe tbody tr th {\n",
       "        vertical-align: top;\n",
       "    }\n",
       "\n",
       "    .dataframe thead th {\n",
       "        text-align: right;\n",
       "    }\n",
       "</style>\n",
       "<table border=\"1\" class=\"dataframe\">\n",
       "  <thead>\n",
       "    <tr style=\"text-align: right;\">\n",
       "      <th></th>\n",
       "      <th>Dell</th>\n",
       "      <th>Samsung</th>\n",
       "      <th>Apple</th>\n",
       "      <th>HP</th>\n",
       "    </tr>\n",
       "  </thead>\n",
       "  <tbody>\n",
       "    <tr>\n",
       "      <th>Malaysia</th>\n",
       "      <td>0.981321</td>\n",
       "      <td>0.514219</td>\n",
       "      <td>0.22118</td>\n",
       "      <td>-1.070043</td>\n",
       "    </tr>\n",
       "  </tbody>\n",
       "</table>\n",
       "</div>"
      ],
      "text/plain": [
       "              Dell   Samsung    Apple        HP\n",
       "Malaysia  0.981321  0.514219  0.22118 -1.070043"
      ]
     },
     "execution_count": 112,
     "metadata": {},
     "output_type": "execute_result"
    }
   ],
   "source": [
    "# Display the rows where dell>0 and apple>0\n",
    "df[(df['Dell'] > 0) & (df['Apple'] > 0)]"
   ]
  },
  {
   "cell_type": "code",
   "execution_count": null,
   "metadata": {},
   "outputs": [],
   "source": []
  }
 ],
 "metadata": {
  "colab": {
   "authorship_tag": "ABX9TyPaIt1M1AtIBX1x03+jfPZ5",
   "name": "RoboticsLab3-Pandas1.ipynb",
   "provenance": []
  },
  "kernelspec": {
   "display_name": "Python 3 (ipykernel)",
   "language": "python",
   "name": "python3"
  },
  "language_info": {
   "codemirror_mode": {
    "name": "ipython",
    "version": 3
   },
   "file_extension": ".py",
   "mimetype": "text/x-python",
   "name": "python",
   "nbconvert_exporter": "python",
   "pygments_lexer": "ipython3",
   "version": "3.9.7"
  }
 },
 "nbformat": 4,
 "nbformat_minor": 1
}
