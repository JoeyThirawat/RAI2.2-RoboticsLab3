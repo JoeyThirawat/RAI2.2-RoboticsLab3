{
 "cells": [
  {
   "cell_type": "markdown",
   "metadata": {
    "id": "Snm1AGBzAOxX"
   },
   "source": [
    "# Pandas\n",
    "Pandas is a Python package that provides fast, flexible, and expressive data structures designed to make working with structured (tabular, multidimensional, potentially heterogeneous) and time series data both easy and intuitive. It aims to be the fundamental high-level building block for doing practical, real world data analysis in Python. Additionally, it has the broader goal of becoming the most powerful and flexible open source data analysis / manipulation tool available in any language. It is already well on its way toward this goal.\n",
    "\n",
    "`pandas` is well suited for many different kinds of data:\n",
    "\n",
    "*   Tabular data with heterogeneously-typed columns, as in an SQL table or Excel spreadsheet\n",
    "*   Ordered and unordered (not necessarily fixed-frequency) time series data.\n",
    "* Arbitrary matrix data (homogeneously typed or heterogeneous) with row and column labels\n",
    "* Any other form of observational / statistical data sets. The data actually need not be labeled at all to be placed into a pandas data structure\n",
    "\n",
    "The two primary data structures of pandas, **Series** (1-dimensional) and DataFrame (2-dimensional), handle the vast majority of typical use cases in finance, statistics, social science, and many areas of engineering.\n"
   ]
  },
  {
   "cell_type": "markdown",
   "metadata": {
    "id": "-IUMob8N5TMX"
   },
   "source": [
    "Normally we import pandas as following"
   ]
  },
  {
   "cell_type": "code",
   "execution_count": null,
   "metadata": {
    "executionInfo": {
     "elapsed": 2333,
     "status": "ok",
     "timestamp": 1611485763774,
     "user": {
      "displayName": "Niraj Pahari",
      "photoUrl": "https://lh3.googleusercontent.com/a-/AOh14GgMhuGXLREiRVNAuekjP4QMHW33ne-Htx4lQfSX1w=s64",
      "userId": "09277333043831904871"
     },
     "user_tz": -420
    },
    "id": "qJv1nt6HAKNY"
   },
   "outputs": [],
   "source": [
    "# Import pandas\n"
   ]
  },
  {
   "cell_type": "markdown",
   "metadata": {
    "id": "6AtVBFdL7RIH"
   },
   "source": [
    "Lets import numpy too "
   ]
  },
  {
   "cell_type": "code",
   "execution_count": null,
   "metadata": {
    "executionInfo": {
     "elapsed": 4494,
     "status": "ok",
     "timestamp": 1611485765940,
     "user": {
      "displayName": "Niraj Pahari",
      "photoUrl": "https://lh3.googleusercontent.com/a-/AOh14GgMhuGXLREiRVNAuekjP4QMHW33ne-Htx4lQfSX1w=s64",
      "userId": "09277333043831904871"
     },
     "user_tz": -420
    },
    "id": "g1JyHoW87QhX"
   },
   "outputs": [],
   "source": [
    "# Import numpy\n"
   ]
  },
  {
   "cell_type": "markdown",
   "metadata": {
    "id": "KIEeufsrAN-9"
   },
   "source": [
    "## Series\n",
    "\n",
    "A Series is very similar to a NumPy array (in fact it is built on top of the NumPy array object). What differentiates the NumPy array from a Series, is that a Series can have axis labels, meaning it can be indexed by a label, instead of just a number location. It also doesn't need to hold numeric data, it can hold any arbitrary Python Object.\n",
    "\n",
    "A Series is, in essence, a single column of a DataFrame. So you can assign column values to the Series the same way as before, using an index parameter. However, a Series does not have a column name, it only has one overall name:"
   ]
  },
  {
   "cell_type": "markdown",
   "metadata": {
    "id": "voKk6iLd7Gl_"
   },
   "source": [
    "### Creating a series"
   ]
  },
  {
   "cell_type": "code",
   "execution_count": null,
   "metadata": {
    "executionInfo": {
     "elapsed": 4492,
     "status": "ok",
     "timestamp": 1611485765941,
     "user": {
      "displayName": "Niraj Pahari",
      "photoUrl": "https://lh3.googleusercontent.com/a-/AOh14GgMhuGXLREiRVNAuekjP4QMHW33ne-Htx4lQfSX1w=s64",
      "userId": "09277333043831904871"
     },
     "user_tz": -420
    },
    "id": "n1aqXhh96sJA"
   },
   "outputs": [],
   "source": [
    "# create list, array and dictionary \n",
    "labels = ['a','b','c']\n",
    "my_list = [10,20,30]\n",
    "arr = np.array([10,20,30])\n",
    "d = {'a':10,'b':20,'c':30}"
   ]
  },
  {
   "cell_type": "markdown",
   "metadata": {
    "id": "bhWlKR_l7gJS"
   },
   "source": [
    "Using list"
   ]
  },
  {
   "cell_type": "code",
   "execution_count": null,
   "metadata": {
    "colab": {
     "base_uri": "https://localhost:8080/"
    },
    "executionInfo": {
     "elapsed": 4450,
     "status": "ok",
     "timestamp": 1611485765942,
     "user": {
      "displayName": "Niraj Pahari",
      "photoUrl": "https://lh3.googleusercontent.com/a-/AOh14GgMhuGXLREiRVNAuekjP4QMHW33ne-Htx4lQfSX1w=s64",
      "userId": "09277333043831904871"
     },
     "user_tz": -420
    },
    "id": "WKF2Wmgw7Mkb",
    "outputId": "59c2a91e-8717-4b2d-bb0d-1dea51f3f192"
   },
   "outputs": [],
   "source": [
    "# Create pandas series using my_list\n"
   ]
  },
  {
   "cell_type": "code",
   "execution_count": null,
   "metadata": {
    "colab": {
     "base_uri": "https://localhost:8080/"
    },
    "executionInfo": {
     "elapsed": 4442,
     "status": "ok",
     "timestamp": 1611485765943,
     "user": {
      "displayName": "Niraj Pahari",
      "photoUrl": "https://lh3.googleusercontent.com/a-/AOh14GgMhuGXLREiRVNAuekjP4QMHW33ne-Htx4lQfSX1w=s64",
      "userId": "09277333043831904871"
     },
     "user_tz": -420
    },
    "id": "Fj40CDP17kz3",
    "outputId": "6aeda847-2bb7-4f01-e3bd-df160f48cd13"
   },
   "outputs": [],
   "source": [
    "# Create pandas series using my_list and with labels as index\n"
   ]
  },
  {
   "cell_type": "code",
   "execution_count": null,
   "metadata": {
    "colab": {
     "base_uri": "https://localhost:8080/"
    },
    "executionInfo": {
     "elapsed": 4433,
     "status": "ok",
     "timestamp": 1611485765944,
     "user": {
      "displayName": "Niraj Pahari",
      "photoUrl": "https://lh3.googleusercontent.com/a-/AOh14GgMhuGXLREiRVNAuekjP4QMHW33ne-Htx4lQfSX1w=s64",
      "userId": "09277333043831904871"
     },
     "user_tz": -420
    },
    "id": "6TNvdRK57o81",
    "outputId": "0ad17ccd-ee03-4ba1-c8a2-dae62fd9a424"
   },
   "outputs": [],
   "source": []
  },
  {
   "cell_type": "markdown",
   "metadata": {
    "id": "a2mu1s8h7tCf"
   },
   "source": [
    "Using numpy Arrays"
   ]
  },
  {
   "cell_type": "code",
   "execution_count": null,
   "metadata": {
    "colab": {
     "base_uri": "https://localhost:8080/"
    },
    "executionInfo": {
     "elapsed": 4425,
     "status": "ok",
     "timestamp": 1611485765945,
     "user": {
      "displayName": "Niraj Pahari",
      "photoUrl": "https://lh3.googleusercontent.com/a-/AOh14GgMhuGXLREiRVNAuekjP4QMHW33ne-Htx4lQfSX1w=s64",
      "userId": "09277333043831904871"
     },
     "user_tz": -420
    },
    "id": "jOSgWL5m7rWC",
    "outputId": "40bca64c-ee08-4e8b-a325-c322a3393dbc"
   },
   "outputs": [],
   "source": [
    "# Create pandas series using numpy array\n"
   ]
  },
  {
   "cell_type": "code",
   "execution_count": null,
   "metadata": {
    "colab": {
     "base_uri": "https://localhost:8080/"
    },
    "executionInfo": {
     "elapsed": 4416,
     "status": "ok",
     "timestamp": 1611485765945,
     "user": {
      "displayName": "Niraj Pahari",
      "photoUrl": "https://lh3.googleusercontent.com/a-/AOh14GgMhuGXLREiRVNAuekjP4QMHW33ne-Htx4lQfSX1w=s64",
      "userId": "09277333043831904871"
     },
     "user_tz": -420
    },
    "id": "AVA1G5E07-ne",
    "outputId": "ec5845a9-ec26-4a8c-c4a3-0946d387fa7a"
   },
   "outputs": [],
   "source": [
    "# Create pandas series using numpy array and labels\n"
   ]
  },
  {
   "cell_type": "markdown",
   "metadata": {
    "id": "BhM1UqXB8D6-"
   },
   "source": [
    "Using dictionary"
   ]
  },
  {
   "cell_type": "code",
   "execution_count": null,
   "metadata": {
    "colab": {
     "base_uri": "https://localhost:8080/"
    },
    "executionInfo": {
     "elapsed": 4408,
     "status": "ok",
     "timestamp": 1611485765946,
     "user": {
      "displayName": "Niraj Pahari",
      "photoUrl": "https://lh3.googleusercontent.com/a-/AOh14GgMhuGXLREiRVNAuekjP4QMHW33ne-Htx4lQfSX1w=s64",
      "userId": "09277333043831904871"
     },
     "user_tz": -420
    },
    "id": "QJQ-nXzZ8Bfw",
    "outputId": "c53139c5-5016-495f-ef1e-ae2e9135d457"
   },
   "outputs": [],
   "source": [
    "# Create pandas series using dictionary\n"
   ]
  },
  {
   "cell_type": "markdown",
   "metadata": {
    "id": "fes0Mo_e80NR"
   },
   "source": [
    "Pandas can hold varities of object types"
   ]
  },
  {
   "cell_type": "code",
   "execution_count": null,
   "metadata": {
    "colab": {
     "base_uri": "https://localhost:8080/"
    },
    "executionInfo": {
     "elapsed": 4399,
     "status": "ok",
     "timestamp": 1611485765947,
     "user": {
      "displayName": "Niraj Pahari",
      "photoUrl": "https://lh3.googleusercontent.com/a-/AOh14GgMhuGXLREiRVNAuekjP4QMHW33ne-Htx4lQfSX1w=s64",
      "userId": "09277333043831904871"
     },
     "user_tz": -420
    },
    "id": "xXoSQGuK86c9",
    "outputId": "f8ec78f3-275f-4196-85ba-a04b8f7a2eca"
   },
   "outputs": [],
   "source": [
    "# Create pandas series with string objects\n"
   ]
  },
  {
   "cell_type": "markdown",
   "metadata": {
    "id": "qqTITzeL9KCO"
   },
   "source": [
    "Using an Index"
   ]
  },
  {
   "cell_type": "code",
   "execution_count": null,
   "metadata": {
    "executionInfo": {
     "elapsed": 4398,
     "status": "ok",
     "timestamp": 1611485765948,
     "user": {
      "displayName": "Niraj Pahari",
      "photoUrl": "https://lh3.googleusercontent.com/a-/AOh14GgMhuGXLREiRVNAuekjP4QMHW33ne-Htx4lQfSX1w=s64",
      "userId": "09277333043831904871"
     },
     "user_tz": -420
    },
    "id": "7R1bmcE69Mry"
   },
   "outputs": [],
   "source": [
    "# Create a series with values [3,4,5] with ['2019', '2020', '2021'] as index\n"
   ]
  },
  {
   "cell_type": "code",
   "execution_count": null,
   "metadata": {
    "colab": {
     "base_uri": "https://localhost:8080/"
    },
    "executionInfo": {
     "elapsed": 4390,
     "status": "ok",
     "timestamp": 1611485765949,
     "user": {
      "displayName": "Niraj Pahari",
      "photoUrl": "https://lh3.googleusercontent.com/a-/AOh14GgMhuGXLREiRVNAuekjP4QMHW33ne-Htx4lQfSX1w=s64",
      "userId": "09277333043831904871"
     },
     "user_tz": -420
    },
    "id": "AsrDD0gw9SWn",
    "outputId": "e71b86b8-cc5a-4a9f-e7e0-9095c376f272"
   },
   "outputs": [],
   "source": [
    "# Print the series\n"
   ]
  },
  {
   "cell_type": "code",
   "execution_count": null,
   "metadata": {
    "colab": {
     "base_uri": "https://localhost:8080/"
    },
    "executionInfo": {
     "elapsed": 4382,
     "status": "ok",
     "timestamp": 1611485765950,
     "user": {
      "displayName": "Niraj Pahari",
      "photoUrl": "https://lh3.googleusercontent.com/a-/AOh14GgMhuGXLREiRVNAuekjP4QMHW33ne-Htx4lQfSX1w=s64",
      "userId": "09277333043831904871"
     },
     "user_tz": -420
    },
    "id": "d2ZO_uw69UjE",
    "outputId": "1b8204d1-1f71-4256-dc5d-a8bc8313973d"
   },
   "outputs": [],
   "source": [
    "# Show the value for index '2020'\n"
   ]
  },
  {
   "cell_type": "markdown",
   "metadata": {
    "id": "NifP-yqz9k4F"
   },
   "source": [
    "Operations on series can be based on the index"
   ]
  },
  {
   "cell_type": "code",
   "execution_count": null,
   "metadata": {
    "executionInfo": {
     "elapsed": 4380,
     "status": "ok",
     "timestamp": 1611485765950,
     "user": {
      "displayName": "Niraj Pahari",
      "photoUrl": "https://lh3.googleusercontent.com/a-/AOh14GgMhuGXLREiRVNAuekjP4QMHW33ne-Htx4lQfSX1w=s64",
      "userId": "09277333043831904871"
     },
     "user_tz": -420
    },
    "id": "ye5b4Owd9SUT"
   },
   "outputs": [],
   "source": [
    "# Create a second series with values [1,2,3] and index ['2017', '2018', '2019']\n"
   ]
  },
  {
   "cell_type": "code",
   "execution_count": null,
   "metadata": {
    "colab": {
     "base_uri": "https://localhost:8080/"
    },
    "executionInfo": {
     "elapsed": 4372,
     "status": "ok",
     "timestamp": 1611485765951,
     "user": {
      "displayName": "Niraj Pahari",
      "photoUrl": "https://lh3.googleusercontent.com/a-/AOh14GgMhuGXLREiRVNAuekjP4QMHW33ne-Htx4lQfSX1w=s64",
      "userId": "09277333043831904871"
     },
     "user_tz": -420
    },
    "id": "m6XwgVI_93ZZ",
    "outputId": "387ce0a0-0935-44ec-8b9b-dfa27a897c21"
   },
   "outputs": [],
   "source": [
    "# Display the second series\n"
   ]
  },
  {
   "cell_type": "code",
   "execution_count": null,
   "metadata": {
    "colab": {
     "base_uri": "https://localhost:8080/"
    },
    "executionInfo": {
     "elapsed": 4364,
     "status": "ok",
     "timestamp": 1611485765952,
     "user": {
      "displayName": "Niraj Pahari",
      "photoUrl": "https://lh3.googleusercontent.com/a-/AOh14GgMhuGXLREiRVNAuekjP4QMHW33ne-Htx4lQfSX1w=s64",
      "userId": "09277333043831904871"
     },
     "user_tz": -420
    },
    "id": "_KzwK1Bw93Rz",
    "outputId": "3ce305df-7eb9-42f0-9279-4ba2aa6019ac"
   },
   "outputs": [],
   "source": [
    "# Add the two series \n"
   ]
  },
  {
   "cell_type": "markdown",
   "metadata": {
    "id": "HocCswli8Trg"
   },
   "source": [
    "Giving a name to the series"
   ]
  },
  {
   "cell_type": "code",
   "execution_count": null,
   "metadata": {
    "colab": {
     "base_uri": "https://localhost:8080/"
    },
    "executionInfo": {
     "elapsed": 4354,
     "status": "ok",
     "timestamp": 1611485765953,
     "user": {
      "displayName": "Niraj Pahari",
      "photoUrl": "https://lh3.googleusercontent.com/a-/AOh14GgMhuGXLREiRVNAuekjP4QMHW33ne-Htx4lQfSX1w=s64",
      "userId": "09277333043831904871"
     },
     "user_tz": -420
    },
    "id": "g4n6cSbt8GtJ",
    "outputId": "9201341c-0ffe-4684-b278-1057a4ef8de0"
   },
   "outputs": [],
   "source": [
    "# Create a series and give name to the series by passing 'Product A' as the name\n"
   ]
  },
  {
   "cell_type": "markdown",
   "metadata": {
    "id": "gsv_BXbX-Yts"
   },
   "source": [
    "## Dataframe\n",
    "A DataFrame is a table. It contains an array of individual entries, each of which has a certain value. Each entry corresponds to a row (or record) and a column.\n",
    "\n",
    "We can think of a DataFrame as a bunch of Series objects put together to share the same index.\n",
    "\n",
    "\n"
   ]
  },
  {
   "cell_type": "code",
   "execution_count": null,
   "metadata": {
    "colab": {
     "base_uri": "https://localhost:8080/",
     "height": 111
    },
    "executionInfo": {
     "elapsed": 4346,
     "status": "ok",
     "timestamp": 1611485765955,
     "user": {
      "displayName": "Niraj Pahari",
      "photoUrl": "https://lh3.googleusercontent.com/a-/AOh14GgMhuGXLREiRVNAuekjP4QMHW33ne-Htx4lQfSX1w=s64",
      "userId": "09277333043831904871"
     },
     "user_tz": -420
    },
    "id": "kOmvu1Hy8kUc",
    "outputId": "c07944dc-548e-40ea-f380-02826d935ceb"
   },
   "outputs": [],
   "source": [
    "# Create a pandas dataframe with the dictionary {'Yes': [50, 20], 'No':[100,200]}\n",
    "pd.DataFrame({'Yes': [50, 20], 'No':[100,200]})"
   ]
  },
  {
   "cell_type": "code",
   "execution_count": null,
   "metadata": {
    "colab": {
     "base_uri": "https://localhost:8080/",
     "height": 111
    },
    "executionInfo": {
     "elapsed": 4335,
     "status": "ok",
     "timestamp": 1611485765955,
     "user": {
      "displayName": "Niraj Pahari",
      "photoUrl": "https://lh3.googleusercontent.com/a-/AOh14GgMhuGXLREiRVNAuekjP4QMHW33ne-Htx4lQfSX1w=s64",
      "userId": "09277333043831904871"
     },
     "user_tz": -420
    },
    "id": "GMOn3EvvA6Hw",
    "outputId": "1700e0c4-fb16-42ad-8608-90958fca7778"
   },
   "outputs": [],
   "source": [
    "# Create a pandas dataframe with the dictionary {'Yes': [50, 20], 'No':[100,200]} and index ['RAI 1', 'RAI 2']\n"
   ]
  },
  {
   "cell_type": "markdown",
   "metadata": {
    "id": "XOoIRtQiBXXq"
   },
   "source": [
    "We can also define dataframe as list of values and similarly add index and columns as list"
   ]
  },
  {
   "cell_type": "code",
   "execution_count": null,
   "metadata": {
    "executionInfo": {
     "elapsed": 4334,
     "status": "ok",
     "timestamp": 1611485765956,
     "user": {
      "displayName": "Niraj Pahari",
      "photoUrl": "https://lh3.googleusercontent.com/a-/AOh14GgMhuGXLREiRVNAuekjP4QMHW33ne-Htx4lQfSX1w=s64",
      "userId": "09277333043831904871"
     },
     "user_tz": -420
    },
    "id": "sHan_8J_BLfu"
   },
   "outputs": [],
   "source": [
    "# creating a list of random number of size (5,4)\n"
   ]
  },
  {
   "cell_type": "code",
   "execution_count": null,
   "metadata": {
    "colab": {
     "base_uri": "https://localhost:8080/"
    },
    "executionInfo": {
     "elapsed": 4326,
     "status": "ok",
     "timestamp": 1611485765957,
     "user": {
      "displayName": "Niraj Pahari",
      "photoUrl": "https://lh3.googleusercontent.com/a-/AOh14GgMhuGXLREiRVNAuekjP4QMHW33ne-Htx4lQfSX1w=s64",
      "userId": "09277333043831904871"
     },
     "user_tz": -420
    },
    "id": "WNO8vyXMB4C3",
    "outputId": "3a8dd8f0-ed82-42ca-a611-3a4c9c399faf"
   },
   "outputs": [],
   "source": [
    "# Display the random values\n"
   ]
  },
  {
   "cell_type": "code",
   "execution_count": null,
   "metadata": {
    "executionInfo": {
     "elapsed": 4325,
     "status": "ok",
     "timestamp": 1611485765958,
     "user": {
      "displayName": "Niraj Pahari",
      "photoUrl": "https://lh3.googleusercontent.com/a-/AOh14GgMhuGXLREiRVNAuekjP4QMHW33ne-Htx4lQfSX1w=s64",
      "userId": "09277333043831904871"
     },
     "user_tz": -420
    },
    "id": "0-8m5CRuB5LG"
   },
   "outputs": [],
   "source": [
    "# Create the dataframe with the random_values with index ['Thailand', 'Malaysia', 'Japan', 'Laos', 'Vietnam'] and columns ['Dell', 'Samsung', 'Apple', 'HP']\n",
    "df = pd.DataFrame(random_values, index=['Thailand', 'Malaysia', 'Japan', 'Laos', 'Vietnam'], columns=['Dell', 'Samsung', 'Apple', 'HP'])"
   ]
  },
  {
   "cell_type": "code",
   "execution_count": null,
   "metadata": {
    "colab": {
     "base_uri": "https://localhost:8080/",
     "height": 204
    },
    "executionInfo": {
     "elapsed": 4317,
     "status": "ok",
     "timestamp": 1611485765959,
     "user": {
      "displayName": "Niraj Pahari",
      "photoUrl": "https://lh3.googleusercontent.com/a-/AOh14GgMhuGXLREiRVNAuekjP4QMHW33ne-Htx4lQfSX1w=s64",
      "userId": "09277333043831904871"
     },
     "user_tz": -420
    },
    "id": "FMJhOyS6CSyw",
    "outputId": "c515f3f3-58e0-4274-bc79-e4a92bf1629c"
   },
   "outputs": [],
   "source": [
    "# Display the dataframe\n"
   ]
  },
  {
   "cell_type": "markdown",
   "metadata": {
    "id": "Wpfg86WeEEF2"
   },
   "source": [
    "### Selection and Indexing\n",
    "\n",
    "Lets learn the various methods to grad data from a DataFrame"
   ]
  },
  {
   "cell_type": "code",
   "execution_count": null,
   "metadata": {
    "colab": {
     "base_uri": "https://localhost:8080/"
    },
    "executionInfo": {
     "elapsed": 4308,
     "status": "ok",
     "timestamp": 1611485765960,
     "user": {
      "displayName": "Niraj Pahari",
      "photoUrl": "https://lh3.googleusercontent.com/a-/AOh14GgMhuGXLREiRVNAuekjP4QMHW33ne-Htx4lQfSX1w=s64",
      "userId": "09277333043831904871"
     },
     "user_tz": -420
    },
    "id": "U4cIalyHCT7N",
    "outputId": "02c85f19-94f1-4602-c36c-193abad9ffe7"
   },
   "outputs": [],
   "source": [
    "# Select using indexing for Dell models only\n"
   ]
  },
  {
   "cell_type": "code",
   "execution_count": null,
   "metadata": {
    "colab": {
     "base_uri": "https://localhost:8080/"
    },
    "executionInfo": {
     "elapsed": 4301,
     "status": "ok",
     "timestamp": 1611485765961,
     "user": {
      "displayName": "Niraj Pahari",
      "photoUrl": "https://lh3.googleusercontent.com/a-/AOh14GgMhuGXLREiRVNAuekjP4QMHW33ne-Htx4lQfSX1w=s64",
      "userId": "09277333043831904871"
     },
     "user_tz": -420
    },
    "id": "cGS6-vhTENxd",
    "outputId": "1cde56e4-020b-4d1c-cd4a-61dfbce7b7ac"
   },
   "outputs": [],
   "source": [
    "# Check the type of data returned by the above code\n"
   ]
  },
  {
   "cell_type": "code",
   "execution_count": null,
   "metadata": {
    "colab": {
     "base_uri": "https://localhost:8080/",
     "height": 0
    },
    "executionInfo": {
     "elapsed": 4294,
     "status": "ok",
     "timestamp": 1611485765962,
     "user": {
      "displayName": "Niraj Pahari",
      "photoUrl": "https://lh3.googleusercontent.com/a-/AOh14GgMhuGXLREiRVNAuekjP4QMHW33ne-Htx4lQfSX1w=s64",
      "userId": "09277333043831904871"
     },
     "user_tz": -420
    },
    "id": "ERPk35PsEYa6",
    "outputId": "c2371d78-fbad-4a10-9cf1-8c1565abff47"
   },
   "outputs": [],
   "source": [
    "# Select the columns Dell and HP\n"
   ]
  },
  {
   "cell_type": "code",
   "execution_count": null,
   "metadata": {
    "colab": {
     "base_uri": "https://localhost:8080/"
    },
    "executionInfo": {
     "elapsed": 4287,
     "status": "ok",
     "timestamp": 1611485765963,
     "user": {
      "displayName": "Niraj Pahari",
      "photoUrl": "https://lh3.googleusercontent.com/a-/AOh14GgMhuGXLREiRVNAuekjP4QMHW33ne-Htx4lQfSX1w=s64",
      "userId": "09277333043831904871"
     },
     "user_tz": -420
    },
    "id": "a5ZZviowEexW",
    "outputId": "a509d1fc-1b5a-47e5-9735-193f7ad50e8d"
   },
   "outputs": [],
   "source": [
    "# Using the string with (.) operator to display the column\n"
   ]
  },
  {
   "cell_type": "code",
   "execution_count": null,
   "metadata": {
    "executionInfo": {
     "elapsed": 4285,
     "status": "ok",
     "timestamp": 1611485765963,
     "user": {
      "displayName": "Niraj Pahari",
      "photoUrl": "https://lh3.googleusercontent.com/a-/AOh14GgMhuGXLREiRVNAuekjP4QMHW33ne-Htx4lQfSX1w=s64",
      "userId": "09277333043831904871"
     },
     "user_tz": -420
    },
    "id": "EKP0p-pcEm71"
   },
   "outputs": [],
   "source": [
    "# Creating a new column\n"
   ]
  },
  {
   "cell_type": "code",
   "execution_count": null,
   "metadata": {
    "colab": {
     "base_uri": "https://localhost:8080/",
     "height": 0
    },
    "executionInfo": {
     "elapsed": 4279,
     "status": "ok",
     "timestamp": 1611485765964,
     "user": {
      "displayName": "Niraj Pahari",
      "photoUrl": "https://lh3.googleusercontent.com/a-/AOh14GgMhuGXLREiRVNAuekjP4QMHW33ne-Htx4lQfSX1w=s64",
      "userId": "09277333043831904871"
     },
     "user_tz": -420
    },
    "id": "98TnuwTYE6zi",
    "outputId": "7b75506c-aa5c-4d35-fd8c-b0f124f3bdaf"
   },
   "outputs": [],
   "source": [
    "# Display the df\n"
   ]
  },
  {
   "cell_type": "markdown",
   "metadata": {
    "id": "zvd9CHItFhS5"
   },
   "source": [
    "### Deleting a column\n",
    "\n",
    "Note: If inplace is False(defaut), it will not delete the data from the original dataframe but just return the view of dataframe without the column."
   ]
  },
  {
   "cell_type": "code",
   "execution_count": null,
   "metadata": {
    "executionInfo": {
     "elapsed": 4276,
     "status": "ok",
     "timestamp": 1611485765965,
     "user": {
      "displayName": "Niraj Pahari",
      "photoUrl": "https://lh3.googleusercontent.com/a-/AOh14GgMhuGXLREiRVNAuekjP4QMHW33ne-Htx4lQfSX1w=s64",
      "userId": "09277333043831904871"
     },
     "user_tz": -420
    },
    "id": "MTnkrTnKE7o0"
   },
   "outputs": [],
   "source": [
    "# Delete the above created column using drop command\n"
   ]
  },
  {
   "cell_type": "code",
   "execution_count": null,
   "metadata": {
    "colab": {
     "base_uri": "https://localhost:8080/",
     "height": 0
    },
    "executionInfo": {
     "elapsed": 4268,
     "status": "ok",
     "timestamp": 1611485765965,
     "user": {
      "displayName": "Niraj Pahari",
      "photoUrl": "https://lh3.googleusercontent.com/a-/AOh14GgMhuGXLREiRVNAuekjP4QMHW33ne-Htx4lQfSX1w=s64",
      "userId": "09277333043831904871"
     },
     "user_tz": -420
    },
    "id": "f82VYoWCFHnJ",
    "outputId": "b20990cc-0149-4b19-acb1-0622fc07d8e5"
   },
   "outputs": [],
   "source": [
    "# Display the df\n"
   ]
  },
  {
   "cell_type": "markdown",
   "metadata": {
    "id": "GTKM-TZ4GGan"
   },
   "source": [
    "### Deleting a Row"
   ]
  },
  {
   "cell_type": "code",
   "execution_count": null,
   "metadata": {
    "colab": {
     "base_uri": "https://localhost:8080/",
     "height": 0
    },
    "executionInfo": {
     "elapsed": 4262,
     "status": "ok",
     "timestamp": 1611485765966,
     "user": {
      "displayName": "Niraj Pahari",
      "photoUrl": "https://lh3.googleusercontent.com/a-/AOh14GgMhuGXLREiRVNAuekjP4QMHW33ne-Htx4lQfSX1w=s64",
      "userId": "09277333043831904871"
     },
     "user_tz": -420
    },
    "id": "18o5XDlNFIXM",
    "outputId": "340ef06a-79fd-41f0-e871-0a215a8be58f"
   },
   "outputs": [],
   "source": [
    "# Delete the row Japan\n"
   ]
  },
  {
   "cell_type": "code",
   "execution_count": null,
   "metadata": {
    "colab": {
     "base_uri": "https://localhost:8080/",
     "height": 0
    },
    "executionInfo": {
     "elapsed": 4254,
     "status": "ok",
     "timestamp": 1611485765967,
     "user": {
      "displayName": "Niraj Pahari",
      "photoUrl": "https://lh3.googleusercontent.com/a-/AOh14GgMhuGXLREiRVNAuekjP4QMHW33ne-Htx4lQfSX1w=s64",
      "userId": "09277333043831904871"
     },
     "user_tz": -420
    },
    "id": "zIUqX3bkFRp_",
    "outputId": "62cb5002-aebc-40a5-87ea-87182e528348"
   },
   "outputs": [],
   "source": [
    "# Display the df\n"
   ]
  },
  {
   "cell_type": "markdown",
   "metadata": {
    "id": "NauHtmYaGMH8"
   },
   "source": [
    "### Selecting Rows"
   ]
  },
  {
   "cell_type": "code",
   "execution_count": null,
   "metadata": {
    "colab": {
     "base_uri": "https://localhost:8080/"
    },
    "executionInfo": {
     "elapsed": 4246,
     "status": "ok",
     "timestamp": 1611485765967,
     "user": {
      "displayName": "Niraj Pahari",
      "photoUrl": "https://lh3.googleusercontent.com/a-/AOh14GgMhuGXLREiRVNAuekjP4QMHW33ne-Htx4lQfSX1w=s64",
      "userId": "09277333043831904871"
     },
     "user_tz": -420
    },
    "id": "OdvVUHv6FS0U",
    "outputId": "165f8873-b12a-4614-da73-c6ad017c0e96"
   },
   "outputs": [],
   "source": [
    "# Select the row Thailand\n"
   ]
  },
  {
   "cell_type": "code",
   "execution_count": null,
   "metadata": {
    "colab": {
     "base_uri": "https://localhost:8080/"
    },
    "executionInfo": {
     "elapsed": 4240,
     "status": "ok",
     "timestamp": 1611485765968,
     "user": {
      "displayName": "Niraj Pahari",
      "photoUrl": "https://lh3.googleusercontent.com/a-/AOh14GgMhuGXLREiRVNAuekjP4QMHW33ne-Htx4lQfSX1w=s64",
      "userId": "09277333043831904871"
     },
     "user_tz": -420
    },
    "id": "7VvPSY7JGPxn",
    "outputId": "91e88f08-c42f-4a6a-ac76-0ae9d8214ff7"
   },
   "outputs": [],
   "source": [
    "# Select based on position\n"
   ]
  },
  {
   "cell_type": "markdown",
   "metadata": {
    "id": "NBLjixnuGhN4"
   },
   "source": [
    "### Conditional Selection\n",
    "\n",
    "Similar to numpy, pandas also supports conditional selection using bracket notation"
   ]
  },
  {
   "cell_type": "code",
   "execution_count": null,
   "metadata": {
    "colab": {
     "base_uri": "https://localhost:8080/",
     "height": 0
    },
    "executionInfo": {
     "elapsed": 4232,
     "status": "ok",
     "timestamp": 1611485765968,
     "user": {
      "displayName": "Niraj Pahari",
      "photoUrl": "https://lh3.googleusercontent.com/a-/AOh14GgMhuGXLREiRVNAuekjP4QMHW33ne-Htx4lQfSX1w=s64",
      "userId": "09277333043831904871"
     },
     "user_tz": -420
    },
    "id": "8uXVf2ptGSkO",
    "outputId": "8861df2e-3d6f-412d-8f6a-6d3383953985"
   },
   "outputs": [],
   "source": [
    "# Display the df first\n"
   ]
  },
  {
   "cell_type": "code",
   "execution_count": null,
   "metadata": {
    "colab": {
     "base_uri": "https://localhost:8080/",
     "height": 0
    },
    "executionInfo": {
     "elapsed": 4226,
     "status": "ok",
     "timestamp": 1611485765970,
     "user": {
      "displayName": "Niraj Pahari",
      "photoUrl": "https://lh3.googleusercontent.com/a-/AOh14GgMhuGXLREiRVNAuekjP4QMHW33ne-Htx4lQfSX1w=s64",
      "userId": "09277333043831904871"
     },
     "user_tz": -420
    },
    "id": "AvTAHVKkGsPZ",
    "outputId": "b5b0d5ec-3253-4b6d-af83-45740598f8ed"
   },
   "outputs": [],
   "source": [
    "# Show positions where value > 0\n"
   ]
  },
  {
   "cell_type": "code",
   "execution_count": null,
   "metadata": {
    "colab": {
     "base_uri": "https://localhost:8080/",
     "height": 0
    },
    "executionInfo": {
     "elapsed": 4217,
     "status": "ok",
     "timestamp": 1611485765970,
     "user": {
      "displayName": "Niraj Pahari",
      "photoUrl": "https://lh3.googleusercontent.com/a-/AOh14GgMhuGXLREiRVNAuekjP4QMHW33ne-Htx4lQfSX1w=s64",
      "userId": "09277333043831904871"
     },
     "user_tz": -420
    },
    "id": "vU-YUlHVGtFW",
    "outputId": "649829de-370d-4be9-9107-1efbc92877b6"
   },
   "outputs": [],
   "source": [
    "# Show the values where value > 0\n"
   ]
  },
  {
   "cell_type": "code",
   "execution_count": null,
   "metadata": {
    "colab": {
     "base_uri": "https://localhost:8080/",
     "height": 0
    },
    "executionInfo": {
     "elapsed": 4210,
     "status": "ok",
     "timestamp": 1611485765971,
     "user": {
      "displayName": "Niraj Pahari",
      "photoUrl": "https://lh3.googleusercontent.com/a-/AOh14GgMhuGXLREiRVNAuekjP4QMHW33ne-Htx4lQfSX1w=s64",
      "userId": "09277333043831904871"
     },
     "user_tz": -420
    },
    "id": "JedN_nndG9ho",
    "outputId": "4c3f9bf8-e269-420d-a372-9b3928e7fe95"
   },
   "outputs": [],
   "source": [
    "# Display the rows where dell has values greater than 0\n"
   ]
  },
  {
   "cell_type": "code",
   "execution_count": null,
   "metadata": {
    "colab": {
     "base_uri": "https://localhost:8080/",
     "height": 0
    },
    "executionInfo": {
     "elapsed": 4203,
     "status": "ok",
     "timestamp": 1611485765972,
     "user": {
      "displayName": "Niraj Pahari",
      "photoUrl": "https://lh3.googleusercontent.com/a-/AOh14GgMhuGXLREiRVNAuekjP4QMHW33ne-Htx4lQfSX1w=s64",
      "userId": "09277333043831904871"
     },
     "user_tz": -420
    },
    "id": "wIKLq4mBHf3L",
    "outputId": "760673ea-731b-4ef8-8224-aea364c8890f"
   },
   "outputs": [],
   "source": [
    "# Display the coulmns Dell and HP and rows where Dell has values greater than 0\n"
   ]
  },
  {
   "cell_type": "markdown",
   "metadata": {
    "id": "ORdPsvZOH6Di"
   },
   "source": [
    "We can use | and & with parenthesis for combining multiple conditions"
   ]
  },
  {
   "cell_type": "code",
   "execution_count": null,
   "metadata": {
    "colab": {
     "base_uri": "https://localhost:8080/",
     "height": 0
    },
    "executionInfo": {
     "elapsed": 4195,
     "status": "ok",
     "timestamp": 1611485765973,
     "user": {
      "displayName": "Niraj Pahari",
      "photoUrl": "https://lh3.googleusercontent.com/a-/AOh14GgMhuGXLREiRVNAuekjP4QMHW33ne-Htx4lQfSX1w=s64",
      "userId": "09277333043831904871"
     },
     "user_tz": -420
    },
    "id": "brdIOqFAH0kA",
    "outputId": "3a22477c-751b-411e-b2d1-c349c1338b70"
   },
   "outputs": [],
   "source": [
    "# Display the rows where dell>0 and apple>0\n"
   ]
  }
 ],
 "metadata": {
  "colab": {
   "authorship_tag": "ABX9TyPaIt1M1AtIBX1x03+jfPZ5",
   "name": "RoboticsLab3-Pandas1.ipynb",
   "provenance": []
  },
  "kernelspec": {
   "display_name": "Python 3",
   "language": "python",
   "name": "python3"
  },
  "language_info": {
   "codemirror_mode": {
    "name": "ipython",
    "version": 3
   },
   "file_extension": ".py",
   "mimetype": "text/x-python",
   "name": "python",
   "nbconvert_exporter": "python",
   "pygments_lexer": "ipython3",
   "version": "3.7.4"
  }
 },
 "nbformat": 4,
 "nbformat_minor": 1
}
