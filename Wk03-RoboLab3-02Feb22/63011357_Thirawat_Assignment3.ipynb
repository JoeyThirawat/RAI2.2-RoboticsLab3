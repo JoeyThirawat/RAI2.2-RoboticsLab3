{
  "nbformat": 4,
  "nbformat_minor": 0,
  "metadata": {
    "colab": {
      "name": "63011357_Thirawat_Assignment3.ipynb",
      "provenance": [],
      "collapsed_sections": []
    },
    "kernelspec": {
      "name": "python3",
      "display_name": "Python 3"
    },
    "language_info": {
      "name": "python"
    }
  },
  "cells": [
    {
      "cell_type": "markdown",
      "source": [
        "63011357 Thirawat Boonsang Assignment 3"
      ],
      "metadata": {
        "id": "WfEnjYVzyefg"
      }
    },
    {
      "cell_type": "markdown",
      "source": [
        "1. Difference between OOL and OBL\n",
        "\n",
        "\n",
        "> Object Oriented Languages supports all the features of Oops including inheritance and polymorphism. It also support built-in objects. On the other hand, Object based languages or OBL supports the usage of object and encapsulation. Also, they does not support inheritance or polymorphism or both."
      ],
      "metadata": {
        "id": "DE8icJYyyTWZ"
      }
    },
    {
      "cell_type": "markdown",
      "source": [
        "2. A bus is created with a number of seats, a color, and is driven by a bus driver that has a name. New passengers can get in the bus, and existing bus passengers can leave their seat and get off the bus. Number of bus passengers can’t be smaller than 0."
      ],
      "metadata": {
        "id": "gCLVdg72zOKI"
      }
    },
    {
      "cell_type": "code",
      "source": [
        "class Bus:\n",
        "  def __init__ (self, seat, color, driverName):\n",
        "    self.seat = seat\n",
        "    self.color = color\n",
        "    self.driverName = driverName\n",
        "    self.passenger = 0\n",
        "    print('Bus\\'s seat: ', self.seat)\n",
        "    print('Bus\\'s color: ', self.color)\n",
        "    print('Bus driver\\'s name: ', self.driverName)\n",
        "    print('Current no. of passenger', self.passenger)\n",
        "\n",
        "  def passengerIn (self, In):\n",
        "    if self.passenger + In > self.seat:\n",
        "      raise ValueError('Number of passenger exceed')\n",
        "    self.passenger += In\n",
        "    print('Current number of passenger', self.passenger)\n",
        "  \n",
        "  def passengerOut (self, out):\n",
        "    if self.passenger - out < 0:\n",
        "      raise ValueError('Passenger cannot be negative number')\n",
        "    self.passenger -= out\n",
        "    print('Current number of passenger', self.passenger)\n",
        "\n",
        "\n",
        "bus1 = Bus(40, 'pink', 'Joey')\n",
        "bus1.passengerIn(1)\n",
        "bus1.passengerIn(7)\n",
        "bus1.passengerOut(5)\n",
        "print(\"\")\n",
        "\n",
        "bus2 = Bus(28, 'blue', 'Peter')\n",
        "bus2.passengerIn(9)\n",
        "bus2.passengerOut(1)\n",
        "bus2.passengerOut(3)\n",
        "bus2.passengerOut(5)"
      ],
      "metadata": {
        "colab": {
          "base_uri": "https://localhost:8080/"
        },
        "id": "bQt5ai4WFpSf",
        "outputId": "205f7a57-841c-4ce3-ab74-6d834f209704"
      },
      "execution_count": 20,
      "outputs": [
        {
          "output_type": "stream",
          "name": "stdout",
          "text": [
            "Bus's seat:  40\n",
            "Bus's color:  pink\n",
            "Bus driver's name:  Joey\n",
            "Current no. of passenger 0\n",
            "Current number of passenger 1\n",
            "Current number of passenger 8\n",
            "Current number of passenger 3\n",
            "\n",
            "Bus's seat:  28\n",
            "Bus's color:  blue\n",
            "Bus driver's name:  Peter\n",
            "Current no. of passenger 0\n",
            "Current number of passenger 9\n",
            "Current number of passenger 8\n",
            "Current number of passenger 5\n",
            "Current number of passenger 0\n"
          ]
        }
      ]
    },
    {
      "cell_type": "markdown",
      "source": [
        "3. What the types of inheritance in python, write with example for multi-level, hierarchical inheritance.\n",
        "\n",
        ">Types of inheritance:\n",
        ">1. Single inheritance\n",
        ">2. Multiple inheritance\n",
        ">3. Multi-level inheritance\n",
        ">4. Hierachical inheritance\n",
        ">5. Hybrid inheritance\n",
        ">\n",
        ">Example of Multi-level inheritance."
      ],
      "metadata": {
        "id": "ovkjbBOezWgk"
      }
    },
    {
      "cell_type": "code",
      "source": [
        "# Example of Multi-level inheritance.\n",
        "class first:\n",
        "  def prt_first(self):\n",
        "    print('First class')\n",
        "\n",
        "class second(first):\n",
        "  def prt_second(self):\n",
        "    print('second class')\n",
        "\n",
        "class third(second):\n",
        "  def prt_third(self):\n",
        "    print('Third class')\n",
        "\n",
        "print('Example of multi-level inheritance')\n",
        "multi_lvl = third()\n",
        "multi_lvl.prt_first()\n",
        "multi_lvl.prt_second()\n",
        "multi_lvl.prt_third()\n",
        "\n",
        "# Example of Hierarchical inheritance.\n",
        "class company:\n",
        "  def __init__ (self, inc, product):\n",
        "    self.inc = inc\n",
        "    self.product = product\n",
        "\n",
        "  def print_Inc(self):\n",
        "    print(\"Company name: \", self.inc)\n",
        "    print('Product: ', self.product)\n",
        "\n",
        "class employee(company):\n",
        "  def __init__(self, name, age, dep, inc, product):\n",
        "    self.name = name\n",
        "    self.age = age\n",
        "    self.dep = dep\n",
        "    super().__init__(inc, product)\n",
        "\n",
        "  def print_employee(self):\n",
        "    print('Name: ', self.name)\n",
        "    print('Age: ', self.age)\n",
        "    print('Department: ', self.dep)\n",
        "    super().print_Inc()\n",
        "\n",
        "\n",
        "print()\n",
        "print('Example of hierarchical inheritance')\n",
        "Jo = employee('Joey', 24, 'home electrical', 'Samsung', 'Audio set')\n",
        "Jo.print_employee()"
      ],
      "metadata": {
        "colab": {
          "base_uri": "https://localhost:8080/"
        },
        "id": "BfpNlN7IGu43",
        "outputId": "45c567ee-c387-4d66-9379-8a079361b15d"
      },
      "execution_count": 21,
      "outputs": [
        {
          "output_type": "stream",
          "name": "stdout",
          "text": [
            "Example of multi-level inheritance\n",
            "First class\n",
            "second class\n",
            "Third class\n",
            "\n",
            "Example of hierarchical inheritance\n",
            "Name:  Joey\n",
            "Age:  24\n",
            "Department:  home electrical\n",
            "Company name:  Samsung\n",
            "Product:  Audio set\n"
          ]
        }
      ]
    },
    {
      "cell_type": "markdown",
      "source": [
        "4. Write an example illustrating the use of the private, protected and public in the scenario of question number 2."
      ],
      "metadata": {
        "id": "W1X1zGJ4zcqI"
      }
    },
    {
      "cell_type": "code",
      "source": [
        "class public_trn:\n",
        "  __driver = None\n",
        "  _passenger = None\n",
        "  seat = None\n",
        "  color = None\n",
        "  def __init__ (self, seat, color, driver):\n",
        "    self.__driver = driver\n",
        "    self._passenger = 0\n",
        "    self.seat = seat\n",
        "    self.color = color\n",
        "\n",
        "  def passengerIn (self, In):\n",
        "    if self._passenger + In > self.seat:\n",
        "      raise ValueError('Number of passenger exceed')\n",
        "    self._passenger += In\n",
        "    \n",
        "  \n",
        "  def passengerOut (self, out):\n",
        "    if self._passenger - out < 0:\n",
        "      raise ValueError('Passenger cannot be negative number')\n",
        "    self._passenger -= out\n",
        "    print('Current no. of passenger', self._passenger)\n",
        "\n",
        "  def display (self):\n",
        "    print('Bus\\'s seat: ', self.seat)\n",
        "    print('Bus\\'s color: ', self.color)\n",
        "    print('Bus driver\\'s name: ', self.__driver)\n",
        "    print('Current passengers = ', self._passenger)\n",
        "\n",
        "  def check_seat(self):\n",
        "    return self.seat\n",
        "\n",
        "  def check_pass(self):\n",
        "    return self._passenger\n",
        "\n",
        "class Bus(public_trn):\n",
        "  def __init__ (self, seat, color, driver):\n",
        "\n",
        "    super().__init__(seat, color, driver)\n",
        "\n",
        "  def passIn (self, no):\n",
        "    try:\n",
        "      super()._passenger += no\n",
        "    except:\n",
        "      super().passengerIn(no)\n",
        "\n",
        "  def status (self):\n",
        "    if super().check_pass() == super().check_seat():\n",
        "      print('Bus is full')\n",
        "    else:\n",
        "      print('Bus is ready to service.')\n",
        "    try:\n",
        "      print('Driver\\'s name: ', super().__driver)\n",
        "    except:\n",
        "      super().display()\n",
        "\n",
        "\n",
        "\n",
        "buss = Bus(40, 'pink', 'Joey')\n",
        "buss.status()\n",
        "print()\n",
        "buss.passIn(28)\n",
        "buss.color = 'blue'\n",
        "buss.status()\n",
        "print()\n",
        "buss.passIn(8)\n",
        "buss.status()"
      ],
      "metadata": {
        "colab": {
          "base_uri": "https://localhost:8080/"
        },
        "id": "hNFTEAVJG1Pa",
        "outputId": "2d8461fc-0f88-40d8-93e5-bb48bf0e4aa4"
      },
      "execution_count": 22,
      "outputs": [
        {
          "output_type": "stream",
          "name": "stdout",
          "text": [
            "Bus is ready to service.\n",
            "Bus's seat:  40\n",
            "Bus's color:  pink\n",
            "Bus driver's name:  Joey\n",
            "Current passengers =  0\n",
            "\n",
            "Bus is ready to service.\n",
            "Bus's seat:  40\n",
            "Bus's color:  blue\n",
            "Bus driver's name:  Joey\n",
            "Current passengers =  28\n",
            "\n",
            "Bus is ready to service.\n",
            "Bus's seat:  40\n",
            "Bus's color:  blue\n",
            "Bus driver's name:  Joey\n",
            "Current passengers =  36\n"
          ]
        }
      ]
    },
    {
      "cell_type": "markdown",
      "source": [
        "5. Write a program illustating the use of dunder methods."
      ],
      "metadata": {
        "id": "2Ie9qC9kzih8"
      }
    },
    {
      "cell_type": "code",
      "source": [
        "class String1:\n",
        "      \n",
        "    def __init__(self, string):\n",
        "        self.string = string \n",
        "  \n",
        "string1 = String1('Hello')\n",
        "try:\n",
        "  print(string1 +' Joey')\n",
        "except Exception as e: \n",
        "    print(e)\n",
        "\n",
        "class String2:\n",
        "      \n",
        "    def __init__(self, string):\n",
        "        self.string = string \n",
        "\n",
        "    def __add__(self, other):\n",
        "        return self.string + other\n",
        "  \n",
        "string2 = String2('Hello')\n",
        "print(string2 +' Joey')"
      ],
      "metadata": {
        "colab": {
          "base_uri": "https://localhost:8080/"
        },
        "id": "5-p8ZGPA13ZB",
        "outputId": "8e6fef99-3812-4429-8a42-be3110060f3a"
      },
      "execution_count": 23,
      "outputs": [
        {
          "output_type": "stream",
          "name": "stdout",
          "text": [
            "unsupported operand type(s) for +: 'String1' and 'str'\n",
            "Hello Joey\n"
          ]
        }
      ]
    }
  ]
}