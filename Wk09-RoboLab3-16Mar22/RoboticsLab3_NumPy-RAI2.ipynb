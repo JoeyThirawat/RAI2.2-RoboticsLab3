{
 "cells": [
  {
   "cell_type": "markdown",
   "metadata": {
    "id": "fd4RJdRiNnN3"
   },
   "source": [
    "# Robotics Lab 3"
   ]
  },
  {
   "cell_type": "markdown",
   "metadata": {
    "id": "M-nvTFrHQn9k"
   },
   "source": [
    "# NumPy \n",
    "\n",
    "NumPy (or Numpy) is a Linear Algebra Library for Python, the reason it is so important for Data Science with Python is that almost all of the libraries in the PyData Ecosystem rely on NumPy as one of their main building blocks.\n",
    "\n",
    "Numpy is also incredibly fast, as it has bindings to C libraries.\n",
    "\n",
    "NumPy's arrays are more compact than Python lists -- a list of lists as you describe, in Python, would take at least 20 MB or so, while a NumPy 3D array with single-precision floats in the cells would fit in 4 MB. Access in reading and writing items is also faster with NumPy. it is also more convenient. You get a lot of vector and matrix operations for free, which sometimes allow one to avoid unnecessary work. And they are also efficiently implemented. You get a lot built in with NumPy, FFTs, convolutions, fast searching, basic statistics, linear algebra, histograms, etc.\n",
    "\n",
    "We will only learn the basics of NumPy, to get started we need to install it!"
   ]
  },
  {
   "cell_type": "markdown",
   "metadata": {
    "id": "UHj3jXjqQ_K_"
   },
   "source": [
    "If you have Anaconda installed in your system than you can install by using the following command in your anaconda terminal:\n",
    "\n",
    "    conda install numpy\n",
    "\n",
    "Or if you want to install normally than you can use pip to install numpy using the following command.\n",
    "\n",
    "    pip install numpy\n"
   ]
  },
  {
   "cell_type": "markdown",
   "metadata": {
    "id": "syGgVhk9SRgt"
   },
   "source": [
    "### Loading NumPy\n",
    "\n",
    "Once numpy is installed you can import it as any python library"
   ]
  },
  {
   "cell_type": "code",
   "execution_count": 1,
   "metadata": {
    "executionInfo": {
     "elapsed": 1960,
     "status": "ok",
     "timestamp": 1611480659732,
     "user": {
      "displayName": "Niraj Pahari",
      "photoUrl": "https://lh3.googleusercontent.com/a-/AOh14GgMhuGXLREiRVNAuekjP4QMHW33ne-Htx4lQfSX1w=s64",
      "userId": "09277333043831904871"
     },
     "user_tz": -420
    },
    "id": "qKouh0obQ3id"
   },
   "outputs": [],
   "source": [
    "# import numpy\n",
    "import numpy as np"
   ]
  },
  {
   "cell_type": "markdown",
   "metadata": {
    "id": "-MG_nQG2TOQr"
   },
   "source": [
    "### NumPy Arrays\n",
    "Numpy arrays essentially come in two flavors: vectors and matrices. Vectors are strictly 1-d arrays and matrices are 2-d (but you should note a matrix can still have only one row or one column)."
   ]
  },
  {
   "cell_type": "markdown",
   "metadata": {
    "id": "yDGnIowYT1Am"
   },
   "source": [
    "###Creating NumPy Arrays\n",
    "There are multiple ways of creating the numpy arrays. Lets go through few methods:\n",
    "#### i) Array from a python list"
   ]
  },
  {
   "cell_type": "code",
   "execution_count": 2,
   "metadata": {
    "colab": {
     "base_uri": "https://localhost:8080/"
    },
    "executionInfo": {
     "elapsed": 4100,
     "status": "ok",
     "timestamp": 1611480658042,
     "user": {
      "displayName": "Niraj Pahari",
      "photoUrl": "https://lh3.googleusercontent.com/a-/AOh14GgMhuGXLREiRVNAuekjP4QMHW33ne-Htx4lQfSX1w=s64",
      "userId": "09277333043831904871"
     },
     "user_tz": -420
    },
    "id": "a_lu0TeQTGcD",
    "outputId": "e9ef50f4-8466-4909-9df1-a7fff4c6a89d"
   },
   "outputs": [
    {
     "name": "stdout",
     "output_type": "stream",
     "text": [
      "[1, 2, 3]\n"
     ]
    }
   ],
   "source": [
    "# Create a python list in variable my_list\n",
    "my_list = [1,2,3]\n",
    "print(my_list)"
   ]
  },
  {
   "cell_type": "code",
   "execution_count": 3,
   "metadata": {
    "colab": {
     "base_uri": "https://localhost:8080/"
    },
    "executionInfo": {
     "elapsed": 4092,
     "status": "ok",
     "timestamp": 1611480658043,
     "user": {
      "displayName": "Niraj Pahari",
      "photoUrl": "https://lh3.googleusercontent.com/a-/AOh14GgMhuGXLREiRVNAuekjP4QMHW33ne-Htx4lQfSX1w=s64",
      "userId": "09277333043831904871"
     },
     "user_tz": -420
    },
    "id": "xUiw9KW2UZbD",
    "outputId": "62367e01-48d6-4e4f-eace-a39720388ca6"
   },
   "outputs": [
    {
     "data": {
      "text/plain": [
       "list"
      ]
     },
     "execution_count": 3,
     "metadata": {},
     "output_type": "execute_result"
    }
   ],
   "source": [
    "# Check the type of my_list with type() function\n",
    "type(my_list)"
   ]
  },
  {
   "cell_type": "code",
   "execution_count": 5,
   "metadata": {
    "colab": {
     "base_uri": "https://localhost:8080/"
    },
    "executionInfo": {
     "elapsed": 4085,
     "status": "ok",
     "timestamp": 1611480658044,
     "user": {
      "displayName": "Niraj Pahari",
      "photoUrl": "https://lh3.googleusercontent.com/a-/AOh14GgMhuGXLREiRVNAuekjP4QMHW33ne-Htx4lQfSX1w=s64",
      "userId": "09277333043831904871"
     },
     "user_tz": -420
    },
    "id": "P8sqnhrBUgFj",
    "outputId": "cdb88459-5442-471b-cbf5-9ce66a6e5d59"
   },
   "outputs": [
    {
     "name": "stdout",
     "output_type": "stream",
     "text": [
      "[1 2 3]\n"
     ]
    }
   ],
   "source": [
    "# Create my_array using np.array() and my_list\n",
    "my_array = np.array(my_list)\n",
    "print(my_array)"
   ]
  },
  {
   "cell_type": "code",
   "execution_count": 6,
   "metadata": {
    "colab": {
     "base_uri": "https://localhost:8080/"
    },
    "executionInfo": {
     "elapsed": 4077,
     "status": "ok",
     "timestamp": 1611480658045,
     "user": {
      "displayName": "Niraj Pahari",
      "photoUrl": "https://lh3.googleusercontent.com/a-/AOh14GgMhuGXLREiRVNAuekjP4QMHW33ne-Htx4lQfSX1w=s64",
      "userId": "09277333043831904871"
     },
     "user_tz": -420
    },
    "id": "yTS6j0ifUnrp",
    "outputId": "1b4e8372-9aef-4c67-989f-fecd5d5a92f9"
   },
   "outputs": [
    {
     "data": {
      "text/plain": [
       "numpy.ndarray"
      ]
     },
     "execution_count": 6,
     "metadata": {},
     "output_type": "execute_result"
    }
   ],
   "source": [
    "# Check the type of my_array with type() function\n",
    "type(my_array)"
   ]
  },
  {
   "cell_type": "code",
   "execution_count": 8,
   "metadata": {
    "colab": {
     "base_uri": "https://localhost:8080/"
    },
    "executionInfo": {
     "elapsed": 4068,
     "status": "ok",
     "timestamp": 1611480658045,
     "user": {
      "displayName": "Niraj Pahari",
      "photoUrl": "https://lh3.googleusercontent.com/a-/AOh14GgMhuGXLREiRVNAuekjP4QMHW33ne-Htx4lQfSX1w=s64",
      "userId": "09277333043831904871"
     },
     "user_tz": -420
    },
    "id": "rNNxAqf0Uu6L",
    "outputId": "a539fe3c-0472-4b3f-eae1-a87cb3a09e4a"
   },
   "outputs": [
    {
     "name": "stdout",
     "output_type": "stream",
     "text": [
      "[[1, 2, 3], [4, 5, 6], [7, 8, 9]]\n"
     ]
    }
   ],
   "source": [
    "# create my_matrix using list of lists\n",
    "my_matrix = [[1,2,3],[4,5,6],[7,8,9]]\n",
    "print(my_matrix)"
   ]
  },
  {
   "cell_type": "code",
   "execution_count": 10,
   "metadata": {
    "colab": {
     "base_uri": "https://localhost:8080/"
    },
    "executionInfo": {
     "elapsed": 4061,
     "status": "ok",
     "timestamp": 1611480658046,
     "user": {
      "displayName": "Niraj Pahari",
      "photoUrl": "https://lh3.googleusercontent.com/a-/AOh14GgMhuGXLREiRVNAuekjP4QMHW33ne-Htx4lQfSX1w=s64",
      "userId": "09277333043831904871"
     },
     "user_tz": -420
    },
    "id": "o2I_FrOUU6zU",
    "outputId": "d87fa5ca-fd0c-4f21-967b-3288360f06d7"
   },
   "outputs": [],
   "source": [
    "# Check the type of my_array with type() function\n",
    "my_npmatrix = np.array(my_matrix)"
   ]
  },
  {
   "cell_type": "code",
   "execution_count": 11,
   "metadata": {
    "colab": {
     "base_uri": "https://localhost:8080/"
    },
    "executionInfo": {
     "elapsed": 4052,
     "status": "ok",
     "timestamp": 1611480658046,
     "user": {
      "displayName": "Niraj Pahari",
      "photoUrl": "https://lh3.googleusercontent.com/a-/AOh14GgMhuGXLREiRVNAuekjP4QMHW33ne-Htx4lQfSX1w=s64",
      "userId": "09277333043831904871"
     },
     "user_tz": -420
    },
    "id": "xjJpgxicU9Mn",
    "outputId": "45bdd035-673e-4e0f-b313-94a80d49482f"
   },
   "outputs": [
    {
     "data": {
      "text/plain": [
       "numpy.ndarray"
      ]
     },
     "execution_count": 11,
     "metadata": {},
     "output_type": "execute_result"
    }
   ],
   "source": [
    "# Create my_array using np.array() and my_matrix\n",
    "type(my_npmatrix)"
   ]
  },
  {
   "cell_type": "markdown",
   "metadata": {
    "id": "SwfiZJXSVHLe"
   },
   "source": [
    "### ii) arange\n",
    "Return evenly spaced values within a given interval\n"
   ]
  },
  {
   "cell_type": "code",
   "execution_count": 12,
   "metadata": {
    "colab": {
     "base_uri": "https://localhost:8080/"
    },
    "executionInfo": {
     "elapsed": 4045,
     "status": "ok",
     "timestamp": 1611480658047,
     "user": {
      "displayName": "Niraj Pahari",
      "photoUrl": "https://lh3.googleusercontent.com/a-/AOh14GgMhuGXLREiRVNAuekjP4QMHW33ne-Htx4lQfSX1w=s64",
      "userId": "09277333043831904871"
     },
     "user_tz": -420
    },
    "id": "uR4FVv7jVCXg",
    "outputId": "471b54df-7b4b-4fc8-d228-b6131d7a1500"
   },
   "outputs": [
    {
     "data": {
      "text/plain": [
       "array([0, 1, 2, 3, 4])"
      ]
     },
     "execution_count": 12,
     "metadata": {},
     "output_type": "execute_result"
    }
   ],
   "source": [
    "# Create evenly spaced array using np.arange()\n",
    "np.arange(0,5)"
   ]
  },
  {
   "cell_type": "code",
   "execution_count": 13,
   "metadata": {
    "colab": {
     "base_uri": "https://localhost:8080/"
    },
    "executionInfo": {
     "elapsed": 4036,
     "status": "ok",
     "timestamp": 1611480658047,
     "user": {
      "displayName": "Niraj Pahari",
      "photoUrl": "https://lh3.googleusercontent.com/a-/AOh14GgMhuGXLREiRVNAuekjP4QMHW33ne-Htx4lQfSX1w=s64",
      "userId": "09277333043831904871"
     },
     "user_tz": -420
    },
    "id": "5EKjjaRPV-Pc",
    "outputId": "207d8f89-006d-4d41-f070-ffcfb8700b58"
   },
   "outputs": [
    {
     "data": {
      "text/plain": [
       "array([ 0,  2,  4,  6,  8, 10])"
      ]
     },
     "execution_count": 13,
     "metadata": {},
     "output_type": "execute_result"
    }
   ],
   "source": [
    "# Create evenly spaced array with given interval and step\n",
    "np.arange(0,11,2)"
   ]
  },
  {
   "cell_type": "code",
   "execution_count": 14,
   "metadata": {},
   "outputs": [],
   "source": [
    "np.arange?"
   ]
  },
  {
   "cell_type": "markdown",
   "metadata": {
    "id": "ReiNz8qcWG-P"
   },
   "source": [
    "### iii) zeros and ones\n",
    "Generate arrays of zeros or ones\n",
    "\n"
   ]
  },
  {
   "cell_type": "code",
   "execution_count": 15,
   "metadata": {
    "colab": {
     "base_uri": "https://localhost:8080/"
    },
    "executionInfo": {
     "elapsed": 4028,
     "status": "ok",
     "timestamp": 1611480658048,
     "user": {
      "displayName": "Niraj Pahari",
      "photoUrl": "https://lh3.googleusercontent.com/a-/AOh14GgMhuGXLREiRVNAuekjP4QMHW33ne-Htx4lQfSX1w=s64",
      "userId": "09277333043831904871"
     },
     "user_tz": -420
    },
    "id": "aOu00g48WDSr",
    "outputId": "5a9d4dc2-183f-4c94-f5cd-6fc37e617c43"
   },
   "outputs": [
    {
     "data": {
      "text/plain": [
       "array([0., 0., 0., 0.])"
      ]
     },
     "execution_count": 15,
     "metadata": {},
     "output_type": "execute_result"
    }
   ],
   "source": [
    "np.zeros(4)"
   ]
  },
  {
   "cell_type": "code",
   "execution_count": 16,
   "metadata": {
    "colab": {
     "base_uri": "https://localhost:8080/"
    },
    "executionInfo": {
     "elapsed": 4021,
     "status": "ok",
     "timestamp": 1611480658048,
     "user": {
      "displayName": "Niraj Pahari",
      "photoUrl": "https://lh3.googleusercontent.com/a-/AOh14GgMhuGXLREiRVNAuekjP4QMHW33ne-Htx4lQfSX1w=s64",
      "userId": "09277333043831904871"
     },
     "user_tz": -420
    },
    "id": "PXcldxuzWTQ6",
    "outputId": "1b97d5b4-ae36-4d62-eff1-f115b16613a4"
   },
   "outputs": [
    {
     "data": {
      "text/plain": [
       "array([1., 1., 1., 1., 1.])"
      ]
     },
     "execution_count": 16,
     "metadata": {},
     "output_type": "execute_result"
    }
   ],
   "source": [
    "np.ones(5)"
   ]
  },
  {
   "cell_type": "markdown",
   "metadata": {
    "id": "m6vBAw5iWc-v"
   },
   "source": [
    "### iv) linspace\n",
    "Return evenly spaced numbers over a specified interval"
   ]
  },
  {
   "cell_type": "code",
   "execution_count": 20,
   "metadata": {
    "colab": {
     "base_uri": "https://localhost:8080/"
    },
    "executionInfo": {
     "elapsed": 4014,
     "status": "ok",
     "timestamp": 1611480658049,
     "user": {
      "displayName": "Niraj Pahari",
      "photoUrl": "https://lh3.googleusercontent.com/a-/AOh14GgMhuGXLREiRVNAuekjP4QMHW33ne-Htx4lQfSX1w=s64",
      "userId": "09277333043831904871"
     },
     "user_tz": -420
    },
    "id": "YLXuDJKFWUzP",
    "outputId": "e60a589a-ab62-4f95-e728-00a39cb98ace"
   },
   "outputs": [
    {
     "data": {
      "text/plain": [
       "array([ 0.,  5., 10.])"
      ]
     },
     "execution_count": 20,
     "metadata": {},
     "output_type": "execute_result"
    }
   ],
   "source": [
    "np.linspace(0,10,3)"
   ]
  },
  {
   "cell_type": "code",
   "execution_count": 21,
   "metadata": {
    "colab": {
     "base_uri": "https://localhost:8080/"
    },
    "executionInfo": {
     "elapsed": 4006,
     "status": "ok",
     "timestamp": 1611480658049,
     "user": {
      "displayName": "Niraj Pahari",
      "photoUrl": "https://lh3.googleusercontent.com/a-/AOh14GgMhuGXLREiRVNAuekjP4QMHW33ne-Htx4lQfSX1w=s64",
      "userId": "09277333043831904871"
     },
     "user_tz": -420
    },
    "id": "ULW1BfAsWpCC",
    "outputId": "1061f3c1-6739-4bd5-e48a-8b0c148b550c"
   },
   "outputs": [
    {
     "data": {
      "text/plain": [
       "array([0.        , 0.55555556, 1.11111111, 1.66666667, 2.22222222,\n",
       "       2.77777778, 3.33333333, 3.88888889, 4.44444444, 5.        ])"
      ]
     },
     "execution_count": 21,
     "metadata": {},
     "output_type": "execute_result"
    }
   ],
   "source": [
    "np.linspace(0,5,10)"
   ]
  },
  {
   "cell_type": "markdown",
   "metadata": {
    "id": "u4Ca0jofXzBU"
   },
   "source": [
    "### v) eye\n",
    "Creates an identity matrix"
   ]
  },
  {
   "cell_type": "code",
   "execution_count": 22,
   "metadata": {
    "colab": {
     "base_uri": "https://localhost:8080/"
    },
    "executionInfo": {
     "elapsed": 3998,
     "status": "ok",
     "timestamp": 1611480658050,
     "user": {
      "displayName": "Niraj Pahari",
      "photoUrl": "https://lh3.googleusercontent.com/a-/AOh14GgMhuGXLREiRVNAuekjP4QMHW33ne-Htx4lQfSX1w=s64",
      "userId": "09277333043831904871"
     },
     "user_tz": -420
    },
    "id": "-CIvzbGbXv1P",
    "outputId": "34f829dc-2b17-4064-adfc-f27422a3c060"
   },
   "outputs": [
    {
     "data": {
      "text/plain": [
       "array([[1., 0., 0., 0., 0.],\n",
       "       [0., 1., 0., 0., 0.],\n",
       "       [0., 0., 1., 0., 0.],\n",
       "       [0., 0., 0., 1., 0.],\n",
       "       [0., 0., 0., 0., 1.]])"
      ]
     },
     "execution_count": 22,
     "metadata": {},
     "output_type": "execute_result"
    }
   ],
   "source": [
    "np.eye(5)"
   ]
  },
  {
   "cell_type": "markdown",
   "metadata": {
    "id": "whCPy6nbYGkb"
   },
   "source": [
    "### vi) random\n",
    "There are few different ways to create random number arrays. They are:\n",
    "\n",
    "**rand**\n",
    "\n",
    "Create an array of the given shape and populate it with random samples from a uniform distribution over [0,1).\n",
    "\n",
    "**randn**\n",
    "\n",
    "Return a sample (or samples) from the \"standard normal\" distribution. \n",
    "\n",
    "**randint**\n",
    "\n",
    "Return random integers from low (inclusive) to high (exclusive)"
   ]
  },
  {
   "cell_type": "code",
   "execution_count": 23,
   "metadata": {
    "colab": {
     "base_uri": "https://localhost:8080/"
    },
    "executionInfo": {
     "elapsed": 3988,
     "status": "ok",
     "timestamp": 1611480658050,
     "user": {
      "displayName": "Niraj Pahari",
      "photoUrl": "https://lh3.googleusercontent.com/a-/AOh14GgMhuGXLREiRVNAuekjP4QMHW33ne-Htx4lQfSX1w=s64",
      "userId": "09277333043831904871"
     },
     "user_tz": -420
    },
    "id": "yJmshcFvX9p2",
    "outputId": "93de8919-98e0-469a-d809-fec02dd920e5"
   },
   "outputs": [
    {
     "data": {
      "text/plain": [
       "array([0.15346643, 0.78913356, 0.29795339])"
      ]
     },
     "execution_count": 23,
     "metadata": {},
     "output_type": "execute_result"
    }
   ],
   "source": [
    "# Use rand to create array of 2 samples\n",
    "np.random.rand(3)"
   ]
  },
  {
   "cell_type": "code",
   "execution_count": 25,
   "metadata": {
    "colab": {
     "base_uri": "https://localhost:8080/"
    },
    "executionInfo": {
     "elapsed": 3982,
     "status": "ok",
     "timestamp": 1611480658051,
     "user": {
      "displayName": "Niraj Pahari",
      "photoUrl": "https://lh3.googleusercontent.com/a-/AOh14GgMhuGXLREiRVNAuekjP4QMHW33ne-Htx4lQfSX1w=s64",
      "userId": "09277333043831904871"
     },
     "user_tz": -420
    },
    "id": "vwRkkQUcejbk",
    "outputId": "28d8859f-3b46-40ae-e1fe-208ab4d3880f"
   },
   "outputs": [
    {
     "data": {
      "text/plain": [
       "array([[0.7961716 , 0.10129545, 0.85625418],\n",
       "       [0.51625719, 0.09457094, 0.09646821],\n",
       "       [0.44999469, 0.75123805, 0.90534224]])"
      ]
     },
     "execution_count": 25,
     "metadata": {},
     "output_type": "execute_result"
    }
   ],
   "source": [
    "# use rand to create 2d array of random samples from a uniform distribution\n",
    "np.random.rand(3,3)"
   ]
  },
  {
   "cell_type": "code",
   "execution_count": 27,
   "metadata": {
    "colab": {
     "base_uri": "https://localhost:8080/"
    },
    "executionInfo": {
     "elapsed": 3974,
     "status": "ok",
     "timestamp": 1611480658051,
     "user": {
      "displayName": "Niraj Pahari",
      "photoUrl": "https://lh3.googleusercontent.com/a-/AOh14GgMhuGXLREiRVNAuekjP4QMHW33ne-Htx4lQfSX1w=s64",
      "userId": "09277333043831904871"
     },
     "user_tz": -420
    },
    "id": "nBHViU1Pel5v",
    "outputId": "97d3b23f-b18d-4472-c425-7c6cab73a010"
   },
   "outputs": [
    {
     "data": {
      "text/plain": [
       "array([ 0.45571969, -1.64521101])"
      ]
     },
     "execution_count": 27,
     "metadata": {},
     "output_type": "execute_result"
    }
   ],
   "source": [
    "# Use randn to create array of 2 samples\n",
    "np.random.randn(2)"
   ]
  },
  {
   "cell_type": "code",
   "execution_count": 28,
   "metadata": {
    "colab": {
     "base_uri": "https://localhost:8080/"
    },
    "executionInfo": {
     "elapsed": 3966,
     "status": "ok",
     "timestamp": 1611480658052,
     "user": {
      "displayName": "Niraj Pahari",
      "photoUrl": "https://lh3.googleusercontent.com/a-/AOh14GgMhuGXLREiRVNAuekjP4QMHW33ne-Htx4lQfSX1w=s64",
      "userId": "09277333043831904871"
     },
     "user_tz": -420
    },
    "id": "YFRomkL5epup",
    "outputId": "51992c56-a2ca-416a-dca8-ef23e4a12524"
   },
   "outputs": [
    {
     "data": {
      "text/plain": [
       "array([[ 0.64209241, -0.29311469, -0.58001555],\n",
       "       [-0.0883936 ,  0.18298035,  1.96664768],\n",
       "       [-1.31051928,  2.31448061, -1.78026588]])"
      ]
     },
     "execution_count": 28,
     "metadata": {},
     "output_type": "execute_result"
    }
   ],
   "source": [
    "# use randn to create 2d array of random samples from a standard normal distribution\n",
    "np.random.randn(3,3)"
   ]
  },
  {
   "cell_type": "code",
   "execution_count": 29,
   "metadata": {
    "colab": {
     "base_uri": "https://localhost:8080/"
    },
    "executionInfo": {
     "elapsed": 3957,
     "status": "ok",
     "timestamp": 1611480658052,
     "user": {
      "displayName": "Niraj Pahari",
      "photoUrl": "https://lh3.googleusercontent.com/a-/AOh14GgMhuGXLREiRVNAuekjP4QMHW33ne-Htx4lQfSX1w=s64",
      "userId": "09277333043831904871"
     },
     "user_tz": -420
    },
    "id": "mU1RZuaPesN8",
    "outputId": "60f0c736-7d3b-4794-965d-50cc47872ff9"
   },
   "outputs": [
    {
     "data": {
      "text/plain": [
       "4"
      ]
     },
     "execution_count": 29,
     "metadata": {},
     "output_type": "execute_result"
    }
   ],
   "source": [
    "# use randint to generate random integer within the range\n",
    "np.random.randint(0,10)"
   ]
  },
  {
   "cell_type": "code",
   "execution_count": 30,
   "metadata": {
    "colab": {
     "base_uri": "https://localhost:8080/"
    },
    "executionInfo": {
     "elapsed": 3950,
     "status": "ok",
     "timestamp": 1611480658053,
     "user": {
      "displayName": "Niraj Pahari",
      "photoUrl": "https://lh3.googleusercontent.com/a-/AOh14GgMhuGXLREiRVNAuekjP4QMHW33ne-Htx4lQfSX1w=s64",
      "userId": "09277333043831904871"
     },
     "user_tz": -420
    },
    "id": "0WWRj0mdexWz",
    "outputId": "b98e0d34-f910-491b-8910-01a6c1085ba4"
   },
   "outputs": [
    {
     "data": {
      "text/plain": [
       "array([54, 25, 12,  5, 44, 42, 77, 68, 15, 80])"
      ]
     },
     "execution_count": 30,
     "metadata": {},
     "output_type": "execute_result"
    }
   ],
   "source": [
    "# use randint to generate 10 random integers within the range 1 - 100\n",
    "np.random.randint(0,100,10)"
   ]
  },
  {
   "cell_type": "markdown",
   "metadata": {
    "id": "5awJk1s3fBE5"
   },
   "source": [
    "### Array Attributes and Methods\n",
    "Now we will discuss few commonly used attributes and methods of an array.\n",
    "Lets create two different arrays first."
   ]
  },
  {
   "cell_type": "code",
   "execution_count": 31,
   "metadata": {
    "executionInfo": {
     "elapsed": 3948,
     "status": "ok",
     "timestamp": 1611480658053,
     "user": {
      "displayName": "Niraj Pahari",
      "photoUrl": "https://lh3.googleusercontent.com/a-/AOh14GgMhuGXLREiRVNAuekjP4QMHW33ne-Htx4lQfSX1w=s64",
      "userId": "09277333043831904871"
     },
     "user_tz": -420
    },
    "id": "L2zfKwxGezrV"
   },
   "outputs": [],
   "source": [
    "my_array = np.arange(25)\n",
    "my_rarray = np.random.randint(0,50,10)"
   ]
  },
  {
   "cell_type": "code",
   "execution_count": 32,
   "metadata": {
    "colab": {
     "base_uri": "https://localhost:8080/"
    },
    "executionInfo": {
     "elapsed": 3940,
     "status": "ok",
     "timestamp": 1611480658054,
     "user": {
      "displayName": "Niraj Pahari",
      "photoUrl": "https://lh3.googleusercontent.com/a-/AOh14GgMhuGXLREiRVNAuekjP4QMHW33ne-Htx4lQfSX1w=s64",
      "userId": "09277333043831904871"
     },
     "user_tz": -420
    },
    "id": "gn_NuXn5g6A-",
    "outputId": "06b6c140-f9f3-4df9-e3fe-5ecd0b1bf9c6",
    "scrolled": true
   },
   "outputs": [
    {
     "data": {
      "text/plain": [
       "array([ 0,  1,  2,  3,  4,  5,  6,  7,  8,  9, 10, 11, 12, 13, 14, 15, 16,\n",
       "       17, 18, 19, 20, 21, 22, 23, 24])"
      ]
     },
     "execution_count": 32,
     "metadata": {},
     "output_type": "execute_result"
    }
   ],
   "source": [
    "my_array"
   ]
  },
  {
   "cell_type": "code",
   "execution_count": 33,
   "metadata": {
    "colab": {
     "base_uri": "https://localhost:8080/"
    },
    "executionInfo": {
     "elapsed": 3931,
     "status": "ok",
     "timestamp": 1611480658054,
     "user": {
      "displayName": "Niraj Pahari",
      "photoUrl": "https://lh3.googleusercontent.com/a-/AOh14GgMhuGXLREiRVNAuekjP4QMHW33ne-Htx4lQfSX1w=s64",
      "userId": "09277333043831904871"
     },
     "user_tz": -420
    },
    "id": "Bt3tzhByg7ZT",
    "outputId": "ad6e932e-1091-4784-e4f5-5c8c16bbd92b"
   },
   "outputs": [
    {
     "data": {
      "text/plain": [
       "array([18,  4, 12,  2,  4, 36, 42, 39, 48, 36])"
      ]
     },
     "execution_count": 33,
     "metadata": {},
     "output_type": "execute_result"
    }
   ],
   "source": [
    "my_rarray"
   ]
  },
  {
   "cell_type": "markdown",
   "metadata": {
    "id": "Bv49lfCfhBx3"
   },
   "source": [
    "### Reshape\n",
    "Returns an array containing the same data with a new shape"
   ]
  },
  {
   "cell_type": "code",
   "execution_count": 39,
   "metadata": {
    "colab": {
     "base_uri": "https://localhost:8080/"
    },
    "executionInfo": {
     "elapsed": 3924,
     "status": "ok",
     "timestamp": 1611480658055,
     "user": {
      "displayName": "Niraj Pahari",
      "photoUrl": "https://lh3.googleusercontent.com/a-/AOh14GgMhuGXLREiRVNAuekjP4QMHW33ne-Htx4lQfSX1w=s64",
      "userId": "09277333043831904871"
     },
     "user_tz": -420
    },
    "id": "uZ36i003g86D",
    "outputId": "188ac598-e6ea-408a-f659-bdaec55d437e"
   },
   "outputs": [
    {
     "data": {
      "text/plain": [
       "array([[ 0,  1,  2,  3,  4],\n",
       "       [ 5,  6,  7,  8,  9],\n",
       "       [10, 11, 12, 13, 14],\n",
       "       [15, 16, 17, 18, 19],\n",
       "       [20, 21, 22, 23, 24]])"
      ]
     },
     "execution_count": 39,
     "metadata": {},
     "output_type": "execute_result"
    }
   ],
   "source": [
    "# Reshape my_array into the shape(5,5)\n",
    "my_array.reshape(5,5)"
   ]
  },
  {
   "cell_type": "markdown",
   "metadata": {
    "id": "QP5bqq6ThSf3"
   },
   "source": [
    "### max, min, argmax, argmin\n",
    "\n",
    "These methods are used for finding maximum and minimum values whereas argmin or argmax will return the index of the max or min values"
   ]
  },
  {
   "cell_type": "code",
   "execution_count": 40,
   "metadata": {
    "colab": {
     "base_uri": "https://localhost:8080/"
    },
    "executionInfo": {
     "elapsed": 3916,
     "status": "ok",
     "timestamp": 1611480658055,
     "user": {
      "displayName": "Niraj Pahari",
      "photoUrl": "https://lh3.googleusercontent.com/a-/AOh14GgMhuGXLREiRVNAuekjP4QMHW33ne-Htx4lQfSX1w=s64",
      "userId": "09277333043831904871"
     },
     "user_tz": -420
    },
    "id": "rltVMC_shMVc",
    "outputId": "b8af04a7-4836-4c34-c79d-b095629bfe97"
   },
   "outputs": [
    {
     "data": {
      "text/plain": [
       "48"
      ]
     },
     "execution_count": 40,
     "metadata": {},
     "output_type": "execute_result"
    }
   ],
   "source": [
    "# Get the maximum value from my_rarray\n",
    "my_rarray.max()"
   ]
  },
  {
   "cell_type": "code",
   "execution_count": 41,
   "metadata": {
    "colab": {
     "base_uri": "https://localhost:8080/"
    },
    "executionInfo": {
     "elapsed": 3909,
     "status": "ok",
     "timestamp": 1611480658055,
     "user": {
      "displayName": "Niraj Pahari",
      "photoUrl": "https://lh3.googleusercontent.com/a-/AOh14GgMhuGXLREiRVNAuekjP4QMHW33ne-Htx4lQfSX1w=s64",
      "userId": "09277333043831904871"
     },
     "user_tz": -420
    },
    "id": "lRfDDdYuhrEW",
    "outputId": "16df5679-fc8b-4348-d545-e792acfb5ea8"
   },
   "outputs": [
    {
     "data": {
      "text/plain": [
       "8"
      ]
     },
     "execution_count": 41,
     "metadata": {},
     "output_type": "execute_result"
    }
   ],
   "source": [
    "# Get the index of maximum value of my_rarray\n",
    "my_rarray.argmax()"
   ]
  },
  {
   "cell_type": "markdown",
   "metadata": {
    "id": "vnTpuMsCh9z5"
   },
   "source": [
    "### Shape\n",
    "\n",
    "Shape is an attribute that arrays have. !!!Becareful with attribute and method. Attributes do not end with parenthesis. "
   ]
  },
  {
   "cell_type": "code",
   "execution_count": 42,
   "metadata": {
    "colab": {
     "base_uri": "https://localhost:8080/"
    },
    "executionInfo": {
     "elapsed": 3902,
     "status": "ok",
     "timestamp": 1611480658056,
     "user": {
      "displayName": "Niraj Pahari",
      "photoUrl": "https://lh3.googleusercontent.com/a-/AOh14GgMhuGXLREiRVNAuekjP4QMHW33ne-Htx4lQfSX1w=s64",
      "userId": "09277333043831904871"
     },
     "user_tz": -420
    },
    "id": "lySSOh_ChuWS",
    "outputId": "a05922f0-30f6-4c9b-e766-5cae2cf584a2"
   },
   "outputs": [
    {
     "data": {
      "text/plain": [
       "(25,)"
      ]
     },
     "execution_count": 42,
     "metadata": {},
     "output_type": "execute_result"
    }
   ],
   "source": [
    "# Get the shape of my_array\n",
    "my_array.shape"
   ]
  },
  {
   "cell_type": "code",
   "execution_count": 43,
   "metadata": {
    "colab": {
     "base_uri": "https://localhost:8080/"
    },
    "executionInfo": {
     "elapsed": 3894,
     "status": "ok",
     "timestamp": 1611480658056,
     "user": {
      "displayName": "Niraj Pahari",
      "photoUrl": "https://lh3.googleusercontent.com/a-/AOh14GgMhuGXLREiRVNAuekjP4QMHW33ne-Htx4lQfSX1w=s64",
      "userId": "09277333043831904871"
     },
     "user_tz": -420
    },
    "id": "RmMoYkKNiM3O",
    "outputId": "239cbdd5-ea9d-4f46-ed66-7ad9243c9917"
   },
   "outputs": [
    {
     "data": {
      "text/plain": [
       "(5, 5)"
      ]
     },
     "execution_count": 43,
     "metadata": {},
     "output_type": "execute_result"
    }
   ],
   "source": [
    "# Reshape my_array and check the shape\n",
    "my_array.reshape(5,5).shape"
   ]
  },
  {
   "cell_type": "markdown",
   "metadata": {
    "id": "MgAqDwGBiYS2"
   },
   "source": [
    "### dtype\n",
    "To display the datatype of the object in the array"
   ]
  },
  {
   "cell_type": "code",
   "execution_count": 44,
   "metadata": {
    "colab": {
     "base_uri": "https://localhost:8080/"
    },
    "executionInfo": {
     "elapsed": 3888,
     "status": "ok",
     "timestamp": 1611480658057,
     "user": {
      "displayName": "Niraj Pahari",
      "photoUrl": "https://lh3.googleusercontent.com/a-/AOh14GgMhuGXLREiRVNAuekjP4QMHW33ne-Htx4lQfSX1w=s64",
      "userId": "09277333043831904871"
     },
     "user_tz": -420
    },
    "id": "-jfJq40biQx8",
    "outputId": "6a627184-a941-4216-b1f2-5d82ece38948"
   },
   "outputs": [
    {
     "data": {
      "text/plain": [
       "dtype('int32')"
      ]
     },
     "execution_count": 44,
     "metadata": {},
     "output_type": "execute_result"
    }
   ],
   "source": [
    "# Check the datatype of object in my_array using dtype attribute\n",
    "my_array.dtype"
   ]
  },
  {
   "cell_type": "code",
   "execution_count": 45,
   "metadata": {
    "colab": {
     "base_uri": "https://localhost:8080/"
    },
    "executionInfo": {
     "elapsed": 3880,
     "status": "ok",
     "timestamp": 1611480658057,
     "user": {
      "displayName": "Niraj Pahari",
      "photoUrl": "https://lh3.googleusercontent.com/a-/AOh14GgMhuGXLREiRVNAuekjP4QMHW33ne-Htx4lQfSX1w=s64",
      "userId": "09277333043831904871"
     },
     "user_tz": -420
    },
    "id": "WFTx4sbDigHS",
    "outputId": "5684b034-02f6-42ee-e9ed-e3ffc7001c1b"
   },
   "outputs": [
    {
     "data": {
      "text/plain": [
       "dtype('float64')"
      ]
     },
     "execution_count": 45,
     "metadata": {},
     "output_type": "execute_result"
    }
   ],
   "source": [
    "# Create array with list [0.4, 0.5] and check the datatype\n",
    "np.array([0.2, 0.5]).dtype"
   ]
  },
  {
   "cell_type": "markdown",
   "metadata": {
    "id": "08MlSbO1Rxc2"
   },
   "source": [
    "### Bracket Indexing and Selection\n",
    "Getting some elements from the array is similar to getting items from the python lists."
   ]
  },
  {
   "cell_type": "code",
   "execution_count": 46,
   "metadata": {
    "colab": {
     "base_uri": "https://localhost:8080/"
    },
    "executionInfo": {
     "elapsed": 3873,
     "status": "ok",
     "timestamp": 1611480658058,
     "user": {
      "displayName": "Niraj Pahari",
      "photoUrl": "https://lh3.googleusercontent.com/a-/AOh14GgMhuGXLREiRVNAuekjP4QMHW33ne-Htx4lQfSX1w=s64",
      "userId": "09277333043831904871"
     },
     "user_tz": -420
    },
    "id": "qLpqpEteijiT",
    "outputId": "16df0dc0-dbdb-4c33-8b02-0c47ca1d5930"
   },
   "outputs": [
    {
     "data": {
      "text/plain": [
       "array([ 0,  1,  2,  3,  4,  5,  6,  7,  8,  9, 10, 11, 12, 13, 14, 15, 16,\n",
       "       17, 18, 19, 20, 21, 22, 23, 24])"
      ]
     },
     "execution_count": 46,
     "metadata": {},
     "output_type": "execute_result"
    }
   ],
   "source": [
    "my_array"
   ]
  },
  {
   "cell_type": "code",
   "execution_count": 48,
   "metadata": {
    "colab": {
     "base_uri": "https://localhost:8080/"
    },
    "executionInfo": {
     "elapsed": 3865,
     "status": "ok",
     "timestamp": 1611480658058,
     "user": {
      "displayName": "Niraj Pahari",
      "photoUrl": "https://lh3.googleusercontent.com/a-/AOh14GgMhuGXLREiRVNAuekjP4QMHW33ne-Htx4lQfSX1w=s64",
      "userId": "09277333043831904871"
     },
     "user_tz": -420
    },
    "id": "Sh2eJ7tnSCZx",
    "outputId": "27586115-e9fd-495d-93d4-bf36d388daa9"
   },
   "outputs": [
    {
     "data": {
      "text/plain": [
       "2"
      ]
     },
     "execution_count": 48,
     "metadata": {},
     "output_type": "execute_result"
    }
   ],
   "source": [
    "my_array[2]"
   ]
  },
  {
   "cell_type": "code",
   "execution_count": 52,
   "metadata": {
    "colab": {
     "base_uri": "https://localhost:8080/"
    },
    "executionInfo": {
     "elapsed": 3858,
     "status": "ok",
     "timestamp": 1611480658059,
     "user": {
      "displayName": "Niraj Pahari",
      "photoUrl": "https://lh3.googleusercontent.com/a-/AOh14GgMhuGXLREiRVNAuekjP4QMHW33ne-Htx4lQfSX1w=s64",
      "userId": "09277333043831904871"
     },
     "user_tz": -420
    },
    "id": "XV53_EhWSH_Y",
    "outputId": "c3d13e24-2fd7-4e71-af46-583714de322f"
   },
   "outputs": [
    {
     "data": {
      "text/plain": [
       "array([1, 2, 3, 4])"
      ]
     },
     "execution_count": 52,
     "metadata": {},
     "output_type": "execute_result"
    }
   ],
   "source": [
    "# Getting the values in range\n",
    "my_array[1:5]"
   ]
  },
  {
   "cell_type": "code",
   "execution_count": 54,
   "metadata": {
    "colab": {
     "base_uri": "https://localhost:8080/"
    },
    "executionInfo": {
     "elapsed": 3850,
     "status": "ok",
     "timestamp": 1611480658059,
     "user": {
      "displayName": "Niraj Pahari",
      "photoUrl": "https://lh3.googleusercontent.com/a-/AOh14GgMhuGXLREiRVNAuekjP4QMHW33ne-Htx4lQfSX1w=s64",
      "userId": "09277333043831904871"
     },
     "user_tz": -420
    },
    "id": "7sHX6x4ghhSB",
    "outputId": "7825db09-45b0-41a1-92c1-89db6def305a"
   },
   "outputs": [
    {
     "data": {
      "text/plain": [
       "array([ 4,  5,  6,  7,  8,  9, 10, 11, 12, 13, 14, 15, 16, 17, 18, 19, 20,\n",
       "       21, 22, 23, 24])"
      ]
     },
     "execution_count": 54,
     "metadata": {},
     "output_type": "execute_result"
    }
   ],
   "source": [
    "# Slice elements from index 4 to the end of the array\n",
    "my_array[4:]"
   ]
  },
  {
   "cell_type": "code",
   "execution_count": 55,
   "metadata": {
    "colab": {
     "base_uri": "https://localhost:8080/"
    },
    "executionInfo": {
     "elapsed": 3844,
     "status": "ok",
     "timestamp": 1611480658060,
     "user": {
      "displayName": "Niraj Pahari",
      "photoUrl": "https://lh3.googleusercontent.com/a-/AOh14GgMhuGXLREiRVNAuekjP4QMHW33ne-Htx4lQfSX1w=s64",
      "userId": "09277333043831904871"
     },
     "user_tz": -420
    },
    "id": "50-Ne90Nhg8Y",
    "outputId": "51c4a6ad-6fa5-4cf9-8e40-4998c3192f79"
   },
   "outputs": [
    {
     "data": {
      "text/plain": [
       "array([0, 1, 2, 3])"
      ]
     },
     "execution_count": 55,
     "metadata": {},
     "output_type": "execute_result"
    }
   ],
   "source": [
    "# Slice elements from the beginning to index 4(not included)\n",
    "my_array[:4]"
   ]
  },
  {
   "cell_type": "markdown",
   "metadata": {
    "id": "mmJdRSyhSbXI"
   },
   "source": [
    "### Broadcasting\n",
    "The term broadcasting describes how numpy treats arrays with different shapes during arithmetic operations.\n",
    "\n",
    "\n"
   ]
  },
  {
   "cell_type": "code",
   "execution_count": 56,
   "metadata": {
    "executionInfo": {
     "elapsed": 3842,
     "status": "ok",
     "timestamp": 1611480658060,
     "user": {
      "displayName": "Niraj Pahari",
      "photoUrl": "https://lh3.googleusercontent.com/a-/AOh14GgMhuGXLREiRVNAuekjP4QMHW33ne-Htx4lQfSX1w=s64",
      "userId": "09277333043831904871"
     },
     "user_tz": -420
    },
    "id": "ZH04DJ6JSPft"
   },
   "outputs": [],
   "source": [
    "a = np.array([[ 0.0,  0.0,  0.0],\n",
    "            [10.0, 10.0, 10.0],\n",
    "            [20.0, 20.0, 20.0],\n",
    "            [30.0, 30.0, 30.0]])"
   ]
  },
  {
   "cell_type": "code",
   "execution_count": 57,
   "metadata": {
    "colab": {
     "base_uri": "https://localhost:8080/"
    },
    "executionInfo": {
     "elapsed": 3835,
     "status": "ok",
     "timestamp": 1611480658061,
     "user": {
      "displayName": "Niraj Pahari",
      "photoUrl": "https://lh3.googleusercontent.com/a-/AOh14GgMhuGXLREiRVNAuekjP4QMHW33ne-Htx4lQfSX1w=s64",
      "userId": "09277333043831904871"
     },
     "user_tz": -420
    },
    "id": "mIhUyhIabOyB",
    "outputId": "081a469c-f089-4bff-8ba9-fc2df9f8476c"
   },
   "outputs": [
    {
     "data": {
      "text/plain": [
       "array([[ 0.,  0.,  0.],\n",
       "       [10., 10., 10.],\n",
       "       [20., 20., 20.],\n",
       "       [30., 30., 30.]])"
      ]
     },
     "execution_count": 57,
     "metadata": {},
     "output_type": "execute_result"
    }
   ],
   "source": [
    "a"
   ]
  },
  {
   "cell_type": "code",
   "execution_count": 58,
   "metadata": {
    "executionInfo": {
     "elapsed": 3833,
     "status": "ok",
     "timestamp": 1611480658061,
     "user": {
      "displayName": "Niraj Pahari",
      "photoUrl": "https://lh3.googleusercontent.com/a-/AOh14GgMhuGXLREiRVNAuekjP4QMHW33ne-Htx4lQfSX1w=s64",
      "userId": "09277333043831904871"
     },
     "user_tz": -420
    },
    "id": "f5z6A4VwbSNw"
   },
   "outputs": [],
   "source": [
    "b = np.array([0.0, 1.0, 2.0])"
   ]
  },
  {
   "cell_type": "code",
   "execution_count": 59,
   "metadata": {},
   "outputs": [
    {
     "data": {
      "text/plain": [
       "array([0., 1., 2.])"
      ]
     },
     "execution_count": 59,
     "metadata": {},
     "output_type": "execute_result"
    }
   ],
   "source": [
    "b"
   ]
  },
  {
   "cell_type": "code",
   "execution_count": 60,
   "metadata": {
    "colab": {
     "base_uri": "https://localhost:8080/"
    },
    "executionInfo": {
     "elapsed": 3826,
     "status": "ok",
     "timestamp": 1611480658062,
     "user": {
      "displayName": "Niraj Pahari",
      "photoUrl": "https://lh3.googleusercontent.com/a-/AOh14GgMhuGXLREiRVNAuekjP4QMHW33ne-Htx4lQfSX1w=s64",
      "userId": "09277333043831904871"
     },
     "user_tz": -420
    },
    "id": "Hv0NbNAKbXfv",
    "outputId": "a2249a54-e928-4bb0-974b-0c10fbceaa1a"
   },
   "outputs": [
    {
     "data": {
      "text/plain": [
       "array([[ 0.,  1.,  2.],\n",
       "       [10., 11., 12.],\n",
       "       [20., 21., 22.],\n",
       "       [30., 31., 32.]])"
      ]
     },
     "execution_count": 60,
     "metadata": {},
     "output_type": "execute_result"
    }
   ],
   "source": [
    "a+b"
   ]
  },
  {
   "cell_type": "markdown",
   "metadata": {
    "id": "hZ9vfYTCblhH"
   },
   "source": [
    "![image.png](data:image/png;base64,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)"
   ]
  },
  {
   "cell_type": "code",
   "execution_count": 61,
   "metadata": {
    "colab": {
     "base_uri": "https://localhost:8080/"
    },
    "executionInfo": {
     "elapsed": 3818,
     "status": "ok",
     "timestamp": 1611480658062,
     "user": {
      "displayName": "Niraj Pahari",
      "photoUrl": "https://lh3.googleusercontent.com/a-/AOh14GgMhuGXLREiRVNAuekjP4QMHW33ne-Htx4lQfSX1w=s64",
      "userId": "09277333043831904871"
     },
     "user_tz": -420
    },
    "id": "ZU6dbC3YbbMe",
    "outputId": "6070dcfb-d37f-416f-fbf7-7cb3922329a9"
   },
   "outputs": [
    {
     "data": {
      "text/plain": [
       "array([ 0,  1,  2,  3,  4,  5,  6,  7,  8,  9, 10, 11, 12, 13, 14, 15, 16,\n",
       "       17, 18, 19, 20, 21, 22, 23, 24])"
      ]
     },
     "execution_count": 61,
     "metadata": {},
     "output_type": "execute_result"
    }
   ],
   "source": [
    "my_array"
   ]
  },
  {
   "cell_type": "code",
   "execution_count": 65,
   "metadata": {
    "colab": {
     "base_uri": "https://localhost:8080/"
    },
    "executionInfo": {
     "elapsed": 3810,
     "status": "ok",
     "timestamp": 1611480658063,
     "user": {
      "displayName": "Niraj Pahari",
      "photoUrl": "https://lh3.googleusercontent.com/a-/AOh14GgMhuGXLREiRVNAuekjP4QMHW33ne-Htx4lQfSX1w=s64",
      "userId": "09277333043831904871"
     },
     "user_tz": -420
    },
    "id": "_43NtnyychOA",
    "outputId": "49207153-0daf-453d-b063-831afd7f54b6"
   },
   "outputs": [
    {
     "data": {
      "text/plain": [
       "array([100, 100, 100, 100, 100,   5,   6,   7,   8,   9,  10,  11,  12,\n",
       "        13,  14,  15,  16,  17,  18,  19,  20,  21,  22,  23,  24])"
      ]
     },
     "execution_count": 65,
     "metadata": {},
     "output_type": "execute_result"
    }
   ],
   "source": [
    "# assign 100 to first 5 elements of the array\n",
    "my_array[0:5] = 100\n",
    "my_array"
   ]
  },
  {
   "cell_type": "code",
   "execution_count": 68,
   "metadata": {
    "executionInfo": {
     "elapsed": 3807,
     "status": "ok",
     "timestamp": 1611480658063,
     "user": {
      "displayName": "Niraj Pahari",
      "photoUrl": "https://lh3.googleusercontent.com/a-/AOh14GgMhuGXLREiRVNAuekjP4QMHW33ne-Htx4lQfSX1w=s64",
      "userId": "09277333043831904871"
     },
     "user_tz": -420
    },
    "id": "tagH3ogKcz3m"
   },
   "outputs": [],
   "source": [
    "# save a slice of an array in another variable\n",
    "slice_array = my_array[3:7]"
   ]
  },
  {
   "cell_type": "code",
   "execution_count": 69,
   "metadata": {
    "colab": {
     "base_uri": "https://localhost:8080/"
    },
    "executionInfo": {
     "elapsed": 3800,
     "status": "ok",
     "timestamp": 1611480658064,
     "user": {
      "displayName": "Niraj Pahari",
      "photoUrl": "https://lh3.googleusercontent.com/a-/AOh14GgMhuGXLREiRVNAuekjP4QMHW33ne-Htx4lQfSX1w=s64",
      "userId": "09277333043831904871"
     },
     "user_tz": -420
    },
    "id": "RasPPa6cdTyi",
    "outputId": "81d599c8-53fb-4cc7-9eea-f6c9a7290f9f"
   },
   "outputs": [
    {
     "data": {
      "text/plain": [
       "array([100, 100,   5,   6])"
      ]
     },
     "execution_count": 69,
     "metadata": {},
     "output_type": "execute_result"
    }
   ],
   "source": [
    "# Display the slice\n",
    "slice_array"
   ]
  },
  {
   "cell_type": "markdown",
   "metadata": {
    "id": "wFinjB26dcnl"
   },
   "source": [
    "Now lets try to make some change in slice of the array"
   ]
  },
  {
   "cell_type": "code",
   "execution_count": 73,
   "metadata": {
    "executionInfo": {
     "elapsed": 3798,
     "status": "ok",
     "timestamp": 1611480658064,
     "user": {
      "displayName": "Niraj Pahari",
      "photoUrl": "https://lh3.googleusercontent.com/a-/AOh14GgMhuGXLREiRVNAuekjP4QMHW33ne-Htx4lQfSX1w=s64",
      "userId": "09277333043831904871"
     },
     "user_tz": -420
    },
    "id": "iK7kv9x5dWIO"
   },
   "outputs": [],
   "source": [
    "# Assign 500 to one of the element in the slice of the array\n",
    "slice_array[1] = 500"
   ]
  },
  {
   "cell_type": "code",
   "execution_count": 74,
   "metadata": {
    "colab": {
     "base_uri": "https://localhost:8080/"
    },
    "executionInfo": {
     "elapsed": 3790,
     "status": "ok",
     "timestamp": 1611480658065,
     "user": {
      "displayName": "Niraj Pahari",
      "photoUrl": "https://lh3.googleusercontent.com/a-/AOh14GgMhuGXLREiRVNAuekjP4QMHW33ne-Htx4lQfSX1w=s64",
      "userId": "09277333043831904871"
     },
     "user_tz": -420
    },
    "id": "uPLN9DwgdnAU",
    "outputId": "28aee38f-f589-4303-b6e5-ac4ebae0691c"
   },
   "outputs": [
    {
     "data": {
      "text/plain": [
       "array([100, 500,   5,   6])"
      ]
     },
     "execution_count": 74,
     "metadata": {},
     "output_type": "execute_result"
    }
   ],
   "source": [
    "# Display the slice of the array\n",
    "slice_array"
   ]
  },
  {
   "cell_type": "markdown",
   "metadata": {
    "id": "oUudcH4Hdpvw"
   },
   "source": [
    "Now lets check the original array as well"
   ]
  },
  {
   "cell_type": "code",
   "execution_count": 72,
   "metadata": {
    "colab": {
     "base_uri": "https://localhost:8080/"
    },
    "executionInfo": {
     "elapsed": 3783,
     "status": "ok",
     "timestamp": 1611480658065,
     "user": {
      "displayName": "Niraj Pahari",
      "photoUrl": "https://lh3.googleusercontent.com/a-/AOh14GgMhuGXLREiRVNAuekjP4QMHW33ne-Htx4lQfSX1w=s64",
      "userId": "09277333043831904871"
     },
     "user_tz": -420
    },
    "id": "YtoqZttjdoIT",
    "outputId": "af176622-2657-438f-9b5c-7918495f1964"
   },
   "outputs": [
    {
     "data": {
      "text/plain": [
       "array([100, 100, 100, 100, 500,   5,   6,   7,   8,   9,  10,  11,  12,\n",
       "        13,  14,  15,  16,  17,  18,  19,  20,  21,  22,  23,  24])"
      ]
     },
     "execution_count": 72,
     "metadata": {},
     "output_type": "execute_result"
    }
   ],
   "source": [
    "# Dispaly the original array\n",
    "my_array"
   ]
  },
  {
   "cell_type": "markdown",
   "metadata": {
    "id": "uEFh5mFQdwPE"
   },
   "source": [
    "While making slices it doesnot copy the data and make a new array but it just creates a view of the original array. This avoids memory problems\n",
    "\n",
    "If we want to make a copy of the data than we have to mention it explicitly using copy()"
   ]
  },
  {
   "cell_type": "code",
   "execution_count": 81,
   "metadata": {
    "executionInfo": {
     "elapsed": 3782,
     "status": "ok",
     "timestamp": 1611480658066,
     "user": {
      "displayName": "Niraj Pahari",
      "photoUrl": "https://lh3.googleusercontent.com/a-/AOh14GgMhuGXLREiRVNAuekjP4QMHW33ne-Htx4lQfSX1w=s64",
      "userId": "09277333043831904871"
     },
     "user_tz": -420
    },
    "id": "JriZaVmtdt5h"
   },
   "outputs": [],
   "source": [
    "# save a slice of an array in another variable but with copy() method\n",
    "slice_array = my_array[3:7].copy()"
   ]
  },
  {
   "cell_type": "code",
   "execution_count": 82,
   "metadata": {
    "colab": {
     "base_uri": "https://localhost:8080/"
    },
    "executionInfo": {
     "elapsed": 3775,
     "status": "ok",
     "timestamp": 1611480658066,
     "user": {
      "displayName": "Niraj Pahari",
      "photoUrl": "https://lh3.googleusercontent.com/a-/AOh14GgMhuGXLREiRVNAuekjP4QMHW33ne-Htx4lQfSX1w=s64",
      "userId": "09277333043831904871"
     },
     "user_tz": -420
    },
    "id": "cXLEHSPweJED",
    "outputId": "aa08a100-a019-4df6-dafe-cdd3aea6810d"
   },
   "outputs": [
    {
     "data": {
      "text/plain": [
       "array([100, 500,   5,   6])"
      ]
     },
     "execution_count": 82,
     "metadata": {},
     "output_type": "execute_result"
    }
   ],
   "source": [
    "# Display the slice of the array\n",
    "slice_array"
   ]
  },
  {
   "cell_type": "code",
   "execution_count": 83,
   "metadata": {
    "colab": {
     "base_uri": "https://localhost:8080/"
    },
    "executionInfo": {
     "elapsed": 3768,
     "status": "ok",
     "timestamp": 1611480658067,
     "user": {
      "displayName": "Niraj Pahari",
      "photoUrl": "https://lh3.googleusercontent.com/a-/AOh14GgMhuGXLREiRVNAuekjP4QMHW33ne-Htx4lQfSX1w=s64",
      "userId": "09277333043831904871"
     },
     "user_tz": -420
    },
    "id": "IMYN2gwAeOgU",
    "outputId": "d679c730-4585-4a46-d8f7-60395117301b"
   },
   "outputs": [
    {
     "data": {
      "text/plain": [
       "array([100,   4,   5,   6])"
      ]
     },
     "execution_count": 83,
     "metadata": {},
     "output_type": "execute_result"
    }
   ],
   "source": [
    "# Assign 5 to one of the element in the slice of the array and display the slice\n",
    "slice_array[1] = 4\n",
    "slice_array"
   ]
  },
  {
   "cell_type": "markdown",
   "metadata": {
    "id": "96XoSZnzebFI"
   },
   "source": [
    "Now lets try to check the original array again"
   ]
  },
  {
   "cell_type": "code",
   "execution_count": 84,
   "metadata": {
    "colab": {
     "base_uri": "https://localhost:8080/"
    },
    "executionInfo": {
     "elapsed": 3761,
     "status": "ok",
     "timestamp": 1611480658067,
     "user": {
      "displayName": "Niraj Pahari",
      "photoUrl": "https://lh3.googleusercontent.com/a-/AOh14GgMhuGXLREiRVNAuekjP4QMHW33ne-Htx4lQfSX1w=s64",
      "userId": "09277333043831904871"
     },
     "user_tz": -420
    },
    "id": "vqkBd4s9eTDu",
    "outputId": "35438035-82a1-4b51-86e1-3fff4f5a7fce"
   },
   "outputs": [
    {
     "data": {
      "text/plain": [
       "array([100, 100, 100, 100, 500,   5,   6,   7,   8,   9,  10,  11,  12,\n",
       "        13,  14,  15,  16,  17,  18,  19,  20,  21,  22,  23,  24])"
      ]
     },
     "execution_count": 84,
     "metadata": {},
     "output_type": "execute_result"
    }
   ],
   "source": [
    "# Display the original array\n",
    "my_array"
   ]
  },
  {
   "cell_type": "markdown",
   "metadata": {
    "id": "rG-sgVULe6OP"
   },
   "source": [
    "### Indexing a 2D array(matrices)\n",
    "\n",
    "The general format is arr[row][col] or arr[row,col]"
   ]
  },
  {
   "cell_type": "code",
   "execution_count": 85,
   "metadata": {
    "colab": {
     "base_uri": "https://localhost:8080/"
    },
    "executionInfo": {
     "elapsed": 3755,
     "status": "ok",
     "timestamp": 1611480658068,
     "user": {
      "displayName": "Niraj Pahari",
      "photoUrl": "https://lh3.googleusercontent.com/a-/AOh14GgMhuGXLREiRVNAuekjP4QMHW33ne-Htx4lQfSX1w=s64",
      "userId": "09277333043831904871"
     },
     "user_tz": -420
    },
    "id": "QuI_CV2je1Lw",
    "outputId": "c59ea986-0f69-417d-810e-4cb69dfdd3ee"
   },
   "outputs": [
    {
     "data": {
      "text/plain": [
       "array([[ 0.,  0.,  0.],\n",
       "       [10., 10., 10.],\n",
       "       [20., 20., 20.],\n",
       "       [30., 30., 30.]])"
      ]
     },
     "execution_count": 85,
     "metadata": {},
     "output_type": "execute_result"
    }
   ],
   "source": [
    "a"
   ]
  },
  {
   "cell_type": "code",
   "execution_count": 86,
   "metadata": {
    "colab": {
     "base_uri": "https://localhost:8080/"
    },
    "executionInfo": {
     "elapsed": 3747,
     "status": "ok",
     "timestamp": 1611480658068,
     "user": {
      "displayName": "Niraj Pahari",
      "photoUrl": "https://lh3.googleusercontent.com/a-/AOh14GgMhuGXLREiRVNAuekjP4QMHW33ne-Htx4lQfSX1w=s64",
      "userId": "09277333043831904871"
     },
     "user_tz": -420
    },
    "id": "SYXbAx5efH0V",
    "outputId": "0f814b63-8b24-4184-9340-7e8a0012ed0b"
   },
   "outputs": [
    {
     "data": {
      "text/plain": [
       "array([10., 10., 10.])"
      ]
     },
     "execution_count": 86,
     "metadata": {},
     "output_type": "execute_result"
    }
   ],
   "source": [
    "# Use index to display the second row\n",
    "a[1]"
   ]
  },
  {
   "cell_type": "code",
   "execution_count": 87,
   "metadata": {
    "colab": {
     "base_uri": "https://localhost:8080/"
    },
    "executionInfo": {
     "elapsed": 3740,
     "status": "ok",
     "timestamp": 1611480658069,
     "user": {
      "displayName": "Niraj Pahari",
      "photoUrl": "https://lh3.googleusercontent.com/a-/AOh14GgMhuGXLREiRVNAuekjP4QMHW33ne-Htx4lQfSX1w=s64",
      "userId": "09277333043831904871"
     },
     "user_tz": -420
    },
    "id": "-v3tLTEZfKM4",
    "outputId": "0ec562f4-7bfa-4420-b87e-b0d30eb034a3"
   },
   "outputs": [
    {
     "data": {
      "text/plain": [
       "10.0"
      ]
     },
     "execution_count": 87,
     "metadata": {},
     "output_type": "execute_result"
    }
   ],
   "source": [
    "# Display the item at second row first column\n",
    "a[1,0]"
   ]
  },
  {
   "cell_type": "code",
   "execution_count": 88,
   "metadata": {
    "colab": {
     "base_uri": "https://localhost:8080/"
    },
    "executionInfo": {
     "elapsed": 3732,
     "status": "ok",
     "timestamp": 1611480658069,
     "user": {
      "displayName": "Niraj Pahari",
      "photoUrl": "https://lh3.googleusercontent.com/a-/AOh14GgMhuGXLREiRVNAuekjP4QMHW33ne-Htx4lQfSX1w=s64",
      "userId": "09277333043831904871"
     },
     "user_tz": -420
    },
    "id": "HEwZeRP1fMLd",
    "outputId": "39a3ee30-b7a9-4dd8-dcd4-a27e675d1836"
   },
   "outputs": [
    {
     "data": {
      "text/plain": [
       "10.0"
      ]
     },
     "execution_count": 88,
     "metadata": {},
     "output_type": "execute_result"
    }
   ],
   "source": [
    "a[1][0]"
   ]
  },
  {
   "cell_type": "markdown",
   "metadata": {
    "id": "JFKwMFJxfv6v"
   },
   "source": [
    "2D array slicing"
   ]
  },
  {
   "cell_type": "code",
   "execution_count": null,
   "metadata": {
    "executionInfo": {
     "elapsed": 3730,
     "status": "ok",
     "timestamp": 1611480658070,
     "user": {
      "displayName": "Niraj Pahari",
      "photoUrl": "https://lh3.googleusercontent.com/a-/AOh14GgMhuGXLREiRVNAuekjP4QMHW33ne-Htx4lQfSX1w=s64",
      "userId": "09277333043831904871"
     },
     "user_tz": -420
    },
    "id": "0r5c1S-4fPUA"
   },
   "outputs": [],
   "source": [
    "# Create a 2 d array"
   ]
  },
  {
   "cell_type": "code",
   "execution_count": 93,
   "metadata": {
    "colab": {
     "base_uri": "https://localhost:8080/"
    },
    "executionInfo": {
     "elapsed": 3723,
     "status": "ok",
     "timestamp": 1611480658070,
     "user": {
      "displayName": "Niraj Pahari",
      "photoUrl": "https://lh3.googleusercontent.com/a-/AOh14GgMhuGXLREiRVNAuekjP4QMHW33ne-Htx4lQfSX1w=s64",
      "userId": "09277333043831904871"
     },
     "user_tz": -420
    },
    "id": "G6jxsUSrgape",
    "outputId": "b8126177-63d5-41ce-eb6c-c9a615f9e274"
   },
   "outputs": [
    {
     "data": {
      "text/plain": [
       "array([[1, 2, 3],\n",
       "       [4, 5, 6]])"
      ]
     },
     "execution_count": 93,
     "metadata": {},
     "output_type": "execute_result"
    }
   ],
   "source": [
    "arr2 = np.array([[1,2,3],[4,5,6]])\n",
    "arr2"
   ]
  },
  {
   "cell_type": "code",
   "execution_count": 94,
   "metadata": {
    "colab": {
     "base_uri": "https://localhost:8080/"
    },
    "executionInfo": {
     "elapsed": 3715,
     "status": "ok",
     "timestamp": 1611480658070,
     "user": {
      "displayName": "Niraj Pahari",
      "photoUrl": "https://lh3.googleusercontent.com/a-/AOh14GgMhuGXLREiRVNAuekjP4QMHW33ne-Htx4lQfSX1w=s64",
      "userId": "09277333043831904871"
     },
     "user_tz": -420
    },
    "id": "4r8s0dfTggBs",
    "outputId": "9a24ee61-f8a5-4ab0-86f2-d4e05819df89"
   },
   "outputs": [
    {
     "data": {
      "text/plain": [
       "array([[2, 3],\n",
       "       [5, 6]])"
      ]
     },
     "execution_count": 94,
     "metadata": {},
     "output_type": "execute_result"
    }
   ],
   "source": [
    "# Slice on 2d array\n",
    "arr2[:2,1:]"
   ]
  },
  {
   "cell_type": "code",
   "execution_count": 96,
   "metadata": {
    "colab": {
     "base_uri": "https://localhost:8080/"
    },
    "executionInfo": {
     "elapsed": 3707,
     "status": "ok",
     "timestamp": 1611480658071,
     "user": {
      "displayName": "Niraj Pahari",
      "photoUrl": "https://lh3.googleusercontent.com/a-/AOh14GgMhuGXLREiRVNAuekjP4QMHW33ne-Htx4lQfSX1w=s64",
      "userId": "09277333043831904871"
     },
     "user_tz": -420
    },
    "id": "iF5-53flgj0u",
    "outputId": "3c565641-8f24-472d-a00e-e75d1145c40f"
   },
   "outputs": [
    {
     "data": {
      "text/plain": [
       "array([5, 6])"
      ]
     },
     "execution_count": 96,
     "metadata": {},
     "output_type": "execute_result"
    }
   ],
   "source": [
    "arr2[1,1:3]"
   ]
  },
  {
   "cell_type": "code",
   "execution_count": null,
   "metadata": {
    "colab": {
     "base_uri": "https://localhost:8080/"
    },
    "executionInfo": {
     "elapsed": 3698,
     "status": "ok",
     "timestamp": 1611480658071,
     "user": {
      "displayName": "Niraj Pahari",
      "photoUrl": "https://lh3.googleusercontent.com/a-/AOh14GgMhuGXLREiRVNAuekjP4QMHW33ne-Htx4lQfSX1w=s64",
      "userId": "09277333043831904871"
     },
     "user_tz": -420
    },
    "id": "oEB1ZLctmpKD",
    "outputId": "c260770b-2f27-487e-d254-ba87ef294966"
   },
   "outputs": [],
   "source": []
  },
  {
   "cell_type": "markdown",
   "metadata": {
    "id": "ZOr2M96wnuAR"
   },
   "source": [
    "Selection based on the comparision operators"
   ]
  },
  {
   "cell_type": "code",
   "execution_count": 97,
   "metadata": {
    "executionInfo": {
     "elapsed": 3697,
     "status": "ok",
     "timestamp": 1611480658072,
     "user": {
      "displayName": "Niraj Pahari",
      "photoUrl": "https://lh3.googleusercontent.com/a-/AOh14GgMhuGXLREiRVNAuekjP4QMHW33ne-Htx4lQfSX1w=s64",
      "userId": "09277333043831904871"
     },
     "user_tz": -420
    },
    "id": "BbBGtso5m2OH"
   },
   "outputs": [],
   "source": [
    "# Create an array\n",
    "arr = np.arange(1,6)"
   ]
  },
  {
   "cell_type": "code",
   "execution_count": 98,
   "metadata": {
    "colab": {
     "base_uri": "https://localhost:8080/"
    },
    "executionInfo": {
     "elapsed": 3689,
     "status": "ok",
     "timestamp": 1611480658072,
     "user": {
      "displayName": "Niraj Pahari",
      "photoUrl": "https://lh3.googleusercontent.com/a-/AOh14GgMhuGXLREiRVNAuekjP4QMHW33ne-Htx4lQfSX1w=s64",
      "userId": "09277333043831904871"
     },
     "user_tz": -420
    },
    "id": "CfcbPSKDoCrs",
    "outputId": "bca11862-9c53-4e52-84bc-cddd6431efd9"
   },
   "outputs": [
    {
     "data": {
      "text/plain": [
       "array([1, 2, 3, 4, 5])"
      ]
     },
     "execution_count": 98,
     "metadata": {},
     "output_type": "execute_result"
    }
   ],
   "source": [
    "arr"
   ]
  },
  {
   "cell_type": "code",
   "execution_count": 99,
   "metadata": {
    "colab": {
     "base_uri": "https://localhost:8080/"
    },
    "executionInfo": {
     "elapsed": 3681,
     "status": "ok",
     "timestamp": 1611480658073,
     "user": {
      "displayName": "Niraj Pahari",
      "photoUrl": "https://lh3.googleusercontent.com/a-/AOh14GgMhuGXLREiRVNAuekjP4QMHW33ne-Htx4lQfSX1w=s64",
      "userId": "09277333043831904871"
     },
     "user_tz": -420
    },
    "id": "wKJSKbK1oDN2",
    "outputId": "7f16b7a8-4cb7-4681-8dfb-12785a8594fd"
   },
   "outputs": [
    {
     "data": {
      "text/plain": [
       "array([False, False, False, False,  True])"
      ]
     },
     "execution_count": 99,
     "metadata": {},
     "output_type": "execute_result"
    }
   ],
   "source": [
    "# Get the boolean array where element of previous array is greater than 4\n",
    "arr>4"
   ]
  },
  {
   "cell_type": "code",
   "execution_count": 101,
   "metadata": {
    "executionInfo": {
     "elapsed": 3679,
     "status": "ok",
     "timestamp": 1611480658073,
     "user": {
      "displayName": "Niraj Pahari",
      "photoUrl": "https://lh3.googleusercontent.com/a-/AOh14GgMhuGXLREiRVNAuekjP4QMHW33ne-Htx4lQfSX1w=s64",
      "userId": "09277333043831904871"
     },
     "user_tz": -420
    },
    "id": "4GiYsmr2oGMz"
   },
   "outputs": [
    {
     "data": {
      "text/plain": [
       "array([False, False, False,  True,  True])"
      ]
     },
     "execution_count": 101,
     "metadata": {},
     "output_type": "execute_result"
    }
   ],
   "source": [
    "arr>=4"
   ]
  },
  {
   "cell_type": "code",
   "execution_count": 102,
   "metadata": {
    "colab": {
     "base_uri": "https://localhost:8080/"
    },
    "executionInfo": {
     "elapsed": 3672,
     "status": "ok",
     "timestamp": 1611480658074,
     "user": {
      "displayName": "Niraj Pahari",
      "photoUrl": "https://lh3.googleusercontent.com/a-/AOh14GgMhuGXLREiRVNAuekjP4QMHW33ne-Htx4lQfSX1w=s64",
      "userId": "09277333043831904871"
     },
     "user_tz": -420
    },
    "id": "APve05-sogkB",
    "outputId": "850c6881-908b-4d9e-a076-005995d767e2"
   },
   "outputs": [],
   "source": [
    "new_arr = arr>=4"
   ]
  },
  {
   "cell_type": "code",
   "execution_count": 103,
   "metadata": {
    "colab": {
     "base_uri": "https://localhost:8080/"
    },
    "executionInfo": {
     "elapsed": 3664,
     "status": "ok",
     "timestamp": 1611480658074,
     "user": {
      "displayName": "Niraj Pahari",
      "photoUrl": "https://lh3.googleusercontent.com/a-/AOh14GgMhuGXLREiRVNAuekjP4QMHW33ne-Htx4lQfSX1w=s64",
      "userId": "09277333043831904871"
     },
     "user_tz": -420
    },
    "id": "AKxYsnwbohk1",
    "outputId": "c8237fa2-6b42-4808-9b46-e0080c7ef3b1"
   },
   "outputs": [
    {
     "name": "stdout",
     "output_type": "stream",
     "text": [
      "[False False False  True  True]\n"
     ]
    }
   ],
   "source": [
    "# Pass the boolean array to the main array \n",
    "print(new_arr)"
   ]
  },
  {
   "cell_type": "code",
   "execution_count": 107,
   "metadata": {},
   "outputs": [
    {
     "data": {
      "text/plain": [
       "array([1, 4, 5])"
      ]
     },
     "execution_count": 107,
     "metadata": {},
     "output_type": "execute_result"
    }
   ],
   "source": [
    "arr[np.array([True,False,False,True,True])]"
   ]
  },
  {
   "cell_type": "markdown",
   "metadata": {
    "id": "ylzguIC-p5WE"
   },
   "source": [
    "References:\n",
    "https://github.com/danielmercy/Python_for_Data_Science_and_Machine_Learning-Bootcamp"
   ]
  }
 ],
 "metadata": {
  "colab": {
   "authorship_tag": "ABX9TyNIJYPvrDjaKt6XIUvQpQ9z",
   "name": "RoboticsLab3_NumPy.ipynb",
   "provenance": []
  },
  "kernelspec": {
   "display_name": "Python 3 (ipykernel)",
   "language": "python",
   "name": "python3"
  },
  "language_info": {
   "codemirror_mode": {
    "name": "ipython",
    "version": 3
   },
   "file_extension": ".py",
   "mimetype": "text/x-python",
   "name": "python",
   "nbconvert_exporter": "python",
   "pygments_lexer": "ipython3",
   "version": "3.9.7"
  }
 },
 "nbformat": 4,
 "nbformat_minor": 1
}
