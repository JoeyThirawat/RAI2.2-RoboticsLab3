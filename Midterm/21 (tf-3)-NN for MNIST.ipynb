{
 "cells": [
  {
   "cell_type": "code",
   "execution_count": 1,
   "id": "cb4bef44",
   "metadata": {},
   "outputs": [
    {
     "ename": "ModuleNotFoundError",
     "evalue": "No module named 'tensorflow'",
     "output_type": "error",
     "traceback": [
      "\u001b[1;31m---------------------------------------------------------------------------\u001b[0m",
      "\u001b[1;31mModuleNotFoundError\u001b[0m                       Traceback (most recent call last)",
      "\u001b[1;32m~\\AppData\\Local\\Temp/ipykernel_9988/1830437302.py\u001b[0m in \u001b[0;36m<module>\u001b[1;34m\u001b[0m\n\u001b[0;32m      3\u001b[0m \u001b[1;32mfrom\u001b[0m \u001b[0m__future__\u001b[0m \u001b[1;32mimport\u001b[0m \u001b[0mabsolute_import\u001b[0m\u001b[1;33m,\u001b[0m \u001b[0mdivision\u001b[0m\u001b[1;33m,\u001b[0m \u001b[0mprint_function\u001b[0m\u001b[1;33m\u001b[0m\u001b[1;33m\u001b[0m\u001b[0m\n\u001b[0;32m      4\u001b[0m \u001b[1;33m\u001b[0m\u001b[0m\n\u001b[1;32m----> 5\u001b[1;33m \u001b[1;32mimport\u001b[0m \u001b[0mtensorflow\u001b[0m \u001b[1;32mas\u001b[0m \u001b[0mtf\u001b[0m\u001b[1;33m\u001b[0m\u001b[1;33m\u001b[0m\u001b[0m\n\u001b[0m\u001b[0;32m      6\u001b[0m \u001b[1;32mimport\u001b[0m \u001b[0mnumpy\u001b[0m \u001b[1;32mas\u001b[0m \u001b[0mnp\u001b[0m\u001b[1;33m\u001b[0m\u001b[1;33m\u001b[0m\u001b[0m\n\u001b[0;32m      7\u001b[0m \u001b[1;33m\u001b[0m\u001b[0m\n",
      "\u001b[1;31mModuleNotFoundError\u001b[0m: No module named 'tensorflow'"
     ]
    }
   ],
   "source": [
    "# set up\n",
    "\n",
    "from __future__ import absolute_import, division, print_function\n",
    "\n",
    "import tensorflow as tf\n",
    "import numpy as np\n",
    "\n",
    "from tensorflow.keras import Model, layers\n",
    "from tensorflow.keras.datasets import mnist\n",
    "from IPython.display import Image\n",
    "PATH = \"/Users/Song/Desktop/Tensorflow codes/Pictures/\""
   ]
  },
  {
   "cell_type": "code",
   "execution_count": null,
   "id": "79096558",
   "metadata": {},
   "outputs": [],
   "source": [
    "# minist dataset\n",
    "\n",
    "Image(filename = PATH + \"33.jpg\")\n",
    "\n",
    "# http://yann.lecun.com/exdb/mnist\n",
    "\n",
    "# train-images-idx3-ubyte.gz: training images (9912422 bytes)\n",
    "# train-lables-idx1-ubyte.gz: training labels (28881 bytes)\n",
    "# t10k-images-idx3-ubyte.gz: test images (1648877 byte)\n",
    "# t10k-labels-idxl-ubytes.gz: test labels (4542 bytes)  "
   ]
  },
  {
   "cell_type": "code",
   "execution_count": null,
   "id": "b6274fea",
   "metadata": {},
   "outputs": [],
   "source": [
    "Image(filename = PATH + \"34.jpg\")\n",
    "\n",
    "# 28 x 28 = 784 image\n",
    "# 0 ~ 9 digit recognition (10 classes)"
   ]
  },
  {
   "cell_type": "code",
   "execution_count": null,
   "id": "a10154d2",
   "metadata": {},
   "outputs": [],
   "source": [
    "# options for the proposed NN\n",
    "\n",
    "Image(filename = PATH + \"38.jpg\")"
   ]
  },
  {
   "cell_type": "code",
   "execution_count": null,
   "id": "3a92459c",
   "metadata": {},
   "outputs": [],
   "source": [
    "# architecture for the proposed NN\n",
    "\n",
    "Image(filename = PATH + \"40.jpg\")"
   ]
  },
  {
   "cell_type": "code",
   "execution_count": null,
   "id": "a63e358f",
   "metadata": {},
   "outputs": [],
   "source": [
    "# prepare dataset\n",
    "\n",
    "# MNIST dataset parameters\n",
    "\n",
    "num_classes = 10 # total classes (0-9 digits)\n",
    "num_features = 784 # data features (img shape: 28 X 28 = 784)\n",
    "\n",
    "# import and load MNIST data, split between and test datasets\n",
    "\n",
    "(x_train, y_train), (x_test, y_test) = mnist.load_data()\n",
    "\n",
    "# convert pixel values to float32\n",
    "\n",
    "x_train, x_test = np.array(x_train, np.float32), np.array(x_test, np.float32)\n",
    "\n",
    "# normalize image pixcel values from [0, 255] to [0, 1]\n",
    "\n",
    "x_train, x_test = x_train / 255., x_test / 255.\n",
    "\n",
    "# check the shape of MNIST data\n",
    "\n",
    "print('MNIST Dataset Shapes:')\n",
    "print('x_train: ' + str(x_train.shape))\n",
    "print('y_train: ' + str(y_train.shape))\n",
    "print('x_test: ' + str(x_test.shape))\n",
    "print('y_test: ' + str(y_test.shape))"
   ]
  },
  {
   "cell_type": "code",
   "execution_count": null,
   "id": "c1787753",
   "metadata": {},
   "outputs": [],
   "source": [
    "# training parameters\n",
    "\n",
    "learning_rate = 0.1\n",
    "training_epochs = 2000\n",
    "batch_size = 256\n",
    "display_step = 100"
   ]
  },
  {
   "cell_type": "code",
   "execution_count": null,
   "id": "c153c951",
   "metadata": {},
   "outputs": [],
   "source": [
    "# network parameters\n",
    "\n",
    "n_hidden_1 = 128 # 1st hidden layer number of neurons\n",
    "n_hidden_2 = 256 # 2nd hidden layer number of neurons\n",
    "n_hidden_3 = 512 # 3nd hidden layer number of neurons\n",
    "n_hidden_4 = 1024 # 2nd hidden layer number of neurons"
   ]
  },
  {
   "cell_type": "code",
   "execution_count": null,
   "id": "822e92a5",
   "metadata": {},
   "outputs": [],
   "source": [
    "# flatten image pixels to 1-D vector of 784 features (28 x 28)\n",
    "\n",
    "x_train, x_test = x_train.reshape([-1, num_features]), x_test.reshape([-1, num_features])"
   ]
  },
  {
   "cell_type": "code",
   "execution_count": null,
   "id": "e76c471f",
   "metadata": {},
   "outputs": [],
   "source": [
    "# use tf.data API to shuffle and batch data\n",
    "\n",
    "train_data = tf.data.Dataset.from_tensor_slices((x_train, y_train))\n",
    "train_data = train_data.repeat().shuffle(5000).batch(batch_size).prefetch(1)"
   ]
  },
  {
   "cell_type": "code",
   "execution_count": null,
   "id": "66fd1a5d",
   "metadata": {},
   "outputs": [],
   "source": [
    "# create MNIST architecture\n",
    "\n",
    "class NeuralNet(Model):\n",
    "    \n",
    "    # set layers\n",
    "    \n",
    "    def __init__(self):\n",
    "        \n",
    "        super(NeuralNet, self).__init__()\n",
    "        \n",
    "        # first fully-connected hidden layer\n",
    "        self.fc1 = layers.Dense(units = n_hidden_1, activation=tf.nn.relu)\n",
    "        \n",
    "        # second-connected hidden layer\n",
    "        self.fc2 = layers.Dense(units = n_hidden_2, activation=tf.nn.relu)\n",
    "        \n",
    "        # first fully-connected hidden layer\n",
    "        self.fc3 = layers.Dense(units = n_hidden_3, activation=tf.nn.relu)\n",
    "        \n",
    "        # second-connected hidden layer\n",
    "        self.fc4 = layers.Dense(units = n_hidden_4, activation=tf.nn.relu)\n",
    "        \n",
    "        # fully-connecter output layer\n",
    "        self.out = layers.Dense(units = num_classes)\n",
    "\n",
    "    # set forward pass\n",
    "    \n",
    "    def call(self, x, is_training = False):\n",
    "        \n",
    "        x = self.fc1(x)\n",
    "        x = self.fc2(x)\n",
    "        x = self.fc3(x)\n",
    "        x = self.fc4(x)        \n",
    "        x = self.out(x)\n",
    "        \n",
    "        if not is_training:\n",
    "            \n",
    "            # tf cross entropy expect logits without softmax, so only\n",
    "            # apply softmax when not training.\n",
    "            x = tf.nn.softmax(x)\n",
    "            \n",
    "        return x"
   ]
  },
  {
   "cell_type": "code",
   "execution_count": null,
   "id": "7b9993bf",
   "metadata": {},
   "outputs": [],
   "source": [
    "# build neural network model\n",
    "\n",
    "neural_net = NeuralNet()"
   ]
  },
  {
   "cell_type": "code",
   "execution_count": null,
   "id": "6436ea4e",
   "metadata": {},
   "outputs": [],
   "source": [
    "# initialize variables with Xavier uniform\n",
    "\n",
    "shape = (num_features, num_classes)\n",
    "initializer = tf.initializers.GlorotUniform()\n",
    "trainable_variables = tf.Variable(initializer(shape = shape))"
   ]
  },
  {
   "cell_type": "code",
   "execution_count": null,
   "id": "58a0789a",
   "metadata": {},
   "outputs": [],
   "source": [
    "# Cross-Entropy loss\n",
    "# note that this will apply 'softmax' to the logits\n",
    "\n",
    "def cross_entropy_loss(x, y):\n",
    "    \n",
    "    # convert labels to int 64 for tf cross-entropy function\n",
    "    y = tf.cast(y, tf.int64)\n",
    "    \n",
    "    # apply softmax to logits and compute cross-entropy\n",
    "    loss = tf.nn.sparse_softmax_cross_entropy_with_logits(labels = y, logits = x)\n",
    "    \n",
    "    # average loss across the batch\n",
    "    \n",
    "    return tf.reduce_mean(loss)"
   ]
  },
  {
   "cell_type": "code",
   "execution_count": null,
   "id": "d79eaeb1",
   "metadata": {},
   "outputs": [],
   "source": [
    "# accuracy metric\n",
    "\n",
    "def accuracy(y_pred, y_true):\n",
    "    \n",
    "    # predicted class is the index of highest score in prediction vector (i.e. argmax)\n",
    "    \n",
    "    correct_prediction = tf.equal(tf.argmax(y_pred, 1), tf.cast(y_true, tf.int64))\n",
    "    return tf.reduce_mean(tf.cast(correct_prediction, tf.float32), axis=-1)"
   ]
  },
  {
   "cell_type": "code",
   "execution_count": null,
   "id": "1a9101e7",
   "metadata": {},
   "outputs": [],
   "source": [
    "# Stochastic gradient descent optimizer\n",
    "\n",
    "optimizer = tf.keras.optimizers.SGD(learning_rate)\n",
    "\n",
    "# set up an optimization (forward propagation and backpropagation) process \n",
    "\n",
    "def run_optimization(x, y):\n",
    "    \n",
    "    # wrap computation inside a GradientTape for automatic differentiation\n",
    "    \n",
    "    with tf.GradientTape() as g:\n",
    "        \n",
    "        # forward pass\n",
    "        pred = neural_net(x, is_training = True)\n",
    "        \n",
    "        # compute loss\n",
    "        loss = cross_entropy_loss(pred, y)\n",
    "        \n",
    "    # variables to update, i.e. trainable variables\n",
    "    trainable_variables = neural_net.trainable_variables\n",
    "\n",
    "    # compute gradients\n",
    "    gradients = g.gradient(loss, trainable_variables)\n",
    "    \n",
    "    # apply the gradients to update 𝜃 and 𝜃_0  \n",
    "    optimizer.apply_gradients(zip(gradients, trainable_variables))"
   ]
  },
  {
   "cell_type": "code",
   "execution_count": null,
   "id": "e71b6771",
   "metadata": {},
   "outputs": [],
   "source": [
    "# run training for the given number of steps\n",
    "\n",
    "for step, (batch_x, batch_y) in enumerate(train_data.take(training_epochs), 1):\n",
    "    \n",
    "    # run the optimization process to update 𝜃 and 𝜃_0 values\n",
    "    \n",
    "    run_optimization(batch_x, batch_y)\n",
    "    \n",
    "    if step % display_step == 0:\n",
    "        pred = neural_net(batch_x, is_training = True)\n",
    "        loss = cross_entropy_loss(pred, batch_y)\n",
    "        acc = accuracy(pred, batch_y)\n",
    "        print(\"step: %i, loss: %f, accuracy: %f\" % (step, loss, acc))\n",
    "        \n",
    "# test the proposed model on validation set\n",
    "\n",
    "pred = neural_net(x_test, is_training = False)\n",
    "print(\"Test Accuracy: %f\" % accuracy(pred, y_test))"
   ]
  }
 ],
 "metadata": {
  "kernelspec": {
   "display_name": "Python 3 (ipykernel)",
   "language": "python",
   "name": "python3"
  },
  "language_info": {
   "codemirror_mode": {
    "name": "ipython",
    "version": 3
   },
   "file_extension": ".py",
   "mimetype": "text/x-python",
   "name": "python",
   "nbconvert_exporter": "python",
   "pygments_lexer": "ipython3",
   "version": "3.9.7"
  }
 },
 "nbformat": 4,
 "nbformat_minor": 5
}
